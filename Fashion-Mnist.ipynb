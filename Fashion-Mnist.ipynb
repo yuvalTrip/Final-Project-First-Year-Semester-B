{
 "cells": [
  {
   "cell_type": "markdown",
   "metadata": {},
   "source": [
    "# <b>Fashion-Mnist</b>\n"
   ]
  },
  {
   "cell_type": "markdown",
   "metadata": {},
   "source": [
    "# Intro\n"
   ]
  },
  {
   "cell_type": "markdown",
   "metadata": {},
   "source": [
    "The dataset consisting of a training set of 60,000 examples and a test set of 10,000 examples.<br>\n",
    "Each example is a 28x28 grayscale image, associated with a label from 10 classes.<br>\n",
    "Each training and test example is assigned to one of the following labels:<br>\n",
    "0 T-shirt/top<br>\n",
    "1 Trouser<br>\n",
    "2 Pullover<br>\n",
    "3 Dress<br>\n",
    "4 Coat<br>\n",
    "5 Sandal<br>\n",
    "6 Shirt<br>\n",
    "7 Sneaker<br>\n",
    "8 Bag<br>\n",
    "9 Ankle boot<br>"
   ]
  },
  {
   "cell_type": "markdown",
   "metadata": {},
   "source": [
    "# Loading libraries\n"
   ]
  },
  {
   "cell_type": "code",
   "execution_count": 1,
   "metadata": {},
   "outputs": [],
   "source": [
    "from matplotlib import pyplot\n",
    "import tensorflow as tf\n",
    "from sklearn.datasets import fetch_openml\n",
    "import matplotlib as mpl\n",
    "import matplotlib.pyplot as plt\n",
    "import pandas as pd\n",
    "import numpy as np\n"
   ]
  },
  {
   "cell_type": "markdown",
   "metadata": {},
   "source": [
    "# <b>Loading dataset</b>\n"
   ]
  },
  {
   "cell_type": "code",
   "execution_count": 2,
   "metadata": {},
   "outputs": [
    {
     "data": {
      "text/html": [
       "<div>\n",
       "<style scoped>\n",
       "    .dataframe tbody tr th:only-of-type {\n",
       "        vertical-align: middle;\n",
       "    }\n",
       "\n",
       "    .dataframe tbody tr th {\n",
       "        vertical-align: top;\n",
       "    }\n",
       "\n",
       "    .dataframe thead th {\n",
       "        text-align: right;\n",
       "    }\n",
       "</style>\n",
       "<table border=\"1\" class=\"dataframe\">\n",
       "  <thead>\n",
       "    <tr style=\"text-align: right;\">\n",
       "      <th></th>\n",
       "      <th>label</th>\n",
       "      <th>pixel1</th>\n",
       "      <th>pixel2</th>\n",
       "      <th>pixel3</th>\n",
       "      <th>pixel4</th>\n",
       "      <th>pixel5</th>\n",
       "      <th>pixel6</th>\n",
       "      <th>pixel7</th>\n",
       "      <th>pixel8</th>\n",
       "      <th>pixel9</th>\n",
       "      <th>...</th>\n",
       "      <th>pixel775</th>\n",
       "      <th>pixel776</th>\n",
       "      <th>pixel777</th>\n",
       "      <th>pixel778</th>\n",
       "      <th>pixel779</th>\n",
       "      <th>pixel780</th>\n",
       "      <th>pixel781</th>\n",
       "      <th>pixel782</th>\n",
       "      <th>pixel783</th>\n",
       "      <th>pixel784</th>\n",
       "    </tr>\n",
       "  </thead>\n",
       "  <tbody>\n",
       "    <tr>\n",
       "      <th>0</th>\n",
       "      <td>2</td>\n",
       "      <td>0</td>\n",
       "      <td>0</td>\n",
       "      <td>0</td>\n",
       "      <td>0</td>\n",
       "      <td>0</td>\n",
       "      <td>0</td>\n",
       "      <td>0</td>\n",
       "      <td>0</td>\n",
       "      <td>0</td>\n",
       "      <td>...</td>\n",
       "      <td>0</td>\n",
       "      <td>0</td>\n",
       "      <td>0</td>\n",
       "      <td>0</td>\n",
       "      <td>0</td>\n",
       "      <td>0</td>\n",
       "      <td>0</td>\n",
       "      <td>0</td>\n",
       "      <td>0</td>\n",
       "      <td>0</td>\n",
       "    </tr>\n",
       "    <tr>\n",
       "      <th>1</th>\n",
       "      <td>9</td>\n",
       "      <td>0</td>\n",
       "      <td>0</td>\n",
       "      <td>0</td>\n",
       "      <td>0</td>\n",
       "      <td>0</td>\n",
       "      <td>0</td>\n",
       "      <td>0</td>\n",
       "      <td>0</td>\n",
       "      <td>0</td>\n",
       "      <td>...</td>\n",
       "      <td>0</td>\n",
       "      <td>0</td>\n",
       "      <td>0</td>\n",
       "      <td>0</td>\n",
       "      <td>0</td>\n",
       "      <td>0</td>\n",
       "      <td>0</td>\n",
       "      <td>0</td>\n",
       "      <td>0</td>\n",
       "      <td>0</td>\n",
       "    </tr>\n",
       "    <tr>\n",
       "      <th>2</th>\n",
       "      <td>6</td>\n",
       "      <td>0</td>\n",
       "      <td>0</td>\n",
       "      <td>0</td>\n",
       "      <td>0</td>\n",
       "      <td>0</td>\n",
       "      <td>0</td>\n",
       "      <td>0</td>\n",
       "      <td>5</td>\n",
       "      <td>0</td>\n",
       "      <td>...</td>\n",
       "      <td>0</td>\n",
       "      <td>0</td>\n",
       "      <td>0</td>\n",
       "      <td>30</td>\n",
       "      <td>43</td>\n",
       "      <td>0</td>\n",
       "      <td>0</td>\n",
       "      <td>0</td>\n",
       "      <td>0</td>\n",
       "      <td>0</td>\n",
       "    </tr>\n",
       "    <tr>\n",
       "      <th>3</th>\n",
       "      <td>0</td>\n",
       "      <td>0</td>\n",
       "      <td>0</td>\n",
       "      <td>0</td>\n",
       "      <td>1</td>\n",
       "      <td>2</td>\n",
       "      <td>0</td>\n",
       "      <td>0</td>\n",
       "      <td>0</td>\n",
       "      <td>0</td>\n",
       "      <td>...</td>\n",
       "      <td>3</td>\n",
       "      <td>0</td>\n",
       "      <td>0</td>\n",
       "      <td>0</td>\n",
       "      <td>0</td>\n",
       "      <td>1</td>\n",
       "      <td>0</td>\n",
       "      <td>0</td>\n",
       "      <td>0</td>\n",
       "      <td>0</td>\n",
       "    </tr>\n",
       "    <tr>\n",
       "      <th>4</th>\n",
       "      <td>3</td>\n",
       "      <td>0</td>\n",
       "      <td>0</td>\n",
       "      <td>0</td>\n",
       "      <td>0</td>\n",
       "      <td>0</td>\n",
       "      <td>0</td>\n",
       "      <td>0</td>\n",
       "      <td>0</td>\n",
       "      <td>0</td>\n",
       "      <td>...</td>\n",
       "      <td>0</td>\n",
       "      <td>0</td>\n",
       "      <td>0</td>\n",
       "      <td>0</td>\n",
       "      <td>0</td>\n",
       "      <td>0</td>\n",
       "      <td>0</td>\n",
       "      <td>0</td>\n",
       "      <td>0</td>\n",
       "      <td>0</td>\n",
       "    </tr>\n",
       "    <tr>\n",
       "      <th>...</th>\n",
       "      <td>...</td>\n",
       "      <td>...</td>\n",
       "      <td>...</td>\n",
       "      <td>...</td>\n",
       "      <td>...</td>\n",
       "      <td>...</td>\n",
       "      <td>...</td>\n",
       "      <td>...</td>\n",
       "      <td>...</td>\n",
       "      <td>...</td>\n",
       "      <td>...</td>\n",
       "      <td>...</td>\n",
       "      <td>...</td>\n",
       "      <td>...</td>\n",
       "      <td>...</td>\n",
       "      <td>...</td>\n",
       "      <td>...</td>\n",
       "      <td>...</td>\n",
       "      <td>...</td>\n",
       "      <td>...</td>\n",
       "      <td>...</td>\n",
       "    </tr>\n",
       "    <tr>\n",
       "      <th>59995</th>\n",
       "      <td>9</td>\n",
       "      <td>0</td>\n",
       "      <td>0</td>\n",
       "      <td>0</td>\n",
       "      <td>0</td>\n",
       "      <td>0</td>\n",
       "      <td>0</td>\n",
       "      <td>0</td>\n",
       "      <td>0</td>\n",
       "      <td>0</td>\n",
       "      <td>...</td>\n",
       "      <td>0</td>\n",
       "      <td>0</td>\n",
       "      <td>0</td>\n",
       "      <td>0</td>\n",
       "      <td>0</td>\n",
       "      <td>0</td>\n",
       "      <td>0</td>\n",
       "      <td>0</td>\n",
       "      <td>0</td>\n",
       "      <td>0</td>\n",
       "    </tr>\n",
       "    <tr>\n",
       "      <th>59996</th>\n",
       "      <td>1</td>\n",
       "      <td>0</td>\n",
       "      <td>0</td>\n",
       "      <td>0</td>\n",
       "      <td>0</td>\n",
       "      <td>0</td>\n",
       "      <td>0</td>\n",
       "      <td>0</td>\n",
       "      <td>0</td>\n",
       "      <td>0</td>\n",
       "      <td>...</td>\n",
       "      <td>73</td>\n",
       "      <td>0</td>\n",
       "      <td>0</td>\n",
       "      <td>0</td>\n",
       "      <td>0</td>\n",
       "      <td>0</td>\n",
       "      <td>0</td>\n",
       "      <td>0</td>\n",
       "      <td>0</td>\n",
       "      <td>0</td>\n",
       "    </tr>\n",
       "    <tr>\n",
       "      <th>59997</th>\n",
       "      <td>8</td>\n",
       "      <td>0</td>\n",
       "      <td>0</td>\n",
       "      <td>0</td>\n",
       "      <td>0</td>\n",
       "      <td>0</td>\n",
       "      <td>0</td>\n",
       "      <td>0</td>\n",
       "      <td>0</td>\n",
       "      <td>0</td>\n",
       "      <td>...</td>\n",
       "      <td>160</td>\n",
       "      <td>162</td>\n",
       "      <td>163</td>\n",
       "      <td>135</td>\n",
       "      <td>94</td>\n",
       "      <td>0</td>\n",
       "      <td>0</td>\n",
       "      <td>0</td>\n",
       "      <td>0</td>\n",
       "      <td>0</td>\n",
       "    </tr>\n",
       "    <tr>\n",
       "      <th>59998</th>\n",
       "      <td>8</td>\n",
       "      <td>0</td>\n",
       "      <td>0</td>\n",
       "      <td>0</td>\n",
       "      <td>0</td>\n",
       "      <td>0</td>\n",
       "      <td>0</td>\n",
       "      <td>0</td>\n",
       "      <td>0</td>\n",
       "      <td>0</td>\n",
       "      <td>...</td>\n",
       "      <td>0</td>\n",
       "      <td>0</td>\n",
       "      <td>0</td>\n",
       "      <td>0</td>\n",
       "      <td>0</td>\n",
       "      <td>0</td>\n",
       "      <td>0</td>\n",
       "      <td>0</td>\n",
       "      <td>0</td>\n",
       "      <td>0</td>\n",
       "    </tr>\n",
       "    <tr>\n",
       "      <th>59999</th>\n",
       "      <td>7</td>\n",
       "      <td>0</td>\n",
       "      <td>0</td>\n",
       "      <td>0</td>\n",
       "      <td>0</td>\n",
       "      <td>0</td>\n",
       "      <td>0</td>\n",
       "      <td>0</td>\n",
       "      <td>0</td>\n",
       "      <td>0</td>\n",
       "      <td>...</td>\n",
       "      <td>0</td>\n",
       "      <td>0</td>\n",
       "      <td>0</td>\n",
       "      <td>0</td>\n",
       "      <td>0</td>\n",
       "      <td>0</td>\n",
       "      <td>0</td>\n",
       "      <td>0</td>\n",
       "      <td>0</td>\n",
       "      <td>0</td>\n",
       "    </tr>\n",
       "  </tbody>\n",
       "</table>\n",
       "<p>60000 rows × 785 columns</p>\n",
       "</div>"
      ],
      "text/plain": [
       "       label  pixel1  pixel2  pixel3  pixel4  pixel5  pixel6  pixel7  pixel8  \\\n",
       "0          2       0       0       0       0       0       0       0       0   \n",
       "1          9       0       0       0       0       0       0       0       0   \n",
       "2          6       0       0       0       0       0       0       0       5   \n",
       "3          0       0       0       0       1       2       0       0       0   \n",
       "4          3       0       0       0       0       0       0       0       0   \n",
       "...      ...     ...     ...     ...     ...     ...     ...     ...     ...   \n",
       "59995      9       0       0       0       0       0       0       0       0   \n",
       "59996      1       0       0       0       0       0       0       0       0   \n",
       "59997      8       0       0       0       0       0       0       0       0   \n",
       "59998      8       0       0       0       0       0       0       0       0   \n",
       "59999      7       0       0       0       0       0       0       0       0   \n",
       "\n",
       "       pixel9  ...  pixel775  pixel776  pixel777  pixel778  pixel779  \\\n",
       "0           0  ...         0         0         0         0         0   \n",
       "1           0  ...         0         0         0         0         0   \n",
       "2           0  ...         0         0         0        30        43   \n",
       "3           0  ...         3         0         0         0         0   \n",
       "4           0  ...         0         0         0         0         0   \n",
       "...       ...  ...       ...       ...       ...       ...       ...   \n",
       "59995       0  ...         0         0         0         0         0   \n",
       "59996       0  ...        73         0         0         0         0   \n",
       "59997       0  ...       160       162       163       135        94   \n",
       "59998       0  ...         0         0         0         0         0   \n",
       "59999       0  ...         0         0         0         0         0   \n",
       "\n",
       "       pixel780  pixel781  pixel782  pixel783  pixel784  \n",
       "0             0         0         0         0         0  \n",
       "1             0         0         0         0         0  \n",
       "2             0         0         0         0         0  \n",
       "3             1         0         0         0         0  \n",
       "4             0         0         0         0         0  \n",
       "...         ...       ...       ...       ...       ...  \n",
       "59995         0         0         0         0         0  \n",
       "59996         0         0         0         0         0  \n",
       "59997         0         0         0         0         0  \n",
       "59998         0         0         0         0         0  \n",
       "59999         0         0         0         0         0  \n",
       "\n",
       "[60000 rows x 785 columns]"
      ]
     },
     "execution_count": 2,
     "metadata": {},
     "output_type": "execute_result"
    }
   ],
   "source": [
    "data = pd.read_csv(r\"C:\\Users\\yuval\\fashion-mnist_train.csv\")\n",
    "data"
   ]
  },
  {
   "cell_type": "markdown",
   "metadata": {},
   "source": [
    "## Presenting an image for exampleHHHHHHHHHHHHHHHHHHHHHHHHHHHHHHH"
   ]
  },
  {
   "cell_type": "code",
   "execution_count": 4,
   "metadata": {},
   "outputs": [],
   "source": [
    "# Convert NumPy array back to Pillow image\n",
    "#img = Image.fromarray(img_array)\n"
   ]
  },
  {
   "cell_type": "markdown",
   "metadata": {},
   "source": [
    "# Data cleaning\n",
    "## <b>know and organize the dataset</b>"
   ]
  },
  {
   "cell_type": "code",
   "execution_count": 5,
   "metadata": {},
   "outputs": [
    {
     "data": {
      "text/plain": [
       "(60000, 785)"
      ]
     },
     "execution_count": 5,
     "metadata": {},
     "output_type": "execute_result"
    }
   ],
   "source": [
    "# check the shape of the DataFrame (rows, columns)\n",
    "data.shape #8101 colums because we add the DogORCat column"
   ]
  },
  {
   "cell_type": "markdown",
   "metadata": {},
   "source": [
    "**Explanation about the columns and rows:**<br>\n",
    "\n",
    "**What are the features?**<br>\n",
    "60000 rows- every row represent list of pixels in the image.<br>\n",
    "The first row of pixels in the image is the first 28 cells in a row in the df, the next 28 cells are the seconed row of pixels in the image, etc. .<br>\n",
    "784 columns of pixels- After I set a uniform size for all the images, the size is 28*28, therefore there are 784 rows, plus 1 row .\n",
    "\n",
    "\n",
    "**What is the response?**<br>\n",
    "label-What item of clothing is this from the list I have written above (in range of 1-9).<br>"
   ]
  },
  {
   "cell_type": "markdown",
   "metadata": {},
   "source": [
    "## <b>Duplicate Values</b>\n",
    "\n",
    "If there are duplicate values- means that specific image appear few times, therefore I would like to delete them."
   ]
  },
  {
   "cell_type": "code",
   "execution_count": 6,
   "metadata": {},
   "outputs": [
    {
     "data": {
      "text/plain": [
       "(59957, 785)"
      ]
     },
     "execution_count": 6,
     "metadata": {},
     "output_type": "execute_result"
    }
   ],
   "source": [
    "data=data.drop_duplicates()#By default, it removes duplicate rows based on all columns.\n",
    "\n",
    "data.shape"
   ]
  },
  {
   "cell_type": "markdown",
   "metadata": {},
   "source": [
    "**Conclusion**"
   ]
  },
  {
   "cell_type": "code",
   "execution_count": 7,
   "metadata": {},
   "outputs": [
    {
     "name": "stdout",
     "output_type": "stream",
     "text": [
      "Percent of duplicate images I deleted: 0.07166666666666667 %\n"
     ]
    }
   ],
   "source": [
    "#There were 60000 rows and now there are 59957 means we deleted 60000-59957=43 duplicate rows, we will write it at precentage:\n",
    "print (\"Percent of duplicate images I deleted:\", (43*100)/60000,\"%\")"
   ]
  },
  {
   "cell_type": "markdown",
   "metadata": {},
   "source": [
    "## <b>Invalid images</b>\n",
    "\n",
    "If there are invalid images such as black images or white images etc - therefore there will be same pixel value in all the row of the specific image, so I want to delete it.<br>\n",
    "In addition, If there are images with missing pixels, I would like to delete it too.<br>\n",
    "Examples for invalid images:"
   ]
  },
  {
   "attachments": {
    "invalid%20images.PNG": {
     "image/png": "[encoded data removed]"
    }
   },
   "cell_type": "markdown",
   "metadata": {},
   "source": [
    "![invalid%20images.PNG](attachment:invalid%20images.PNG)"
   ]
  },
  {
   "attachments": {
    "MissingPixel.PNG": {
     "image/png": "[encoded data removed]"
    }
   },
   "cell_type": "markdown",
   "metadata": {},
   "source": [
    "![MissingPixel.PNG](attachment:MissingPixel.PNG)"
   ]
  },
  {
   "cell_type": "code",
   "execution_count": 8,
   "metadata": {},
   "outputs": [
    {
     "data": {
      "text/plain": [
       "(59957, 785)"
      ]
     },
     "execution_count": 8,
     "metadata": {},
     "output_type": "execute_result"
    }
   ],
   "source": [
    "data=data[data.nunique(1)>1]\n",
    "data.shape"
   ]
  },
  {
   "cell_type": "markdown",
   "metadata": {},
   "source": [
    "**Conclusion**<br>\n",
    "The shape is the same, so we will conclude that there are no invalid images.<br>\n",
    "\n",
    "## <b>Nan Values</b>\n",
    "Another thing I would like to check is if there are any images that are missing pixels.<br>\n",
    "This will be expressed in df by having Nan values.<br>\n",
    "Lets check if there are Nan values."
   ]
  },
  {
   "cell_type": "code",
   "execution_count": 9,
   "metadata": {},
   "outputs": [
    {
     "name": "stdout",
     "output_type": "stream",
     "text": [
      "There are 0 null values in df.\n"
     ]
    }
   ],
   "source": [
    "#check for null values\n",
    "print(\"There are\",data.isnull().sum().sum(),\"null values in df.\")"
   ]
  },
  {
   "cell_type": "markdown",
   "metadata": {},
   "source": [
    "### Plot the distribution of the data"
   ]
  },
  {
   "cell_type": "code",
   "execution_count": 10,
   "metadata": {},
   "outputs": [
    {
     "data": {
      "image/png": "[encoded data removed]",
      "text/plain": [
       "<Figure size 432x288 with 1 Axes>"
      ]
     },
     "metadata": {
      "needs_background": "light"
     },
     "output_type": "display_data"
    }
   ],
   "source": [
    "data['label'].value_counts().plot.bar()\n",
    "plt.show()"
   ]
  },
  {
   "cell_type": "markdown",
   "metadata": {},
   "source": [
    "**Conclusion**<br>\n",
    "There is equal distribution of the data.\n",
    "\n",
    "# <b> Split </b>"
   ]
  },
  {
   "cell_type": "code",
   "execution_count": 11,
   "metadata": {},
   "outputs": [],
   "source": [
    "from sklearn.model_selection import train_test_split #to perform the splitting"
   ]
  },
  {
   "cell_type": "code",
   "execution_count": 12,
   "metadata": {},
   "outputs": [],
   "source": [
    "#split the data into labels and features \n",
    "y=data.label #label is the label we want to predict\n",
    "x=data.drop('label',axis=1)#use drop function to take all other data in x"
   ]
  },
  {
   "cell_type": "code",
   "execution_count": 13,
   "metadata": {},
   "outputs": [],
   "source": [
    "x_train,x_test,y_train,y_test=train_test_split(x,y,test_size=0.3,random_state=0)#we will tale 30% of the dataset to testing and the rest for training\n",
    "#by write random_state=42 we will get same data (same values) in train and test datasets every rime we ran this code."
   ]
  },
  {
   "cell_type": "markdown",
   "metadata": {},
   "source": [
    "# <b>Dimensionality Reduction </b>\n",
    "\n",
    "# PCA -Principal Component Analysis\n",
    "\n",
    "PCA is the most popular dimensionality reduction algorithm.<br>\n",
    "First it identifies the hyperplane that lies closest to the data, and then it projects the data onto it.<br>\n",
    "\n",
    "# Data Scaling \n",
    "\n",
    "By using PCA I will try to reduce those dimensions into smaller number of dimensions, which will be creating a new vector space. <br>\n",
    "First thing I want to do is **Min-Max scaling**.<br>\n",
    "Min-max scaling (normalization) is way to get all attributes to have the same scale values, by the way they are shifted and rescaled so that they end up ranging from 0 to 1.<br>\n",
    "We do this by subtracting the min value and dividing by the max minus the min.<br>\n",
    "Scikit-Learn provides a transformer called MinMaxScaler for this.<br>\n",
    "It has a feature_range hyperparameter that let change the range if, for some reason, you don’t want 0–1.<br>\n",
    "\n",
    "The main reason for doing Min-Max scaling, is that as it is possible to see the difference between the values of all coulumns will be very high.<br>\n",
    "\n",
    "As I read in web, for a grayscale images, the pixel value is a single number that represents the brightness of the pixel.<br>\n",
    "The most common pixel format is the byte image, where this number is stored as an 8-bit integer giving a **range of possible values from 0 to 255.**<br>\n",
    "Typically 0 is taken to be black, and 255 is taken to be white.<br>\n",
    "\n",
    "To represent color images, separate red, green and blue components must be specified for each pixel (assuming an RGB colorspace),<br>\n",
    "and so the pixel \"value\" is actually a vector of three numbers.<br>\n",
    "Often the three different components are stored as three separate \"grayscale\" images known as color planes (one for each of red, green and blue),<br>\n",
    "which have to be recombined when displaying or processing.<br>\n",
    "\n",
    "**Therefore, the range of the columns (beside the label column) is 0-255.**<br>\n",
    "It is also possible to see it by the methods:<br>\n",
    "data.max() <br>\n",
    "data.min() \n"
   ]
  },
  {
   "cell_type": "markdown",
   "metadata": {},
   "source": [
    "## Importing additional libraries"
   ]
  },
  {
   "cell_type": "code",
   "execution_count": 14,
   "metadata": {},
   "outputs": [],
   "source": [
    "from sklearn.preprocessing import MinMaxScaler\n"
   ]
  },
  {
   "cell_type": "code",
   "execution_count": 15,
   "metadata": {},
   "outputs": [
    {
     "data": {
      "text/html": [
       "<div>\n",
       "<style scoped>\n",
       "    .dataframe tbody tr th:only-of-type {\n",
       "        vertical-align: middle;\n",
       "    }\n",
       "\n",
       "    .dataframe tbody tr th {\n",
       "        vertical-align: top;\n",
       "    }\n",
       "\n",
       "    .dataframe thead th {\n",
       "        text-align: right;\n",
       "    }\n",
       "</style>\n",
       "<table border=\"1\" class=\"dataframe\">\n",
       "  <thead>\n",
       "    <tr style=\"text-align: right;\">\n",
       "      <th></th>\n",
       "      <th>0</th>\n",
       "      <th>1</th>\n",
       "      <th>2</th>\n",
       "      <th>3</th>\n",
       "      <th>4</th>\n",
       "      <th>5</th>\n",
       "      <th>6</th>\n",
       "      <th>7</th>\n",
       "      <th>8</th>\n",
       "      <th>9</th>\n",
       "      <th>...</th>\n",
       "      <th>774</th>\n",
       "      <th>775</th>\n",
       "      <th>776</th>\n",
       "      <th>777</th>\n",
       "      <th>778</th>\n",
       "      <th>779</th>\n",
       "      <th>780</th>\n",
       "      <th>781</th>\n",
       "      <th>782</th>\n",
       "      <th>783</th>\n",
       "    </tr>\n",
       "  </thead>\n",
       "  <tbody>\n",
       "    <tr>\n",
       "      <th>0</th>\n",
       "      <td>0.0</td>\n",
       "      <td>0.0</td>\n",
       "      <td>0.0</td>\n",
       "      <td>0.0</td>\n",
       "      <td>0.000000</td>\n",
       "      <td>0.0</td>\n",
       "      <td>0.004464</td>\n",
       "      <td>0.000000</td>\n",
       "      <td>0.000000</td>\n",
       "      <td>0.000000</td>\n",
       "      <td>...</td>\n",
       "      <td>0.000000</td>\n",
       "      <td>0.007843</td>\n",
       "      <td>0.000000</td>\n",
       "      <td>0.000000</td>\n",
       "      <td>0.411765</td>\n",
       "      <td>0.556863</td>\n",
       "      <td>0.729412</td>\n",
       "      <td>0.296443</td>\n",
       "      <td>0.000000</td>\n",
       "      <td>0.0</td>\n",
       "    </tr>\n",
       "    <tr>\n",
       "      <th>1</th>\n",
       "      <td>0.0</td>\n",
       "      <td>0.0</td>\n",
       "      <td>0.0</td>\n",
       "      <td>0.0</td>\n",
       "      <td>0.000000</td>\n",
       "      <td>0.0</td>\n",
       "      <td>0.000000</td>\n",
       "      <td>0.000000</td>\n",
       "      <td>0.000000</td>\n",
       "      <td>0.000000</td>\n",
       "      <td>...</td>\n",
       "      <td>0.000000</td>\n",
       "      <td>0.000000</td>\n",
       "      <td>0.000000</td>\n",
       "      <td>0.043137</td>\n",
       "      <td>0.098039</td>\n",
       "      <td>0.094118</td>\n",
       "      <td>0.086275</td>\n",
       "      <td>0.098814</td>\n",
       "      <td>0.035294</td>\n",
       "      <td>0.0</td>\n",
       "    </tr>\n",
       "    <tr>\n",
       "      <th>2</th>\n",
       "      <td>0.0</td>\n",
       "      <td>0.0</td>\n",
       "      <td>0.0</td>\n",
       "      <td>0.0</td>\n",
       "      <td>0.000000</td>\n",
       "      <td>0.0</td>\n",
       "      <td>0.000000</td>\n",
       "      <td>0.000000</td>\n",
       "      <td>0.000000</td>\n",
       "      <td>0.000000</td>\n",
       "      <td>...</td>\n",
       "      <td>0.000000</td>\n",
       "      <td>0.000000</td>\n",
       "      <td>0.000000</td>\n",
       "      <td>0.000000</td>\n",
       "      <td>0.000000</td>\n",
       "      <td>0.000000</td>\n",
       "      <td>0.000000</td>\n",
       "      <td>0.000000</td>\n",
       "      <td>0.000000</td>\n",
       "      <td>0.0</td>\n",
       "    </tr>\n",
       "    <tr>\n",
       "      <th>3</th>\n",
       "      <td>0.0</td>\n",
       "      <td>0.0</td>\n",
       "      <td>0.0</td>\n",
       "      <td>0.0</td>\n",
       "      <td>0.004405</td>\n",
       "      <td>0.0</td>\n",
       "      <td>0.026786</td>\n",
       "      <td>0.311111</td>\n",
       "      <td>0.413386</td>\n",
       "      <td>0.290196</td>\n",
       "      <td>...</td>\n",
       "      <td>0.000000</td>\n",
       "      <td>0.011765</td>\n",
       "      <td>0.000000</td>\n",
       "      <td>0.152941</td>\n",
       "      <td>0.513725</td>\n",
       "      <td>0.070588</td>\n",
       "      <td>0.000000</td>\n",
       "      <td>0.000000</td>\n",
       "      <td>0.000000</td>\n",
       "      <td>0.0</td>\n",
       "    </tr>\n",
       "    <tr>\n",
       "      <th>4</th>\n",
       "      <td>0.0</td>\n",
       "      <td>0.0</td>\n",
       "      <td>0.0</td>\n",
       "      <td>0.0</td>\n",
       "      <td>0.000000</td>\n",
       "      <td>0.0</td>\n",
       "      <td>0.000000</td>\n",
       "      <td>0.000000</td>\n",
       "      <td>0.000000</td>\n",
       "      <td>0.600000</td>\n",
       "      <td>...</td>\n",
       "      <td>0.086275</td>\n",
       "      <td>0.000000</td>\n",
       "      <td>0.000000</td>\n",
       "      <td>0.000000</td>\n",
       "      <td>0.000000</td>\n",
       "      <td>0.000000</td>\n",
       "      <td>0.000000</td>\n",
       "      <td>0.000000</td>\n",
       "      <td>0.000000</td>\n",
       "      <td>0.0</td>\n",
       "    </tr>\n",
       "    <tr>\n",
       "      <th>...</th>\n",
       "      <td>...</td>\n",
       "      <td>...</td>\n",
       "      <td>...</td>\n",
       "      <td>...</td>\n",
       "      <td>...</td>\n",
       "      <td>...</td>\n",
       "      <td>...</td>\n",
       "      <td>...</td>\n",
       "      <td>...</td>\n",
       "      <td>...</td>\n",
       "      <td>...</td>\n",
       "      <td>...</td>\n",
       "      <td>...</td>\n",
       "      <td>...</td>\n",
       "      <td>...</td>\n",
       "      <td>...</td>\n",
       "      <td>...</td>\n",
       "      <td>...</td>\n",
       "      <td>...</td>\n",
       "      <td>...</td>\n",
       "      <td>...</td>\n",
       "    </tr>\n",
       "    <tr>\n",
       "      <th>41964</th>\n",
       "      <td>0.0</td>\n",
       "      <td>0.0</td>\n",
       "      <td>0.0</td>\n",
       "      <td>0.0</td>\n",
       "      <td>0.000000</td>\n",
       "      <td>0.0</td>\n",
       "      <td>0.000000</td>\n",
       "      <td>0.000000</td>\n",
       "      <td>0.000000</td>\n",
       "      <td>0.000000</td>\n",
       "      <td>...</td>\n",
       "      <td>0.188235</td>\n",
       "      <td>0.066667</td>\n",
       "      <td>0.000000</td>\n",
       "      <td>0.000000</td>\n",
       "      <td>0.000000</td>\n",
       "      <td>0.000000</td>\n",
       "      <td>0.000000</td>\n",
       "      <td>0.000000</td>\n",
       "      <td>0.000000</td>\n",
       "      <td>0.0</td>\n",
       "    </tr>\n",
       "    <tr>\n",
       "      <th>41965</th>\n",
       "      <td>0.0</td>\n",
       "      <td>0.0</td>\n",
       "      <td>0.0</td>\n",
       "      <td>0.0</td>\n",
       "      <td>0.000000</td>\n",
       "      <td>0.0</td>\n",
       "      <td>0.000000</td>\n",
       "      <td>0.044444</td>\n",
       "      <td>0.346457</td>\n",
       "      <td>0.000000</td>\n",
       "      <td>...</td>\n",
       "      <td>0.368627</td>\n",
       "      <td>0.372549</td>\n",
       "      <td>0.423529</td>\n",
       "      <td>0.196078</td>\n",
       "      <td>0.000000</td>\n",
       "      <td>0.000000</td>\n",
       "      <td>0.000000</td>\n",
       "      <td>0.000000</td>\n",
       "      <td>0.000000</td>\n",
       "      <td>0.0</td>\n",
       "    </tr>\n",
       "    <tr>\n",
       "      <th>41966</th>\n",
       "      <td>0.0</td>\n",
       "      <td>0.0</td>\n",
       "      <td>0.0</td>\n",
       "      <td>0.0</td>\n",
       "      <td>0.000000</td>\n",
       "      <td>0.0</td>\n",
       "      <td>0.000000</td>\n",
       "      <td>0.000000</td>\n",
       "      <td>0.055118</td>\n",
       "      <td>0.384314</td>\n",
       "      <td>...</td>\n",
       "      <td>0.760784</td>\n",
       "      <td>0.282353</td>\n",
       "      <td>0.000000</td>\n",
       "      <td>0.000000</td>\n",
       "      <td>0.000000</td>\n",
       "      <td>0.000000</td>\n",
       "      <td>0.000000</td>\n",
       "      <td>0.000000</td>\n",
       "      <td>0.000000</td>\n",
       "      <td>0.0</td>\n",
       "    </tr>\n",
       "    <tr>\n",
       "      <th>41967</th>\n",
       "      <td>0.0</td>\n",
       "      <td>0.0</td>\n",
       "      <td>0.0</td>\n",
       "      <td>0.0</td>\n",
       "      <td>0.000000</td>\n",
       "      <td>0.0</td>\n",
       "      <td>0.000000</td>\n",
       "      <td>0.000000</td>\n",
       "      <td>0.000000</td>\n",
       "      <td>0.000000</td>\n",
       "      <td>...</td>\n",
       "      <td>0.000000</td>\n",
       "      <td>0.000000</td>\n",
       "      <td>0.000000</td>\n",
       "      <td>0.000000</td>\n",
       "      <td>0.000000</td>\n",
       "      <td>0.000000</td>\n",
       "      <td>0.000000</td>\n",
       "      <td>0.000000</td>\n",
       "      <td>0.000000</td>\n",
       "      <td>0.0</td>\n",
       "    </tr>\n",
       "    <tr>\n",
       "      <th>41968</th>\n",
       "      <td>0.0</td>\n",
       "      <td>0.0</td>\n",
       "      <td>0.0</td>\n",
       "      <td>0.0</td>\n",
       "      <td>0.000000</td>\n",
       "      <td>0.0</td>\n",
       "      <td>0.000000</td>\n",
       "      <td>0.000000</td>\n",
       "      <td>0.000000</td>\n",
       "      <td>0.588235</td>\n",
       "      <td>...</td>\n",
       "      <td>0.196078</td>\n",
       "      <td>0.058824</td>\n",
       "      <td>0.000000</td>\n",
       "      <td>0.000000</td>\n",
       "      <td>0.000000</td>\n",
       "      <td>0.000000</td>\n",
       "      <td>0.000000</td>\n",
       "      <td>0.000000</td>\n",
       "      <td>0.000000</td>\n",
       "      <td>0.0</td>\n",
       "    </tr>\n",
       "  </tbody>\n",
       "</table>\n",
       "<p>41969 rows × 784 columns</p>\n",
       "</div>"
      ],
      "text/plain": [
       "       0    1    2    3         4    5         6         7         8    \\\n",
       "0      0.0  0.0  0.0  0.0  0.000000  0.0  0.004464  0.000000  0.000000   \n",
       "1      0.0  0.0  0.0  0.0  0.000000  0.0  0.000000  0.000000  0.000000   \n",
       "2      0.0  0.0  0.0  0.0  0.000000  0.0  0.000000  0.000000  0.000000   \n",
       "3      0.0  0.0  0.0  0.0  0.004405  0.0  0.026786  0.311111  0.413386   \n",
       "4      0.0  0.0  0.0  0.0  0.000000  0.0  0.000000  0.000000  0.000000   \n",
       "...    ...  ...  ...  ...       ...  ...       ...       ...       ...   \n",
       "41964  0.0  0.0  0.0  0.0  0.000000  0.0  0.000000  0.000000  0.000000   \n",
       "41965  0.0  0.0  0.0  0.0  0.000000  0.0  0.000000  0.044444  0.346457   \n",
       "41966  0.0  0.0  0.0  0.0  0.000000  0.0  0.000000  0.000000  0.055118   \n",
       "41967  0.0  0.0  0.0  0.0  0.000000  0.0  0.000000  0.000000  0.000000   \n",
       "41968  0.0  0.0  0.0  0.0  0.000000  0.0  0.000000  0.000000  0.000000   \n",
       "\n",
       "            9    ...       774       775       776       777       778  \\\n",
       "0      0.000000  ...  0.000000  0.007843  0.000000  0.000000  0.411765   \n",
       "1      0.000000  ...  0.000000  0.000000  0.000000  0.043137  0.098039   \n",
       "2      0.000000  ...  0.000000  0.000000  0.000000  0.000000  0.000000   \n",
       "3      0.290196  ...  0.000000  0.011765  0.000000  0.152941  0.513725   \n",
       "4      0.600000  ...  0.086275  0.000000  0.000000  0.000000  0.000000   \n",
       "...         ...  ...       ...       ...       ...       ...       ...   \n",
       "41964  0.000000  ...  0.188235  0.066667  0.000000  0.000000  0.000000   \n",
       "41965  0.000000  ...  0.368627  0.372549  0.423529  0.196078  0.000000   \n",
       "41966  0.384314  ...  0.760784  0.282353  0.000000  0.000000  0.000000   \n",
       "41967  0.000000  ...  0.000000  0.000000  0.000000  0.000000  0.000000   \n",
       "41968  0.588235  ...  0.196078  0.058824  0.000000  0.000000  0.000000   \n",
       "\n",
       "            779       780       781       782  783  \n",
       "0      0.556863  0.729412  0.296443  0.000000  0.0  \n",
       "1      0.094118  0.086275  0.098814  0.035294  0.0  \n",
       "2      0.000000  0.000000  0.000000  0.000000  0.0  \n",
       "3      0.070588  0.000000  0.000000  0.000000  0.0  \n",
       "4      0.000000  0.000000  0.000000  0.000000  0.0  \n",
       "...         ...       ...       ...       ...  ...  \n",
       "41964  0.000000  0.000000  0.000000  0.000000  0.0  \n",
       "41965  0.000000  0.000000  0.000000  0.000000  0.0  \n",
       "41966  0.000000  0.000000  0.000000  0.000000  0.0  \n",
       "41967  0.000000  0.000000  0.000000  0.000000  0.0  \n",
       "41968  0.000000  0.000000  0.000000  0.000000  0.0  \n",
       "\n",
       "[41969 rows x 784 columns]"
      ]
     },
     "execution_count": 15,
     "metadata": {},
     "output_type": "execute_result"
    }
   ],
   "source": [
    "#We will scale the x_train set\n",
    "scaler = MinMaxScaler()\n",
    "scaler.fit(x_train)#this is the train part from the secondary split\n",
    "\n",
    "scaled_data=scaler.transform(x_train)# We get array \n",
    "x_train_scaled= pd.DataFrame(scaled_data)#turn into df\n",
    "x_train_scaled"
   ]
  },
  {
   "cell_type": "code",
   "execution_count": 16,
   "metadata": {},
   "outputs": [
    {
     "data": {
      "text/html": [
       "<div>\n",
       "<style scoped>\n",
       "    .dataframe tbody tr th:only-of-type {\n",
       "        vertical-align: middle;\n",
       "    }\n",
       "\n",
       "    .dataframe tbody tr th {\n",
       "        vertical-align: top;\n",
       "    }\n",
       "\n",
       "    .dataframe thead th {\n",
       "        text-align: right;\n",
       "    }\n",
       "</style>\n",
       "<table border=\"1\" class=\"dataframe\">\n",
       "  <thead>\n",
       "    <tr style=\"text-align: right;\">\n",
       "      <th></th>\n",
       "      <th>0</th>\n",
       "      <th>1</th>\n",
       "      <th>2</th>\n",
       "      <th>3</th>\n",
       "      <th>4</th>\n",
       "      <th>5</th>\n",
       "      <th>6</th>\n",
       "      <th>7</th>\n",
       "      <th>8</th>\n",
       "      <th>9</th>\n",
       "      <th>...</th>\n",
       "      <th>774</th>\n",
       "      <th>775</th>\n",
       "      <th>776</th>\n",
       "      <th>777</th>\n",
       "      <th>778</th>\n",
       "      <th>779</th>\n",
       "      <th>780</th>\n",
       "      <th>781</th>\n",
       "      <th>782</th>\n",
       "      <th>783</th>\n",
       "    </tr>\n",
       "  </thead>\n",
       "  <tbody>\n",
       "    <tr>\n",
       "      <th>0</th>\n",
       "      <td>0.0</td>\n",
       "      <td>0.0</td>\n",
       "      <td>0.0</td>\n",
       "      <td>0.0</td>\n",
       "      <td>0.000000</td>\n",
       "      <td>0.000000</td>\n",
       "      <td>0.000000</td>\n",
       "      <td>0.000000</td>\n",
       "      <td>0.000000</td>\n",
       "      <td>0.015686</td>\n",
       "      <td>...</td>\n",
       "      <td>0.709804</td>\n",
       "      <td>0.701961</td>\n",
       "      <td>0.729412</td>\n",
       "      <td>0.792157</td>\n",
       "      <td>0.788235</td>\n",
       "      <td>0.890196</td>\n",
       "      <td>0.0</td>\n",
       "      <td>0.0</td>\n",
       "      <td>0.0</td>\n",
       "      <td>0.0</td>\n",
       "    </tr>\n",
       "    <tr>\n",
       "      <th>1</th>\n",
       "      <td>0.0</td>\n",
       "      <td>0.0</td>\n",
       "      <td>0.0</td>\n",
       "      <td>0.0</td>\n",
       "      <td>0.000000</td>\n",
       "      <td>0.000000</td>\n",
       "      <td>0.000000</td>\n",
       "      <td>0.000000</td>\n",
       "      <td>0.000000</td>\n",
       "      <td>0.000000</td>\n",
       "      <td>...</td>\n",
       "      <td>0.000000</td>\n",
       "      <td>0.000000</td>\n",
       "      <td>0.000000</td>\n",
       "      <td>0.000000</td>\n",
       "      <td>0.000000</td>\n",
       "      <td>0.000000</td>\n",
       "      <td>0.0</td>\n",
       "      <td>0.0</td>\n",
       "      <td>0.0</td>\n",
       "      <td>0.0</td>\n",
       "    </tr>\n",
       "    <tr>\n",
       "      <th>2</th>\n",
       "      <td>0.0</td>\n",
       "      <td>0.0</td>\n",
       "      <td>0.0</td>\n",
       "      <td>0.0</td>\n",
       "      <td>0.000000</td>\n",
       "      <td>0.000000</td>\n",
       "      <td>0.000000</td>\n",
       "      <td>0.000000</td>\n",
       "      <td>0.000000</td>\n",
       "      <td>0.031373</td>\n",
       "      <td>...</td>\n",
       "      <td>0.474510</td>\n",
       "      <td>0.262745</td>\n",
       "      <td>0.000000</td>\n",
       "      <td>0.000000</td>\n",
       "      <td>0.043137</td>\n",
       "      <td>0.000000</td>\n",
       "      <td>0.0</td>\n",
       "      <td>0.0</td>\n",
       "      <td>0.0</td>\n",
       "      <td>0.0</td>\n",
       "    </tr>\n",
       "    <tr>\n",
       "      <th>3</th>\n",
       "      <td>0.0</td>\n",
       "      <td>0.0</td>\n",
       "      <td>0.0</td>\n",
       "      <td>0.0</td>\n",
       "      <td>0.000000</td>\n",
       "      <td>0.000000</td>\n",
       "      <td>0.000000</td>\n",
       "      <td>0.000000</td>\n",
       "      <td>0.000000</td>\n",
       "      <td>0.000000</td>\n",
       "      <td>...</td>\n",
       "      <td>0.674510</td>\n",
       "      <td>0.647059</td>\n",
       "      <td>0.623529</td>\n",
       "      <td>0.023529</td>\n",
       "      <td>0.000000</td>\n",
       "      <td>0.007843</td>\n",
       "      <td>0.0</td>\n",
       "      <td>0.0</td>\n",
       "      <td>0.0</td>\n",
       "      <td>0.0</td>\n",
       "    </tr>\n",
       "    <tr>\n",
       "      <th>4</th>\n",
       "      <td>0.0</td>\n",
       "      <td>0.0</td>\n",
       "      <td>0.0</td>\n",
       "      <td>0.0</td>\n",
       "      <td>0.000000</td>\n",
       "      <td>0.000000</td>\n",
       "      <td>0.000000</td>\n",
       "      <td>0.000000</td>\n",
       "      <td>0.000000</td>\n",
       "      <td>0.000000</td>\n",
       "      <td>...</td>\n",
       "      <td>0.494118</td>\n",
       "      <td>0.635294</td>\n",
       "      <td>0.160784</td>\n",
       "      <td>0.000000</td>\n",
       "      <td>0.396078</td>\n",
       "      <td>0.203922</td>\n",
       "      <td>0.0</td>\n",
       "      <td>0.0</td>\n",
       "      <td>0.0</td>\n",
       "      <td>0.0</td>\n",
       "    </tr>\n",
       "    <tr>\n",
       "      <th>...</th>\n",
       "      <td>...</td>\n",
       "      <td>...</td>\n",
       "      <td>...</td>\n",
       "      <td>...</td>\n",
       "      <td>...</td>\n",
       "      <td>...</td>\n",
       "      <td>...</td>\n",
       "      <td>...</td>\n",
       "      <td>...</td>\n",
       "      <td>...</td>\n",
       "      <td>...</td>\n",
       "      <td>...</td>\n",
       "      <td>...</td>\n",
       "      <td>...</td>\n",
       "      <td>...</td>\n",
       "      <td>...</td>\n",
       "      <td>...</td>\n",
       "      <td>...</td>\n",
       "      <td>...</td>\n",
       "      <td>...</td>\n",
       "      <td>...</td>\n",
       "    </tr>\n",
       "    <tr>\n",
       "      <th>17983</th>\n",
       "      <td>0.0</td>\n",
       "      <td>0.0</td>\n",
       "      <td>0.0</td>\n",
       "      <td>0.0</td>\n",
       "      <td>0.000000</td>\n",
       "      <td>0.000000</td>\n",
       "      <td>0.000000</td>\n",
       "      <td>0.000000</td>\n",
       "      <td>0.000000</td>\n",
       "      <td>0.000000</td>\n",
       "      <td>...</td>\n",
       "      <td>0.682353</td>\n",
       "      <td>0.690196</td>\n",
       "      <td>0.709804</td>\n",
       "      <td>0.105882</td>\n",
       "      <td>0.000000</td>\n",
       "      <td>0.000000</td>\n",
       "      <td>0.0</td>\n",
       "      <td>0.0</td>\n",
       "      <td>0.0</td>\n",
       "      <td>0.0</td>\n",
       "    </tr>\n",
       "    <tr>\n",
       "      <th>17984</th>\n",
       "      <td>0.0</td>\n",
       "      <td>0.0</td>\n",
       "      <td>0.0</td>\n",
       "      <td>0.0</td>\n",
       "      <td>0.000000</td>\n",
       "      <td>0.000000</td>\n",
       "      <td>0.000000</td>\n",
       "      <td>0.000000</td>\n",
       "      <td>0.000000</td>\n",
       "      <td>0.000000</td>\n",
       "      <td>...</td>\n",
       "      <td>0.349020</td>\n",
       "      <td>0.415686</td>\n",
       "      <td>0.266667</td>\n",
       "      <td>0.000000</td>\n",
       "      <td>0.000000</td>\n",
       "      <td>0.000000</td>\n",
       "      <td>0.0</td>\n",
       "      <td>0.0</td>\n",
       "      <td>0.0</td>\n",
       "      <td>0.0</td>\n",
       "    </tr>\n",
       "    <tr>\n",
       "      <th>17985</th>\n",
       "      <td>0.0</td>\n",
       "      <td>0.0</td>\n",
       "      <td>0.0</td>\n",
       "      <td>0.0</td>\n",
       "      <td>0.000000</td>\n",
       "      <td>0.000000</td>\n",
       "      <td>0.000000</td>\n",
       "      <td>0.000000</td>\n",
       "      <td>0.000000</td>\n",
       "      <td>0.027451</td>\n",
       "      <td>...</td>\n",
       "      <td>0.101961</td>\n",
       "      <td>0.121569</td>\n",
       "      <td>0.086275</td>\n",
       "      <td>0.000000</td>\n",
       "      <td>0.000000</td>\n",
       "      <td>0.000000</td>\n",
       "      <td>0.0</td>\n",
       "      <td>0.0</td>\n",
       "      <td>0.0</td>\n",
       "      <td>0.0</td>\n",
       "    </tr>\n",
       "    <tr>\n",
       "      <th>17986</th>\n",
       "      <td>0.0</td>\n",
       "      <td>0.0</td>\n",
       "      <td>0.0</td>\n",
       "      <td>0.0</td>\n",
       "      <td>0.000000</td>\n",
       "      <td>0.000000</td>\n",
       "      <td>0.000000</td>\n",
       "      <td>0.000000</td>\n",
       "      <td>0.000000</td>\n",
       "      <td>0.000000</td>\n",
       "      <td>...</td>\n",
       "      <td>0.000000</td>\n",
       "      <td>0.000000</td>\n",
       "      <td>0.000000</td>\n",
       "      <td>0.000000</td>\n",
       "      <td>0.000000</td>\n",
       "      <td>0.000000</td>\n",
       "      <td>0.0</td>\n",
       "      <td>0.0</td>\n",
       "      <td>0.0</td>\n",
       "      <td>0.0</td>\n",
       "    </tr>\n",
       "    <tr>\n",
       "      <th>17987</th>\n",
       "      <td>0.0</td>\n",
       "      <td>0.0</td>\n",
       "      <td>0.0</td>\n",
       "      <td>0.0</td>\n",
       "      <td>0.162996</td>\n",
       "      <td>0.183406</td>\n",
       "      <td>0.133929</td>\n",
       "      <td>0.168889</td>\n",
       "      <td>0.165354</td>\n",
       "      <td>0.149020</td>\n",
       "      <td>...</td>\n",
       "      <td>0.235294</td>\n",
       "      <td>0.164706</td>\n",
       "      <td>0.172549</td>\n",
       "      <td>0.129412</td>\n",
       "      <td>0.000000</td>\n",
       "      <td>0.003922</td>\n",
       "      <td>0.0</td>\n",
       "      <td>0.0</td>\n",
       "      <td>0.0</td>\n",
       "      <td>0.0</td>\n",
       "    </tr>\n",
       "  </tbody>\n",
       "</table>\n",
       "<p>17988 rows × 784 columns</p>\n",
       "</div>"
      ],
      "text/plain": [
       "       0    1    2    3         4         5         6         7         8    \\\n",
       "0      0.0  0.0  0.0  0.0  0.000000  0.000000  0.000000  0.000000  0.000000   \n",
       "1      0.0  0.0  0.0  0.0  0.000000  0.000000  0.000000  0.000000  0.000000   \n",
       "2      0.0  0.0  0.0  0.0  0.000000  0.000000  0.000000  0.000000  0.000000   \n",
       "3      0.0  0.0  0.0  0.0  0.000000  0.000000  0.000000  0.000000  0.000000   \n",
       "4      0.0  0.0  0.0  0.0  0.000000  0.000000  0.000000  0.000000  0.000000   \n",
       "...    ...  ...  ...  ...       ...       ...       ...       ...       ...   \n",
       "17983  0.0  0.0  0.0  0.0  0.000000  0.000000  0.000000  0.000000  0.000000   \n",
       "17984  0.0  0.0  0.0  0.0  0.000000  0.000000  0.000000  0.000000  0.000000   \n",
       "17985  0.0  0.0  0.0  0.0  0.000000  0.000000  0.000000  0.000000  0.000000   \n",
       "17986  0.0  0.0  0.0  0.0  0.000000  0.000000  0.000000  0.000000  0.000000   \n",
       "17987  0.0  0.0  0.0  0.0  0.162996  0.183406  0.133929  0.168889  0.165354   \n",
       "\n",
       "            9    ...       774       775       776       777       778  \\\n",
       "0      0.015686  ...  0.709804  0.701961  0.729412  0.792157  0.788235   \n",
       "1      0.000000  ...  0.000000  0.000000  0.000000  0.000000  0.000000   \n",
       "2      0.031373  ...  0.474510  0.262745  0.000000  0.000000  0.043137   \n",
       "3      0.000000  ...  0.674510  0.647059  0.623529  0.023529  0.000000   \n",
       "4      0.000000  ...  0.494118  0.635294  0.160784  0.000000  0.396078   \n",
       "...         ...  ...       ...       ...       ...       ...       ...   \n",
       "17983  0.000000  ...  0.682353  0.690196  0.709804  0.105882  0.000000   \n",
       "17984  0.000000  ...  0.349020  0.415686  0.266667  0.000000  0.000000   \n",
       "17985  0.027451  ...  0.101961  0.121569  0.086275  0.000000  0.000000   \n",
       "17986  0.000000  ...  0.000000  0.000000  0.000000  0.000000  0.000000   \n",
       "17987  0.149020  ...  0.235294  0.164706  0.172549  0.129412  0.000000   \n",
       "\n",
       "            779  780  781  782  783  \n",
       "0      0.890196  0.0  0.0  0.0  0.0  \n",
       "1      0.000000  0.0  0.0  0.0  0.0  \n",
       "2      0.000000  0.0  0.0  0.0  0.0  \n",
       "3      0.007843  0.0  0.0  0.0  0.0  \n",
       "4      0.203922  0.0  0.0  0.0  0.0  \n",
       "...         ...  ...  ...  ...  ...  \n",
       "17983  0.000000  0.0  0.0  0.0  0.0  \n",
       "17984  0.000000  0.0  0.0  0.0  0.0  \n",
       "17985  0.000000  0.0  0.0  0.0  0.0  \n",
       "17986  0.000000  0.0  0.0  0.0  0.0  \n",
       "17987  0.003922  0.0  0.0  0.0  0.0  \n",
       "\n",
       "[17988 rows x 784 columns]"
      ]
     },
     "execution_count": 16,
     "metadata": {},
     "output_type": "execute_result"
    }
   ],
   "source": [
    "#We will scale the x_test set\n",
    "scaled_data_test=scaler.transform(x_test)# We get array \n",
    "x_test_scaled= pd.DataFrame(scaled_data_test)#turn into df\n",
    "x_test_scaled"
   ]
  },
  {
   "cell_type": "markdown",
   "metadata": {},
   "source": [
    "We can see the data has been converted into new dataframe , and this is based on the standard deviation as 1, and mean is equal to 0. <br>\n",
    "Now we will apply the PCA.<br>"
   ]
  },
  {
   "cell_type": "code",
   "execution_count": 17,
   "metadata": {},
   "outputs": [
    {
     "data": {
      "text/plain": [
       "(41969, 784)"
      ]
     },
     "execution_count": 17,
     "metadata": {},
     "output_type": "execute_result"
    }
   ],
   "source": [
    "x_train_scaled.shape"
   ]
  },
  {
   "cell_type": "markdown",
   "metadata": {},
   "source": [
    "# Back to PCA\n",
    "\n",
    "## Importing additional libraries\n"
   ]
  },
  {
   "cell_type": "code",
   "execution_count": 18,
   "metadata": {},
   "outputs": [],
   "source": [
    "from sklearn.decomposition import PCA\n",
    "from sklearn import preprocessing #this package gives us functions for scaling the data before performing PCA\n"
   ]
  },
  {
   "cell_type": "markdown",
   "metadata": {},
   "source": [
    "Before I will do the PCA, Iwant to see again the data: "
   ]
  },
  {
   "cell_type": "code",
   "execution_count": 19,
   "metadata": {},
   "outputs": [
    {
     "data": {
      "text/html": [
       "<div>\n",
       "<style scoped>\n",
       "    .dataframe tbody tr th:only-of-type {\n",
       "        vertical-align: middle;\n",
       "    }\n",
       "\n",
       "    .dataframe tbody tr th {\n",
       "        vertical-align: top;\n",
       "    }\n",
       "\n",
       "    .dataframe thead th {\n",
       "        text-align: right;\n",
       "    }\n",
       "</style>\n",
       "<table border=\"1\" class=\"dataframe\">\n",
       "  <thead>\n",
       "    <tr style=\"text-align: right;\">\n",
       "      <th></th>\n",
       "      <th>0</th>\n",
       "      <th>1</th>\n",
       "      <th>2</th>\n",
       "      <th>3</th>\n",
       "      <th>4</th>\n",
       "      <th>5</th>\n",
       "      <th>6</th>\n",
       "      <th>7</th>\n",
       "      <th>8</th>\n",
       "      <th>9</th>\n",
       "      <th>...</th>\n",
       "      <th>774</th>\n",
       "      <th>775</th>\n",
       "      <th>776</th>\n",
       "      <th>777</th>\n",
       "      <th>778</th>\n",
       "      <th>779</th>\n",
       "      <th>780</th>\n",
       "      <th>781</th>\n",
       "      <th>782</th>\n",
       "      <th>783</th>\n",
       "    </tr>\n",
       "  </thead>\n",
       "  <tbody>\n",
       "    <tr>\n",
       "      <th>41959</th>\n",
       "      <td>0.0</td>\n",
       "      <td>0.0</td>\n",
       "      <td>0.0</td>\n",
       "      <td>0.0</td>\n",
       "      <td>0.0</td>\n",
       "      <td>0.0</td>\n",
       "      <td>0.0</td>\n",
       "      <td>0.000000</td>\n",
       "      <td>0.000000</td>\n",
       "      <td>0.000000</td>\n",
       "      <td>...</td>\n",
       "      <td>0.000000</td>\n",
       "      <td>0.000000</td>\n",
       "      <td>0.000000</td>\n",
       "      <td>0.000000</td>\n",
       "      <td>0.0</td>\n",
       "      <td>0.0</td>\n",
       "      <td>0.0</td>\n",
       "      <td>0.0</td>\n",
       "      <td>0.0</td>\n",
       "      <td>0.0</td>\n",
       "    </tr>\n",
       "    <tr>\n",
       "      <th>41960</th>\n",
       "      <td>0.0</td>\n",
       "      <td>0.0</td>\n",
       "      <td>0.0</td>\n",
       "      <td>0.0</td>\n",
       "      <td>0.0</td>\n",
       "      <td>0.0</td>\n",
       "      <td>0.0</td>\n",
       "      <td>0.000000</td>\n",
       "      <td>0.000000</td>\n",
       "      <td>0.000000</td>\n",
       "      <td>...</td>\n",
       "      <td>0.000000</td>\n",
       "      <td>0.000000</td>\n",
       "      <td>0.000000</td>\n",
       "      <td>0.000000</td>\n",
       "      <td>0.0</td>\n",
       "      <td>0.0</td>\n",
       "      <td>0.0</td>\n",
       "      <td>0.0</td>\n",
       "      <td>0.0</td>\n",
       "      <td>0.0</td>\n",
       "    </tr>\n",
       "    <tr>\n",
       "      <th>41961</th>\n",
       "      <td>0.0</td>\n",
       "      <td>0.0</td>\n",
       "      <td>0.0</td>\n",
       "      <td>0.0</td>\n",
       "      <td>0.0</td>\n",
       "      <td>0.0</td>\n",
       "      <td>0.0</td>\n",
       "      <td>0.000000</td>\n",
       "      <td>0.000000</td>\n",
       "      <td>0.000000</td>\n",
       "      <td>...</td>\n",
       "      <td>0.019608</td>\n",
       "      <td>0.027451</td>\n",
       "      <td>0.043137</td>\n",
       "      <td>0.066667</td>\n",
       "      <td>0.0</td>\n",
       "      <td>0.0</td>\n",
       "      <td>0.0</td>\n",
       "      <td>0.0</td>\n",
       "      <td>0.0</td>\n",
       "      <td>0.0</td>\n",
       "    </tr>\n",
       "    <tr>\n",
       "      <th>41962</th>\n",
       "      <td>0.0</td>\n",
       "      <td>0.0</td>\n",
       "      <td>0.0</td>\n",
       "      <td>0.0</td>\n",
       "      <td>0.0</td>\n",
       "      <td>0.0</td>\n",
       "      <td>0.0</td>\n",
       "      <td>0.000000</td>\n",
       "      <td>0.000000</td>\n",
       "      <td>0.000000</td>\n",
       "      <td>...</td>\n",
       "      <td>0.000000</td>\n",
       "      <td>0.000000</td>\n",
       "      <td>0.000000</td>\n",
       "      <td>0.000000</td>\n",
       "      <td>0.0</td>\n",
       "      <td>0.0</td>\n",
       "      <td>0.0</td>\n",
       "      <td>0.0</td>\n",
       "      <td>0.0</td>\n",
       "      <td>0.0</td>\n",
       "    </tr>\n",
       "    <tr>\n",
       "      <th>41963</th>\n",
       "      <td>0.0</td>\n",
       "      <td>0.0</td>\n",
       "      <td>0.0</td>\n",
       "      <td>0.0</td>\n",
       "      <td>0.0</td>\n",
       "      <td>0.0</td>\n",
       "      <td>0.0</td>\n",
       "      <td>0.000000</td>\n",
       "      <td>0.000000</td>\n",
       "      <td>0.000000</td>\n",
       "      <td>...</td>\n",
       "      <td>0.000000</td>\n",
       "      <td>0.000000</td>\n",
       "      <td>0.000000</td>\n",
       "      <td>0.000000</td>\n",
       "      <td>0.0</td>\n",
       "      <td>0.0</td>\n",
       "      <td>0.0</td>\n",
       "      <td>0.0</td>\n",
       "      <td>0.0</td>\n",
       "      <td>0.0</td>\n",
       "    </tr>\n",
       "    <tr>\n",
       "      <th>41964</th>\n",
       "      <td>0.0</td>\n",
       "      <td>0.0</td>\n",
       "      <td>0.0</td>\n",
       "      <td>0.0</td>\n",
       "      <td>0.0</td>\n",
       "      <td>0.0</td>\n",
       "      <td>0.0</td>\n",
       "      <td>0.000000</td>\n",
       "      <td>0.000000</td>\n",
       "      <td>0.000000</td>\n",
       "      <td>...</td>\n",
       "      <td>0.188235</td>\n",
       "      <td>0.066667</td>\n",
       "      <td>0.000000</td>\n",
       "      <td>0.000000</td>\n",
       "      <td>0.0</td>\n",
       "      <td>0.0</td>\n",
       "      <td>0.0</td>\n",
       "      <td>0.0</td>\n",
       "      <td>0.0</td>\n",
       "      <td>0.0</td>\n",
       "    </tr>\n",
       "    <tr>\n",
       "      <th>41965</th>\n",
       "      <td>0.0</td>\n",
       "      <td>0.0</td>\n",
       "      <td>0.0</td>\n",
       "      <td>0.0</td>\n",
       "      <td>0.0</td>\n",
       "      <td>0.0</td>\n",
       "      <td>0.0</td>\n",
       "      <td>0.044444</td>\n",
       "      <td>0.346457</td>\n",
       "      <td>0.000000</td>\n",
       "      <td>...</td>\n",
       "      <td>0.368627</td>\n",
       "      <td>0.372549</td>\n",
       "      <td>0.423529</td>\n",
       "      <td>0.196078</td>\n",
       "      <td>0.0</td>\n",
       "      <td>0.0</td>\n",
       "      <td>0.0</td>\n",
       "      <td>0.0</td>\n",
       "      <td>0.0</td>\n",
       "      <td>0.0</td>\n",
       "    </tr>\n",
       "    <tr>\n",
       "      <th>41966</th>\n",
       "      <td>0.0</td>\n",
       "      <td>0.0</td>\n",
       "      <td>0.0</td>\n",
       "      <td>0.0</td>\n",
       "      <td>0.0</td>\n",
       "      <td>0.0</td>\n",
       "      <td>0.0</td>\n",
       "      <td>0.000000</td>\n",
       "      <td>0.055118</td>\n",
       "      <td>0.384314</td>\n",
       "      <td>...</td>\n",
       "      <td>0.760784</td>\n",
       "      <td>0.282353</td>\n",
       "      <td>0.000000</td>\n",
       "      <td>0.000000</td>\n",
       "      <td>0.0</td>\n",
       "      <td>0.0</td>\n",
       "      <td>0.0</td>\n",
       "      <td>0.0</td>\n",
       "      <td>0.0</td>\n",
       "      <td>0.0</td>\n",
       "    </tr>\n",
       "    <tr>\n",
       "      <th>41967</th>\n",
       "      <td>0.0</td>\n",
       "      <td>0.0</td>\n",
       "      <td>0.0</td>\n",
       "      <td>0.0</td>\n",
       "      <td>0.0</td>\n",
       "      <td>0.0</td>\n",
       "      <td>0.0</td>\n",
       "      <td>0.000000</td>\n",
       "      <td>0.000000</td>\n",
       "      <td>0.000000</td>\n",
       "      <td>...</td>\n",
       "      <td>0.000000</td>\n",
       "      <td>0.000000</td>\n",
       "      <td>0.000000</td>\n",
       "      <td>0.000000</td>\n",
       "      <td>0.0</td>\n",
       "      <td>0.0</td>\n",
       "      <td>0.0</td>\n",
       "      <td>0.0</td>\n",
       "      <td>0.0</td>\n",
       "      <td>0.0</td>\n",
       "    </tr>\n",
       "    <tr>\n",
       "      <th>41968</th>\n",
       "      <td>0.0</td>\n",
       "      <td>0.0</td>\n",
       "      <td>0.0</td>\n",
       "      <td>0.0</td>\n",
       "      <td>0.0</td>\n",
       "      <td>0.0</td>\n",
       "      <td>0.0</td>\n",
       "      <td>0.000000</td>\n",
       "      <td>0.000000</td>\n",
       "      <td>0.588235</td>\n",
       "      <td>...</td>\n",
       "      <td>0.196078</td>\n",
       "      <td>0.058824</td>\n",
       "      <td>0.000000</td>\n",
       "      <td>0.000000</td>\n",
       "      <td>0.0</td>\n",
       "      <td>0.0</td>\n",
       "      <td>0.0</td>\n",
       "      <td>0.0</td>\n",
       "      <td>0.0</td>\n",
       "      <td>0.0</td>\n",
       "    </tr>\n",
       "  </tbody>\n",
       "</table>\n",
       "<p>10 rows × 784 columns</p>\n",
       "</div>"
      ],
      "text/plain": [
       "       0    1    2    3    4    5    6         7         8         9    ...  \\\n",
       "41959  0.0  0.0  0.0  0.0  0.0  0.0  0.0  0.000000  0.000000  0.000000  ...   \n",
       "41960  0.0  0.0  0.0  0.0  0.0  0.0  0.0  0.000000  0.000000  0.000000  ...   \n",
       "41961  0.0  0.0  0.0  0.0  0.0  0.0  0.0  0.000000  0.000000  0.000000  ...   \n",
       "41962  0.0  0.0  0.0  0.0  0.0  0.0  0.0  0.000000  0.000000  0.000000  ...   \n",
       "41963  0.0  0.0  0.0  0.0  0.0  0.0  0.0  0.000000  0.000000  0.000000  ...   \n",
       "41964  0.0  0.0  0.0  0.0  0.0  0.0  0.0  0.000000  0.000000  0.000000  ...   \n",
       "41965  0.0  0.0  0.0  0.0  0.0  0.0  0.0  0.044444  0.346457  0.000000  ...   \n",
       "41966  0.0  0.0  0.0  0.0  0.0  0.0  0.0  0.000000  0.055118  0.384314  ...   \n",
       "41967  0.0  0.0  0.0  0.0  0.0  0.0  0.0  0.000000  0.000000  0.000000  ...   \n",
       "41968  0.0  0.0  0.0  0.0  0.0  0.0  0.0  0.000000  0.000000  0.588235  ...   \n",
       "\n",
       "            774       775       776       777  778  779  780  781  782  783  \n",
       "41959  0.000000  0.000000  0.000000  0.000000  0.0  0.0  0.0  0.0  0.0  0.0  \n",
       "41960  0.000000  0.000000  0.000000  0.000000  0.0  0.0  0.0  0.0  0.0  0.0  \n",
       "41961  0.019608  0.027451  0.043137  0.066667  0.0  0.0  0.0  0.0  0.0  0.0  \n",
       "41962  0.000000  0.000000  0.000000  0.000000  0.0  0.0  0.0  0.0  0.0  0.0  \n",
       "41963  0.000000  0.000000  0.000000  0.000000  0.0  0.0  0.0  0.0  0.0  0.0  \n",
       "41964  0.188235  0.066667  0.000000  0.000000  0.0  0.0  0.0  0.0  0.0  0.0  \n",
       "41965  0.368627  0.372549  0.423529  0.196078  0.0  0.0  0.0  0.0  0.0  0.0  \n",
       "41966  0.760784  0.282353  0.000000  0.000000  0.0  0.0  0.0  0.0  0.0  0.0  \n",
       "41967  0.000000  0.000000  0.000000  0.000000  0.0  0.0  0.0  0.0  0.0  0.0  \n",
       "41968  0.196078  0.058824  0.000000  0.000000  0.0  0.0  0.0  0.0  0.0  0.0  \n",
       "\n",
       "[10 rows x 784 columns]"
      ]
     },
     "execution_count": 19,
     "metadata": {},
     "output_type": "execute_result"
    }
   ],
   "source": [
    "x_train_scaled.tail (10)"
   ]
  },
  {
   "cell_type": "code",
   "execution_count": 20,
   "metadata": {},
   "outputs": [
    {
     "name": "stdout",
     "output_type": "stream",
     "text": [
      "Data has 784 features.\n"
     ]
    }
   ],
   "source": [
    "print(\"Data has\",len(x_train_scaled.columns),\"features.\" ) "
   ]
  },
  {
   "cell_type": "code",
   "execution_count": 21,
   "metadata": {},
   "outputs": [],
   "source": [
    "#From the total dimensions, I want to set n_components to be a float between 0.0 and 1.0, \n",
    "#indicating the ratio of variance I wish to preserve, in this case I will choose 0.95:\n",
    " \n",
    "pca = PCA(n_components = 0.95)\n",
    "\n",
    "#fit the scaled data\n",
    "X_train_Reduced=pca.fit_transform(x_train_scaled)\n",
    "\n",
    "#transform the PCA by using the PCA object for the scaled data\n",
    "X_test_Reduced=pca.transform(x_test_scaled)\n"
   ]
  },
  {
   "cell_type": "code",
   "execution_count": 22,
   "metadata": {},
   "outputs": [
    {
     "data": {
      "text/plain": [
       "(41969, 187)"
      ]
     },
     "execution_count": 22,
     "metadata": {},
     "output_type": "execute_result"
    }
   ],
   "source": [
    "#We get an array\n",
    "X_train_Reduced\n",
    "#So we will turn it into df\n",
    "X_train_Reduced = pd.DataFrame(X_train_Reduced)\n",
    "#and check the shape of it to see how it change\n",
    "X_train_Reduced.shape"
   ]
  },
  {
   "cell_type": "markdown",
   "metadata": {},
   "source": [
    "It is possible to see the difference by the number of columns- 8100 columns to x_train_scaled, and different number after the PCA."
   ]
  },
  {
   "cell_type": "code",
   "execution_count": 23,
   "metadata": {},
   "outputs": [
    {
     "name": "stdout",
     "output_type": "stream",
     "text": [
      "\u001b[1m Conclusion \u001b[0m\n",
      "After the PCA , dimensions dropped from 8100 to 187 .\n",
      "Means that dimensions decreased by 97.69135802469135 %\n"
     ]
    }
   ],
   "source": [
    "print ('\\033[1m' , 'Conclusion' , '\\033[0m')\n",
    "print(\"After the PCA , dimensions dropped from 8100 to\", len(X_train_Reduced.columns),\".\")\n",
    "print(\"Means that dimensions decreased by\", 100-((len(X_train_Reduced.columns)*100)/8100), \"%\")\n",
    "\n"
   ]
  },
  {
   "cell_type": "markdown",
   "metadata": {},
   "source": [
    "# <b> Ensemble Learning<b>\n",
    "Building a model on top of many other models is called Ensemble Learning.<br>\n",
    "More extensively, if you aggregate the predictions of a group of predictors (such as classifiers in current project), you will\n",
    "often get better predictions than with the best individual predictor.<br>\n",
    "In this part of the project I will try to improve my previous project results by using Ensemble Learning. <br>\n",
    "    \n",
    "While finding the model with the best accuracy, I would like to check what model is with the best run time.<br>\n"
   ]
  },
  {
   "cell_type": "code",
   "execution_count": 24,
   "metadata": {},
   "outputs": [],
   "source": [
    "#Therefore , to find the best run time, I need to import the time library.\n",
    "import time\n",
    "\n",
    "#Initialize an empty array of model's running times\n",
    "RunningTimes=[]\n",
    "\n",
    "#Initialize an empty array of model's names\n",
    "ModelName=[]\n",
    "\n",
    "#Initialize an empty array of model's accuracies\n",
    "Accuracies=[]"
   ]
  },
  {
   "cell_type": "markdown",
   "metadata": {},
   "source": [
    "First of all, I will show the model 'Random Forest'.<br>\n",
    "\n",
    "# <b> Random Forest<b>\n",
    "    \n",
    "Random Forest is the Ensemble Learning of Decision Trees.<br>                                                             Random Forests as we learned, is a supervised learning algorithm.<br>                                                           There is a direct relationship between the number of trees in the forest and the results it can get. It uses a number of decision trees and predicts the more accurate result by voting in case of classification (or averaging in case of regression).<br>\n",
    "    \n",
    "         \n",
    "## Explain about method's parameters<b>\n",
    "**n_estimators** -  The number of trees in the forest,the more estimators you give it, the better it will do.<br>\n",
    "From what I have been reading, 500 or 1000 is usually sufficient.<br>\n",
    "**n_jobs** -  the number of CPU cores to use for training and predictions (–1 tells Scikit-Learn to use all available cores).<br>\n",
    "**random_state**- is be used to set the internal parameters initially, so you can repeat the training deterministically.<br>\n",
    "    \n",
    "## Importing additional libraries"
   ]
  },
  {
   "cell_type": "code",
   "execution_count": 25,
   "metadata": {},
   "outputs": [],
   "source": [
    "from sklearn.ensemble import RandomForestClassifier \n",
    "from sklearn.tree import DecisionTreeClassifier\n",
    "from sklearn import metrics\n",
    "from sklearn.metrics import accuracy_score"
   ]
  },
  {
   "cell_type": "markdown",
   "metadata": {},
   "source": [
    "## Fit & Predict"
   ]
  },
  {
   "cell_type": "code",
   "execution_count": 28,
   "metadata": {},
   "outputs": [],
   "source": [
    "#Start measuring running time\n",
    "StartTimeRF = time.time()\n",
    "\n",
    "# instantiate the model\n",
    "RForest= RandomForestClassifier(n_estimators=500, n_jobs=-1, random_state=0)\n",
    "\n",
    "# fit the model with data\n",
    "RForest.fit(X_train_Reduced, y_train)\n",
    "\n",
    "#make predictions on the testing set (predict for first_test)\n",
    "RForestPred = RForest.predict(X_test_Reduced)\n",
    "\n",
    "#Finish measuring running time\n",
    "EndTimeRF = time.time()\n",
    "\n",
    "#Toal running time\n",
    "TotalTimeRF= EndTimeRF - StartTimeRF\n",
    "\n",
    "#Add model's running time to RunningTimes array, and name to ModelName array\n",
    "RunningTimes.append(TotalTimeRF)\n",
    "ModelName.append('RF')"
   ]
  },
  {
   "cell_type": "markdown",
   "metadata": {},
   "source": [
    "**Accuracy,Classification Error (Misclassification Rate) :** Overall, how often is the classifier incorrect?<br>"
   ]
  },
  {
   "cell_type": "code",
   "execution_count": 29,
   "metadata": {},
   "outputs": [
    {
     "name": "stdout",
     "output_type": "stream",
     "text": [
      "The Accuracy of this model, after PCA is: 0.8691905714921059\n",
      "the Classification Error for this model, after PCA is: 0.13080942850789412\n"
     ]
    }
   ],
   "source": [
    "accuracyRForest = metrics.accuracy_score(y_test, RForestPred)#check the predictions with the real values\n",
    "\n",
    "print(\"The Accuracy of this model, after PCA is:\",accuracyRForest)\n",
    "print(\"the Classification Error for this model, after PCA is:\", 1 - accuracyRForest)\n",
    "#Add model's accuracy to Accuracies array\n",
    "Accuracies.append(accuracyRForest)"
   ]
  },
  {
   "cell_type": "markdown",
   "metadata": {},
   "source": [
    "## Model evaluation metrics for classification\n",
    "\n",
    "### Confusion Matrix\n",
    "\n",
    "To visualize how many values the Random Forest classifier predicted correctly, <br>\n",
    "I will compute confusion_matrix by using Scikit-Learn’s confusion_matrix() function:"
   ]
  },
  {
   "cell_type": "code",
   "execution_count": 30,
   "metadata": {},
   "outputs": [
    {
     "data": {
      "text/plain": [
       "array([[1525,    1,   38,   64,   11,    4,   98,    0,   35,    0],\n",
       "       [   5, 1751,   12,   60,    4,    0,    8,    0,    3,    0],\n",
       "       [  13,    0, 1408,   12,  176,    1,   91,    0,   16,    0],\n",
       "       [  48,    5,   10, 1689,   45,    1,   49,    0,    9,    1],\n",
       "       [   2,    1,  147,   86, 1458,    0,   91,    0,   19,    0],\n",
       "       [   1,    0,    0,    2,    0, 1652,    0,   61,    7,   45],\n",
       "       [ 323,    0,  184,   47,  152,    3, 1006,    0,   40,    0],\n",
       "       [   0,    0,    0,    0,    0,   64,    0, 1695,    4,   74],\n",
       "       [   1,    0,    7,   16,   10,   23,   18,    3, 1745,    3],\n",
       "       [   0,    0,    0,    0,    1,   28,    0,   68,    2, 1706]],\n",
       "      dtype=int64)"
      ]
     },
     "execution_count": 30,
     "metadata": {},
     "output_type": "execute_result"
    }
   ],
   "source": [
    "from sklearn.metrics import confusion_matrix\n",
    "CM_RF=confusion_matrix(y_test,RForestPred)\n",
    "CM_RF#It's a 10x10 matrix because there are 10 response classes (0-9)"
   ]
  },
  {
   "cell_type": "markdown",
   "metadata": {},
   "source": [
    "Lets show Confusion Matrix as heat map:"
   ]
  },
  {
   "cell_type": "code",
   "execution_count": 31,
   "metadata": {},
   "outputs": [
    {
     "data": {
      "image/png": "[encoded data removed]",
      "text/plain": [
       "<Figure size 720x720 with 2 Axes>"
      ]
     },
     "metadata": {
      "needs_background": "light"
     },
     "output_type": "display_data"
    }
   ],
   "source": [
    "import seaborn as sns\n",
    "\n",
    "plt.figure(figsize=(10,10))#set size\n",
    "sns.heatmap(CM_RF,cmap = \"BuPu\", annot=True, fmt = '.0f')\n",
    "plt.title ('Random Forest Confusion Matrix')\n",
    "plt.show()"
   ]
  },
  {
   "cell_type": "markdown",
   "metadata": {},
   "source": [
    "**Conclusion**<br>\n",
    "The main left diagonal represent all the cases that the model predict correctly (TN,TP).<br>\n",
    "The rest cells represent all the cases the model predict incorrectly (FP,FN).<br>\n",
    "\n",
    "Therefore, It can be concluded that the least good predicted label with Random Forest model is 'Shirt'(label number 6),<br>\n",
    "and the most good predicted label is 'Trouser'(label number 1).<br>\n",
    "\n",
    "### Classification Report\n",
    "\n",
    "Let's compute precision, recall, f1-score and accuracy by using Scikit-Learn’s classification_report() method:\n"
   ]
  },
  {
   "cell_type": "code",
   "execution_count": 32,
   "metadata": {},
   "outputs": [
    {
     "name": "stdout",
     "output_type": "stream",
     "text": [
      "              precision    recall  f1-score   support\n",
      "\n",
      "           0       0.80      0.86      0.83      1776\n",
      "           1       1.00      0.95      0.97      1843\n",
      "           2       0.78      0.82      0.80      1717\n",
      "           3       0.85      0.91      0.88      1857\n",
      "           4       0.79      0.81      0.80      1804\n",
      "           5       0.93      0.93      0.93      1768\n",
      "           6       0.74      0.57      0.65      1755\n",
      "           7       0.93      0.92      0.93      1837\n",
      "           8       0.93      0.96      0.94      1826\n",
      "           9       0.93      0.95      0.94      1805\n",
      "\n",
      "    accuracy                           0.87     17988\n",
      "   macro avg       0.87      0.87      0.87     17988\n",
      "weighted avg       0.87      0.87      0.87     17988\n",
      "\n"
     ]
    }
   ],
   "source": [
    "from sklearn.metrics import classification_report\n",
    "print (classification_report(y_test,RForestPred))"
   ]
  },
  {
   "cell_type": "markdown",
   "metadata": {},
   "source": [
    "**Conclusion**<br>\n",
    "\n",
    "As we learned, **Precision** answer the question- What proportion of positive identifications was actually correct,<br>\n",
    "and equal to:<br>\n",
    "    $Precision=\\frac {TP }{TP+FP}$ <br>\n",
    "    \n",
    "**Recall**, answer the question- What proportion of actual positives was identified correctly,<br>\n",
    "and equal to:<br>\n",
    " $Recall=\\frac {TP }{TP+FN}$ <br>\n",
    "\n",
    "**F1 score** is defined as the harmonic mean between precision and recall, and It formula is:<br>\n",
    "In cats:   $F1 score=2 \\times \\frac{Precision \\times Recall}{Precision+ Recall}$<br>\n",
    "\n",
    "Therefore , it can be concluded that label number 1 has the least FP,<br>\n",
    "and label number 6 has the most FP.<br>"
   ]
  },
  {
   "cell_type": "markdown",
   "metadata": {},
   "source": [
    "# Boosting\n",
    "\n",
    "Boosting refers to a family of algorithms that are able to convert weak learners to strong learners.<br>\n",
    "The predictions are then combined through a weighted majority vote in case of classification (or a weighted sum in case of regression) to produce the final prediction.<br>\n",
    "The models I will show are: AdaBoost, Gradient Boosting (XGBoost).<br>\n",
    "\n",
    "# <b> AdaBoost <b>\n",
    "    \n",
    "AdaBoost is the seconed model I will train.<br>\n",
    "This model gives more attention to the training instances that the predecessor underfitted.<br>\n",
    "This results in new predictors focusing more and more on the hard cases.<br>\n",
    "\n",
    "## Explain about method's parameters<b>\n",
    "**n_estimators**- Number of weak learners to train iteratively.<br>\n",
    "**learning_rate**- Shrinks the contribution of each classifier. It uses 1 as a default value.<br>\n",
    "    There is a trade-off between n_estimators to learning_rate. <br>\n",
    "    \n",
    "## Importing additional libraries"
   ]
  },
  {
   "cell_type": "code",
   "execution_count": 33,
   "metadata": {},
   "outputs": [],
   "source": [
    "from sklearn.ensemble import AdaBoostClassifier\n",
    "from sklearn.tree import DecisionTreeClassifier"
   ]
  },
  {
   "cell_type": "markdown",
   "metadata": {},
   "source": [
    "## Fit & Predict"
   ]
  },
  {
   "cell_type": "code",
   "execution_count": 34,
   "metadata": {},
   "outputs": [],
   "source": [
    "#Start measuring running time\n",
    "StartTimeADA = time.time()\n",
    "\n",
    "# instantiate the model\n",
    "DecisionTreeClf = DecisionTreeClassifier(max_depth=1)\n",
    "ada_clf = AdaBoostClassifier(DecisionTreeClf, n_estimators=100, learning_rate=0.5)\n",
    "\n",
    "# fit the model with data\n",
    "ada_clf.fit(X_train_Reduced, y_train)\n",
    "\n",
    "#make predictions on the testing set (predict for first_test)\n",
    "ada_clfPred = ada_clf.predict(X_test_Reduced)\n",
    "\n",
    "#Finish measuring running time\n",
    "EndTimeADA = time.time()\n",
    "\n",
    "#Toal running time\n",
    "TotalTimeADA = EndTimeADA - StartTimeADA\n",
    "\n",
    "#Add model's running time to RunningTimes array, and name to ModelName array\n",
    "RunningTimes.append(TotalTimeADA)\n",
    "ModelName.append('ADA')"
   ]
  },
  {
   "cell_type": "markdown",
   "metadata": {},
   "source": [
    "**Accuracy,Classification Error (Misclassification Rate) :**"
   ]
  },
  {
   "cell_type": "code",
   "execution_count": 35,
   "metadata": {},
   "outputs": [
    {
     "name": "stdout",
     "output_type": "stream",
     "text": [
      "The Accuracy of this model is: 0.5870580386924616\n",
      "the Classification Error for this model is: 0.41294196130753835\n"
     ]
    }
   ],
   "source": [
    "accuracyAda = metrics.accuracy_score(y_test, ada_clfPred)#check the predictions with the real values\n",
    "\n",
    "print(\"The Accuracy of this model is:\",accuracyAda)\n",
    "print(\"the Classification Error for this model is:\", 1 - accuracyAda)\n",
    "#Add model's accuracy to Accuracies array\n",
    "Accuracies.append(accuracyAda)"
   ]
  },
  {
   "cell_type": "markdown",
   "metadata": {},
   "source": [
    "## Model evaluation metrics for classification\n",
    "\n",
    "### Confusion Matrix\n",
    "\n",
    "To visualize how many values the ADA Boost classifier predicted correctly, <br>\n",
    "I will compute confusion_matrix by using Scikit-Learn’s confusion_matrix() function:"
   ]
  },
  {
   "cell_type": "code",
   "execution_count": 36,
   "metadata": {},
   "outputs": [
    {
     "data": {
      "text/plain": [
       "array([[ 949,   10,   45,  562,    4,    0,  135,    0,   71,    0],\n",
       "       [   9,  320,   27, 1473,    3,    0,    8,    0,    3,    0],\n",
       "       [  16,    2, 1291,   22,   89,    1,  207,    0,   89,    0],\n",
       "       [  44,   55,   30, 1602,   71,    0,   45,    0,    9,    1],\n",
       "       [   3,    1, 1020,  181,  329,    2,  172,    0,   96,    0],\n",
       "       [   2,    0,    0,    2,    0, 1435,    0,  217,   41,   71],\n",
       "       [ 232,    6,  768,  256,   75,    4,  291,    0,  123,    0],\n",
       "       [   0,    0,    0,    0,    0,  382,    0, 1399,   11,   45],\n",
       "       [  14,    0,   44,   41,    2,   19,   22,    6, 1676,    2],\n",
       "       [   0,    0,    0,    0,    0,  281,    0,  252,    4, 1268]],\n",
       "      dtype=int64)"
      ]
     },
     "execution_count": 36,
     "metadata": {},
     "output_type": "execute_result"
    }
   ],
   "source": [
    "CM_ADA=confusion_matrix(y_test,ada_clfPred)\n",
    "CM_ADA"
   ]
  },
  {
   "cell_type": "markdown",
   "metadata": {},
   "source": [
    "Lets show Confusion Matrix as heat map:"
   ]
  },
  {
   "cell_type": "code",
   "execution_count": 37,
   "metadata": {},
   "outputs": [
    {
     "data": {
      "image/png": "[encoded data removed]",
      "text/plain": [
       "<Figure size 720x720 with 2 Axes>"
      ]
     },
     "metadata": {
      "needs_background": "light"
     },
     "output_type": "display_data"
    }
   ],
   "source": [
    "plt.figure(figsize=(10,10))#set size\n",
    "sns.heatmap(CM_ADA,cmap = \"BuPu\", annot=True, fmt = '.0f')\n",
    "plt.title ('ADA Boost Confusion Matrix')\n",
    "plt.show()"
   ]
  },
  {
   "cell_type": "markdown",
   "metadata": {},
   "source": [
    "**Conclusion**<br>\n",
    "It can be concluded that the least good predicted label with Ada Boost model is 'Shirt'(label number 6),<br>\n",
    "and the most good predicted label is 'Bag'(label number 8).<br>"
   ]
  },
  {
   "cell_type": "markdown",
   "metadata": {},
   "source": [
    "### Classification Report\n",
    "\n",
    "Let's compute precision, recall, f1-score and accuracy by using Scikit-Learn’s classification_report() method:"
   ]
  },
  {
   "cell_type": "code",
   "execution_count": 38,
   "metadata": {},
   "outputs": [
    {
     "name": "stdout",
     "output_type": "stream",
     "text": [
      "              precision    recall  f1-score   support\n",
      "\n",
      "           0       0.75      0.53      0.62      1776\n",
      "           1       0.81      0.17      0.29      1843\n",
      "           2       0.40      0.75      0.52      1717\n",
      "           3       0.39      0.86      0.53      1857\n",
      "           4       0.57      0.18      0.28      1804\n",
      "           5       0.68      0.81      0.74      1768\n",
      "           6       0.33      0.17      0.22      1755\n",
      "           7       0.75      0.76      0.75      1837\n",
      "           8       0.79      0.92      0.85      1826\n",
      "           9       0.91      0.70      0.79      1805\n",
      "\n",
      "    accuracy                           0.59     17988\n",
      "   macro avg       0.64      0.59      0.56     17988\n",
      "weighted avg       0.64      0.59      0.56     17988\n",
      "\n"
     ]
    }
   ],
   "source": [
    "print (classification_report(y_test,ada_clfPred))"
   ]
  },
  {
   "cell_type": "markdown",
   "metadata": {},
   "source": [
    "**Conclusion**<br>\n",
    "As you already see, I have written below the formulas of precision, recall and F1-Score.<br>\n",
    "Therefore , it can be concluded that label number 9 has the least FP,<br>\n",
    "and label number 6 has the most FP.<br>"
   ]
  },
  {
   "cell_type": "markdown",
   "metadata": {},
   "source": [
    "# Gradient Boosting\n",
    "\n",
    "Just like AdaBoost,Gradient Boosting works by sequentially adding predictors to an ensemble, each one correcting its predecessor.<br>\n",
    "However, instead of tweaking the instance weights at every iteration like AdaBoost does, <br>\n",
    "this method tries to fit the new predictor to the residual errors made by the previous predictor.\n",
    "\n",
    "# <b> XGBoost  <b>\n",
    "    \n",
    "XGBoost is the third model I will train.<br>\n",
    "XGBoost is an optimized implementation of Gradient Boosting , which stands for Extreme Gradient Boosting.<br>\n",
    "This model have enhanced performance and speed in tree-based (sequential decision trees) machine learning algorithms.<br>\n",
    "It is the most common algorithm used for applied machine learning in competitions and has gained popularity through winning solutions in structured and tabular data\n",
    "\n",
    "## Explain about method's parameters<b>\n",
    "\n",
    "**learning_rate**- Shrinks the contribution of each classifier. It uses 1 as a default value.<br>\n",
    "There is a trade-off between n_estimators to learning_rate.<br>\n",
    "**n_estimators**- Number of weak learners to train iteratively.<br>\n",
    "**verbosity**- Verbosity of printing messages. Valid values of 0 (silent), 1 (warning), 2 (info), and 3 (debug).<br>\n",
    "**use_label_encoder**-  Use the label encoder from scikit-learn to encode the labels. <br>\n",
    "For new code, It is recommend to set this parameter to False.\n",
    "\n",
    "## Importing additional libraries\n",
    "\n",
    "\n"
   ]
  },
  {
   "cell_type": "code",
   "execution_count": 40,
   "metadata": {},
   "outputs": [],
   "source": [
    "import xgboost as xgb\n",
    "from xgboost import XGBClassifier\n",
    "import warnings"
   ]
  },
  {
   "cell_type": "markdown",
   "metadata": {},
   "source": [
    "## Fit & Predict"
   ]
  },
  {
   "cell_type": "code",
   "execution_count": 41,
   "metadata": {},
   "outputs": [],
   "source": [
    "#Start measuring running time\n",
    "StartTimeXG = time.time()\n",
    "\n",
    "# instantiate the model\n",
    "XGBoost = XGBClassifier(learning_rate = 0.2, n_estimators = 2000, verbosity=0,use_label_encoder=False)\n",
    "\n",
    "# fit the model with data\n",
    "XGBoost.fit(X_train_Reduced, y_train)\n",
    "\n",
    "#make predictions on the testing set (predict for first_test)\n",
    "XGBoost_Pred = XGBoost.predict(X_test_Reduced)\n",
    "\n",
    "#Finish measuring running time\n",
    "EndTimeXG = time.time()\n",
    "\n",
    "#Toal running time\n",
    "TotalTimeXG = EndTimeXG - StartTimeXG\n",
    "\n",
    "#Add model's running time to RunningTimes array, and name to ModelName array \n",
    "RunningTimes.append(TotalTimeXG)\n",
    "ModelName.append('XG')"
   ]
  },
  {
   "cell_type": "markdown",
   "metadata": {},
   "source": [
    "**Accuracy,Classification Error (Misclassification Rate) :**"
   ]
  },
  {
   "cell_type": "code",
   "execution_count": 42,
   "metadata": {},
   "outputs": [
    {
     "name": "stdout",
     "output_type": "stream",
     "text": [
      "The Accuracy of this model is: 0.8925394707582833\n",
      "the Classification Error for this model is: 0.10746052924171667\n"
     ]
    }
   ],
   "source": [
    "accuracyXG = metrics.accuracy_score(y_test, XGBoost_Pred)#check the predictions with the real values\n",
    "\n",
    "print(\"The Accuracy of this model is:\",accuracyXG)\n",
    "print(\"the Classification Error for this model is:\", 1 - accuracyXG)\n",
    "#Add model's accuracy to Accuracies array\n",
    "Accuracies.append(accuracyXG)"
   ]
  },
  {
   "cell_type": "markdown",
   "metadata": {},
   "source": [
    "## Model evaluation metrics for classification\n",
    "\n",
    "### Confusion Matrix\n",
    "\n",
    "To visualize how many values the XG Boost classifier predicted correctly, <br>\n",
    "I will compute confusion_matrix by using Scikit-Learn’s confusion_matrix() function:"
   ]
  },
  {
   "cell_type": "code",
   "execution_count": 43,
   "metadata": {},
   "outputs": [
    {
     "data": {
      "text/plain": [
       "array([[1529,    5,   36,   50,    7,    1,  128,    0,   19,    1],\n",
       "       [   5, 1784,    4,   40,    3,    0,    4,    0,    3,    0],\n",
       "       [  21,    1, 1423,   13,  148,    2,  101,    1,    7,    0],\n",
       "       [  46,    7,   12, 1694,   43,    1,   46,    0,    6,    2],\n",
       "       [   4,    2,  119,   67, 1504,    0,   94,    0,   14,    0],\n",
       "       [   1,    0,    0,    2,    0, 1687,    0,   52,    6,   20],\n",
       "       [ 228,    3,  153,   48,  107,    1, 1196,    0,   19,    0],\n",
       "       [   0,    0,    0,    0,    0,   34,    0, 1751,    3,   49],\n",
       "       [   6,    1,    5,   10,    7,    4,   20,    3, 1767,    3],\n",
       "       [   0,    0,    0,    0,    0,   21,    0,   62,    2, 1720]],\n",
       "      dtype=int64)"
      ]
     },
     "execution_count": 43,
     "metadata": {},
     "output_type": "execute_result"
    }
   ],
   "source": [
    "CM_XG=confusion_matrix(y_test,XGBoost_Pred)\n",
    "CM_XG"
   ]
  },
  {
   "cell_type": "markdown",
   "metadata": {},
   "source": [
    "Let's show Confusion Matrix as heat map:"
   ]
  },
  {
   "cell_type": "code",
   "execution_count": 44,
   "metadata": {},
   "outputs": [
    {
     "data": {
      "image/png": "[encoded data removed]",
      "text/plain": [
       "<Figure size 720x720 with 2 Axes>"
      ]
     },
     "metadata": {
      "needs_background": "light"
     },
     "output_type": "display_data"
    }
   ],
   "source": [
    "plt.figure(figsize=(10,10))#set size\n",
    "sns.heatmap(CM_XG,cmap = \"BuPu\", annot=True, fmt = '.0f')\n",
    "plt.title ('XG Boost Confusion Matrix')\n",
    "plt.show()"
   ]
  },
  {
   "cell_type": "markdown",
   "metadata": {},
   "source": [
    "**Conclusion**<br>\n",
    "It can be concluded that the least good predicted label with XGBoost model is 'Shirt'(label number 6),<br>\n",
    "and the most good predicted label is 'Trouser'(label number 1 ).<br>"
   ]
  },
  {
   "cell_type": "markdown",
   "metadata": {},
   "source": [
    "### Classification Report\n",
    "\n",
    "Let's compute precision, recall, f1-score and accuracy by using Scikit-Learn’s classification_report() method:"
   ]
  },
  {
   "cell_type": "code",
   "execution_count": 45,
   "metadata": {},
   "outputs": [
    {
     "name": "stdout",
     "output_type": "stream",
     "text": [
      "              precision    recall  f1-score   support\n",
      "\n",
      "           0       0.83      0.86      0.85      1776\n",
      "           1       0.99      0.97      0.98      1843\n",
      "           2       0.81      0.83      0.82      1717\n",
      "           3       0.88      0.91      0.90      1857\n",
      "           4       0.83      0.83      0.83      1804\n",
      "           5       0.96      0.95      0.96      1768\n",
      "           6       0.75      0.68      0.72      1755\n",
      "           7       0.94      0.95      0.94      1837\n",
      "           8       0.96      0.97      0.96      1826\n",
      "           9       0.96      0.95      0.96      1805\n",
      "\n",
      "    accuracy                           0.89     17988\n",
      "   macro avg       0.89      0.89      0.89     17988\n",
      "weighted avg       0.89      0.89      0.89     17988\n",
      "\n"
     ]
    }
   ],
   "source": [
    "print (classification_report(y_test,XGBoost_Pred))"
   ]
  },
  {
   "cell_type": "markdown",
   "metadata": {},
   "source": [
    "**Conclusion**<br>\n",
    "As you already see, I have written below the formulas of precision, recall and F1-Score.<br>\n",
    "Therefore , it can be concluded that label number 1 has the least FP,<br>\n",
    "and label number 6 has the most FP.<br>\n",
    "\n",
    "# Simple Classification models<br>\n",
    "\n",
    "Let's start implementing simple classification models we learned last semester, and then return to ensemble models.\n",
    "I will explain this decision later.<br>\n",
    "\n",
    "## <b>KNN model</b>\n",
    "### <b> Which n_neighbors should I choose?<b>\n",
    "    \n",
    "First of all I ran for loop about different n_neighbors and checked the accuracy for eack case, <br>\n",
    "then I chose the n_neighbors that gave me the most accurate value:<br>\n"
   ]
  },
  {
   "cell_type": "code",
   "execution_count": 46,
   "metadata": {},
   "outputs": [],
   "source": [
    "from sklearn.neighbors import KNeighborsClassifier"
   ]
  },
  {
   "cell_type": "code",
   "execution_count": null,
   "metadata": {},
   "outputs": [
    {
     "name": "stdout",
     "output_type": "stream",
     "text": [
      "Accuracy for k=1 is 0.8335676405391321\n",
      "Accuracy for k=2 is 0.833376981643025\n",
      "Accuracy for k=3 is 0.8424551419686792\n",
      "Accuracy for k=4 is 0.8444089638942036\n",
      "Accuracy for k=5 is 0.8451475935328059\n",
      "Accuracy for k=6 is 0.8463151315987283\n",
      "Accuracy for k=7 is 0.8445519606210743\n",
      "Accuracy for k=8 is 0.8454335744964611\n"
     ]
    }
   ],
   "source": [
    "#Please do not run this cell,It is very long time to be loaded\n",
    "#i ran it in the start to see which n neighbors will be the best to choose\n",
    "scores=[]\n",
    "for i in range(1,20):\n",
    "    knn = KNeighborsClassifier(n_neighbors=i)\n",
    "\n",
    "#fit the model with data\n",
    "    knn.fit(X_train_Reduced, y_train)\n",
    "\n",
    "# predict the response for new observations\n",
    "    from sklearn.model_selection import cross_val_score #import cross validation method\n",
    "\n",
    "    score=cross_val_score(knn,X_train_Reduced, y_train,cv=2).mean()\n",
    "    print(\"Accuracy for k=\"+str(i)+\" is \"+str(score) )\n",
    "    scores.append(score)\n",
    "    "
   ]
  },
  {
   "cell_type": "code",
   "execution_count": null,
   "metadata": {},
   "outputs": [],
   "source": [
    "#This is the array of all the accuracies according to different n neighbors\n",
    "scores"
   ]
  },
  {
   "cell_type": "code",
   "execution_count": null,
   "metadata": {},
   "outputs": [],
   "source": [
    "#Let's plot the relation between n and testing accuracy\n",
    "n_neigh=list(range(1,20))\n",
    "plt.plot(n_neigh,scores)\n",
    "plt.ylabel('Cross-Validation Testing Accuracy')#show the number of 0.9999X, means- 7,5,,6,4,4,3,3,1.....\n",
    "plt.show()"
   ]
  },
  {
   "cell_type": "code",
   "execution_count": null,
   "metadata": {},
   "outputs": [],
   "source": [
    "#Let's find the max accuracy in 'score' array:\n",
    "import numpy as np\n",
    "max_value = np.max(scores)\n",
    "max_value\n",
    "#find the index of this max score\n",
    "index_maxScore=scores.index(max_value)\n",
    "index_maxScore\n",
    "print('\\033[1m' , 'Conclusion' , '\\033[0m')\n",
    "print('It can be concluded that the best accuracy of KNN model is:',max_value)\n",
    "print(\"and It received when the number of neighbors is equal to:\", index_maxScore+1.)\n"
   ]
  },
  {
   "cell_type": "markdown",
   "metadata": {},
   "source": [
    "## Fit&Predict"
   ]
  },
  {
   "cell_type": "code",
   "execution_count": null,
   "metadata": {},
   "outputs": [],
   "source": [
    "#Start measuring running time\n",
    "StartTimeKNN = time.time()\n",
    "\n",
    "# instantiate the model\n",
    "knn = KNeighborsClassifier(n_neighbors=6)\n",
    "\n",
    "# fit the model with data\n",
    "knn.fit(X_train_Reduced, y_train)\n",
    "\n",
    "\n",
    "# make predictions on the testing set (predict for first_test)\n",
    "Knn_Pred=knn.predict(X_test_Reduced)\n",
    "\n",
    "#Finish measuring running time\n",
    "EndTimeKNN = time.time()\n",
    "\n",
    "#Toal running time\n",
    "TotalTimeKNN = EndTimeKNN - StartTimeKNN\n",
    "\n",
    "#Add model's running time to RunningTimes array, and name to ModelName array \n",
    "RunningTimes.append(TotalTimeKNN)\n",
    "ModelName.append('KNN')"
   ]
  },
  {
   "cell_type": "markdown",
   "metadata": {},
   "source": [
    "**Accuracy,Classification Error (Misclassification Rate) :**"
   ]
  },
  {
   "cell_type": "code",
   "execution_count": null,
   "metadata": {},
   "outputs": [],
   "source": [
    "accuracyKNN = metrics.accuracy_score(y_test, Knn_Pred)#check the predictions with the real values\n",
    "\n",
    "print(\"The Accuracy of this model is:\",accuracyKNN)\n",
    "print(\"the Classification Error for this model is:\", 1 - accuracyKNN)\n",
    "#Add model's accuracy to Accuracies array\n",
    "Accuracies.append(accuracyKNN)"
   ]
  },
  {
   "cell_type": "markdown",
   "metadata": {},
   "source": [
    "## Model evaluation metrics for classification\n",
    "\n",
    "### Confusion Matrix\n",
    "\n",
    "To visualize how many values the KNN classifier predicted correctly, <br>\n",
    "I will compute confusion_matrix by using Scikit-Learn’s confusion_matrix() function:"
   ]
  },
  {
   "cell_type": "code",
   "execution_count": null,
   "metadata": {},
   "outputs": [],
   "source": [
    "CM_KNN=confusion_matrix(y_test,Knn_Pred)\n",
    "CM_KNN#It's a 2x2 matrix because there are 2 response classes (0,1)"
   ]
  },
  {
   "cell_type": "markdown",
   "metadata": {},
   "source": [
    "Lets show Confusion Matrix as heat map:"
   ]
  },
  {
   "cell_type": "code",
   "execution_count": null,
   "metadata": {},
   "outputs": [],
   "source": [
    "plt.figure(figsize=(10,10))#set size\n",
    "sns.heatmap(CM_KNN,cmap = \"BuPu\", annot=True, fmt = '.0f')\n",
    "plt.title ('KNN Confusion Matrix')\n",
    "plt.show()"
   ]
  },
  {
   "cell_type": "markdown",
   "metadata": {},
   "source": [
    "**Conclusion**<br>HHHHHHHHHHHHHHHHHHHHHHHHH\n",
    "It can be concluded that the least good predicted label with XGBoost model is '____'(label number ),<br>\n",
    "and the most good predicted label is '_____'(label number ).<br>\n"
   ]
  },
  {
   "cell_type": "markdown",
   "metadata": {},
   "source": [
    "### Classification Report"
   ]
  },
  {
   "cell_type": "code",
   "execution_count": null,
   "metadata": {},
   "outputs": [],
   "source": [
    "print (classification_report(y_test,Knn_Pred))"
   ]
  },
  {
   "cell_type": "markdown",
   "metadata": {},
   "source": [
    "**Conclusion**<br> HHHHHHHHHHHHHHHHHHHHHHHHHHHHHHHHHHHHHHHHH\n",
    "As you already see, I have written below the formulas of precision, recall and F1-Score.<br>\n",
    "Therefore , it can be concluded that label number 1,5 has the least FP,<br>\n",
    "and label number 6 has the most FP.<br>"
   ]
  },
  {
   "cell_type": "markdown",
   "metadata": {},
   "source": [
    "## <b>Logistic Regression model</b>"
   ]
  },
  {
   "cell_type": "code",
   "execution_count": null,
   "metadata": {},
   "outputs": [],
   "source": [
    "from sklearn.linear_model import LogisticRegression\n",
    "\n",
    "#Start measuring running time \n",
    "StartTimeLR = time.time()\n",
    "\n",
    "# instantiate the model (using the default parameters)\n",
    "log_reg = LogisticRegression(max_iter=400)\n",
    "\n",
    "# fit the model with data\n",
    "log_reg.fit(X_train_Reduced, y_train)\n",
    "\n",
    "#make predictions on the testing set\n",
    "Log_Pred = log_reg.predict(X_test_Reduced)\n",
    "\n",
    "#Finish measuring running time\n",
    "EndTimeLR = time.time()\n",
    "\n",
    "#Toal running time  \n",
    "TotalTimeLR = EndTimeLR - StartTimeLR\n",
    "\n",
    "#Add model's running time to RunningTimes array, and name to ModelName array \n",
    "RunningTimes.append(TotalTimeLR)\n",
    "ModelName.append('Logistic_Regression')\n"
   ]
  },
  {
   "cell_type": "markdown",
   "metadata": {},
   "source": [
    "**Accuracy,Classification Error (Misclassification Rate) :**"
   ]
  },
  {
   "cell_type": "code",
   "execution_count": null,
   "metadata": {},
   "outputs": [],
   "source": [
    "accuracyLR = metrics.accuracy_score(y_test, Log_Pred)#check the predictions with the real values\n",
    "\n",
    "print(\"The Accuracy of this model is:\",accuracyLR)\n",
    "print(\"the Classification Error for this model is:\", 1 - accuracyLR)\n",
    "#Add model's accuracy to Accuracies array\n",
    "Accuracies.append(accuracyLR)"
   ]
  },
  {
   "cell_type": "markdown",
   "metadata": {},
   "source": [
    "## Model evaluation metrics for classification\n",
    "\n",
    "### Confusion Matrix\n",
    "\n",
    "To visualize how many values the KNN classifier predicted correctly, <br>\n",
    "I will compute confusion_matrix by using Scikit-Learn’s confusion_matrix() function:"
   ]
  },
  {
   "cell_type": "code",
   "execution_count": null,
   "metadata": {},
   "outputs": [],
   "source": [
    "CM_LR=confusion_matrix(y_test,Log_Pred)\n",
    "CM_LR"
   ]
  },
  {
   "cell_type": "markdown",
   "metadata": {},
   "source": [
    "Lets show Confusion Matrix as heat map:"
   ]
  },
  {
   "cell_type": "code",
   "execution_count": null,
   "metadata": {},
   "outputs": [],
   "source": [
    "plt.figure(figsize=(10,10))#set size\n",
    "sns.heatmap(CM_LR,cmap = \"BuPu\", annot=True, fmt = '.0f')\n",
    "plt.title ('Logistic Regression Confusion Matrix')\n",
    "plt.show()"
   ]
  },
  {
   "cell_type": "markdown",
   "metadata": {},
   "source": [
    "**Conclusion**<br>HHHHHHHHHHHHHHHHHHHHHHHHH\n",
    "It can be concluded that the least good predicted label with XGBoost model is '____'(label number ),<br>\n",
    "and the most good predicted label is '_____'(label number ).<br>\n"
   ]
  },
  {
   "cell_type": "markdown",
   "metadata": {},
   "source": [
    "### Classification Report"
   ]
  },
  {
   "cell_type": "code",
   "execution_count": null,
   "metadata": {},
   "outputs": [],
   "source": [
    "print (classification_report(y_test,Log_Pred))"
   ]
  },
  {
   "cell_type": "markdown",
   "metadata": {},
   "source": [
    "**Conclusion**<br>HHHHHHHHHHHHHHHHHHHHHHHHHH\n",
    "As you already see, I have written below the formulas of precision, recall and F1-Score.<br>\n",
    "Therefore , it can be concluded that label number 1,5 has the least FP,<br>\n",
    "and label number 6 has the most FP.<br>\n"
   ]
  },
  {
   "cell_type": "markdown",
   "metadata": {},
   "source": [
    "# Subtotal Of All Models Accuracies&RunTime"
   ]
  },
  {
   "cell_type": "code",
   "execution_count": null,
   "metadata": {},
   "outputs": [],
   "source": [
    "#Create array of all accuracies:\n",
    "\n",
    "print(Accuracies)\n",
    "print(ModelName)\n",
    "\n",
    "#define df\n",
    "data = pd.DataFrame({'Model': ModelName, 'Accuracies': list(Accuracies), 'RunTime':list(RunningTimes)}, columns=['Model', 'Accuracies', 'RunTime'])\n",
    "\n",
    "data"
   ]
  },
  {
   "cell_type": "markdown",
   "metadata": {},
   "source": [
    "# Back To Ensemble learning Models\n",
    "\n",
    "Now, After I finished the implement of the simple classification models, I would like to continue with the Ensemble learning Models. <br>\n",
    "I have preferred to implement those simple classification models before using the models: Bagging, Stacking, Voting  \n",
    "because those three models may use part  (or all) those simple classification models. <br>\n",
    "It explain in each model in detail later in the notebook.<br>\n",
    "\n",
    "# <b> Bagging&Pasting  <b>\n",
    "    \n",
    "Bagging stands for bootstrap aggregation. One way to reduce the variance of an estimate is to average together multiple estimates. For aggregating the outputs of base learners in case of classification, bagging uses Voting (and averaging in case of regression).<br>\n",
    "For example, random forest trains X Decision Tree, It is possible to train X different trees on different random subsets of the data and perform voting for final prediction.<br>\n",
    "Bagging ensembles methods are Random Forest and Extra Trees.<br>\n",
    "    \n",
    "In other words, Bagging classifier is an ensemble meta-estimator that fits base classifiers each on random subsets of the original dataset,<br> and then aggregate their individual predictions (either by voting or by averaging) to form a final prediction.\n",
    "    \n",
    "Bagging is composed of two parts: aggregation and bootstrapping.<br>\n",
    "Bootstrapping is a sampling method, where a sample is chosen out of a set, using the replacement method. <br>\n",
    "The learning algorithm is then run on the samples selected.<br>\n",
    "\n",
    "The bootstrapping technique uses sampling with replacements to make the selection procedure completely random. <br>\n",
    "When a sample is selected without replacement, the subsequent selections of variables are always dependent on the previous selections, making the criteria non-random. <br>   \n",
    "    \n",
    "When sampling is performed without replacement, it is called **pasting**.<br>\n",
    "\n",
    "In other words, both bagging and pasting allow training instances to be sampled several times across multiple predictors,<br>\n",
    "but only bagging allows training instances to be sampled several times for the same predictor.<br>\n",
    "    \n",
    "## Explain about method's parameters<b>\n",
    "\n",
    "**base_estimator**-The base estimator to fit on random subsets of the dataset. If None, then the base estimator is a Decision Tree Classifier.In my case, I have chosed XGBoost because It is the model with the best accuracy til now.<br>\n",
    "**n_estimators**- The number of base estimators in the ensemble <br>\n",
    "**bootstrap**- Whether samples are drawn with replacement (as I explained above). If False, sampling without replacement is performed.   <br>\n",
    "\n",
    "# Bagging\n",
    "\n",
    "## Importing additional libraries\n"
   ]
  },
  {
   "cell_type": "code",
   "execution_count": null,
   "metadata": {},
   "outputs": [],
   "source": [
    "from sklearn.ensemble import BaggingClassifier"
   ]
  },
  {
   "cell_type": "markdown",
   "metadata": {},
   "source": [
    "## Fit & Predict"
   ]
  },
  {
   "cell_type": "code",
   "execution_count": null,
   "metadata": {},
   "outputs": [],
   "source": [
    "#Start measuring running time\n",
    "StartTimeBagging = time.time()\n",
    "\n",
    "# instantiate the model\n",
    "Bagging = BaggingClassifier(XGBoost, n_estimators = 100, bootstrap = True)\n",
    "\n",
    "# fit the model with data\n",
    "Bagging.fit(X_train_Reduced, y_train)\n",
    "\n",
    "# make predictions on the testing set (predict for first_test)\n",
    "Bagging_Pred = Bagging.predict(X_test_Reduced)\n",
    "\n",
    "#Finish measuring running time\n",
    "EndTimeBagging = time.time()\n",
    "\n",
    "#Toal running time\n",
    "TotalTimeBagging = EndTimeBagging - StartTimeBagging\n",
    "\n",
    "#Add model's running time to RunningTimes array, and name to ModelName array \n",
    "RunningTimes.append(TotalTimeBagging)\n",
    "ModelName.append('Bagging')\n"
   ]
  },
  {
   "cell_type": "markdown",
   "metadata": {},
   "source": [
    "**Accuracy,Classification Error (Misclassification Rate) :**"
   ]
  },
  {
   "cell_type": "code",
   "execution_count": null,
   "metadata": {},
   "outputs": [],
   "source": [
    "accuracyBagging = metrics.accuracy_score(y_test, Bagging_Pred)#check the predictions with the real values\n",
    "\n",
    "print(\"The Accuracy of this model is:\",accuracyBagging)\n",
    "print(\"the Classification Error for this model is:\", 1 - accuracyBagging)\n",
    "#Add model's accuracy to Accuracies array\n",
    "Accuracies.append(accuracyBagging)"
   ]
  },
  {
   "cell_type": "markdown",
   "metadata": {},
   "source": [
    "## Model evaluation metrics for classification\n",
    "\n",
    "### Confusion Matrix\n",
    "\n",
    "To visualize how many values the Bagging classifier predicted correctly, <br>\n",
    "I will compute confusion_matrix by using Scikit-Learn’s confusion_matrix() function:"
   ]
  },
  {
   "cell_type": "code",
   "execution_count": null,
   "metadata": {},
   "outputs": [],
   "source": [
    "CM_BAG=confusion_matrix(y_test,Bagging_Pred)\n",
    "CM_BAG#It's a 2x2 matrix because there are 2 response classes (0,1)"
   ]
  },
  {
   "cell_type": "markdown",
   "metadata": {},
   "source": [
    "Lets show Confusion Matrix as heat map:"
   ]
  },
  {
   "cell_type": "code",
   "execution_count": null,
   "metadata": {},
   "outputs": [],
   "source": [
    "plt.figure(figsize=(10,10))#set size\n",
    "sns.heatmap(CM_BAG,cmap = \"BuPu\", annot=True, fmt = '.0f')\n",
    "plt.title ('Bagging Confusion Matrix')\n",
    "plt.show()"
   ]
  },
  {
   "cell_type": "markdown",
   "metadata": {},
   "source": [
    "### Classification Report\n"
   ]
  },
  {
   "cell_type": "code",
   "execution_count": null,
   "metadata": {},
   "outputs": [],
   "source": [
    "print (classification_report(y_test,Bagging_Pred))"
   ]
  },
  {
   "cell_type": "markdown",
   "metadata": {},
   "source": [
    "**Conclusion**<br>\n",
    "HHHHHHHHHHHHHHHHHHHHHHHHHHHHHHHHHH"
   ]
  },
  {
   "cell_type": "markdown",
   "metadata": {},
   "source": [
    "# Pasting\n",
    "\n",
    "## Fit & Predict"
   ]
  },
  {
   "cell_type": "code",
   "execution_count": null,
   "metadata": {},
   "outputs": [],
   "source": [
    "#Start measuring running time\n",
    "StartTimePasting = time.time()\n",
    "\n",
    "# instantiate the model\n",
    "Pasting = BaggingClassifier(XGBoost, n_estimators = 100, bootstrap = False)\n",
    "\n",
    "# fit the model with data\n",
    "Pasting.fit(X_train_Reduced, y_train)\n",
    "\n",
    "# make predictions on the testing set (predict for first_test)\n",
    "Pasting_Pred = Pasting.predict(X_test_Reduced)\n",
    "\n",
    "#Finish measuring running time\n",
    "EndTimePasting = time.time()\n",
    "\n",
    "#Toal running time\n",
    "TotalTimePasting = EndTimePasting - StartTimePasting\n",
    "\n",
    "#Add model's running time to RunningTimes array, and name to ModelName array \n",
    "RunningTimes.append(TotalTimePasting)\n",
    "ModelName.append('Pasting')\n"
   ]
  },
  {
   "cell_type": "markdown",
   "metadata": {},
   "source": [
    "**Accuracy,Classification Error (Misclassification Rate) :**"
   ]
  },
  {
   "cell_type": "code",
   "execution_count": null,
   "metadata": {},
   "outputs": [],
   "source": [
    "accuracyPasting = metrics.accuracy_score(y_test, Pasting_Pred)#check the predictions with the real values\n",
    "\n",
    "print(\"The Accuracy of this model is:\",accuracyPasting)\n",
    "print(\"the Classification Error for this model is:\", 1 - accuracyPasting)\n",
    "#Add model's accuracy to Accuracies array\n",
    "Accuracies.append(accuracyPasting)"
   ]
  },
  {
   "cell_type": "markdown",
   "metadata": {},
   "source": [
    "## Model evaluation metrics for classification\n",
    "\n",
    "### Confusion Matrix\n",
    "\n",
    "To visualize how many values the Pasting classifier predicted correctly, <br>\n",
    "I will compute confusion_matrix by using Scikit-Learn’s confusion_matrix() function:"
   ]
  },
  {
   "cell_type": "code",
   "execution_count": null,
   "metadata": {},
   "outputs": [],
   "source": [
    "CM_PAS=confusion_matrix(y_test,Pasting_Pred)\n",
    "CM_PAS"
   ]
  },
  {
   "cell_type": "markdown",
   "metadata": {},
   "source": [
    "Let's show Confusion Matrix as heat map:"
   ]
  },
  {
   "cell_type": "code",
   "execution_count": null,
   "metadata": {},
   "outputs": [],
   "source": [
    "plt.figure(figsize=(10,10))#set size\n",
    "sns.heatmap(CM_BAG,cmap = \"BuPu\", annot=True, fmt = '.0f')\n",
    "plt.title ('Bagging Confusion Matrix')\n",
    "plt.show()"
   ]
  },
  {
   "cell_type": "markdown",
   "metadata": {},
   "source": [
    "### Classification Report"
   ]
  },
  {
   "cell_type": "code",
   "execution_count": null,
   "metadata": {},
   "outputs": [],
   "source": [
    "print (classification_report(y_test,Pasting_Pred))"
   ]
  },
  {
   "cell_type": "markdown",
   "metadata": {},
   "source": [
    "**Conclusion**<br>HHHHHHHHHHHHHHHHHHHHHHHHHHHHHHHHHHHHHHHHHHHHHHHHH\n"
   ]
  },
  {
   "cell_type": "markdown",
   "metadata": {},
   "source": [
    "# <b> Stacking  <b>\n",
    "Instead of using trivial functions (such as hard voting) to combine the predictions of all classifiers in an ensemble,<br>\n",
    "in Stacking we are training a model to perform this combination.<br>\n",
    "Actually we can say we have Stack of estimators with a final classifier (The final classifier to \"classify the classifiers\" is chosen to be Logistic Regression).<br>\n",
    "    \n",
    "## Explain about method's parameters<b>\n",
    "\n",
    "**estimators**- List of tuples. Invoking the fit method on the VotingClassifier will fit clones of those original estimators that will be stored in the class attribute self.estimators_.<br>\n",
    "    \n",
    "## Importing additional libraries\n"
   ]
  },
  {
   "cell_type": "code",
   "execution_count": null,
   "metadata": {},
   "outputs": [],
   "source": [
    "from sklearn.ensemble import StackingClassifier"
   ]
  },
  {
   "cell_type": "markdown",
   "metadata": {},
   "source": [
    "## Fit & Predict"
   ]
  },
  {
   "cell_type": "code",
   "execution_count": null,
   "metadata": {},
   "outputs": [],
   "source": [
    "#Start measuring running time\n",
    "StartTimeStacking = time.time()\n",
    "\n",
    "# instantiate the model\n",
    "Stacking = StackingClassifier(estimators= [ ('rf', RForest),('logr', log_reg),('ab',ada_clf),('xb',XGBoost), ('knn', knn)])\n",
    "\n",
    "# fit the model with data\n",
    "Stacking.fit(X_train_Reduced, y_train)\n",
    "\n",
    "# make predictions on the testing set (predict for first_test)\n",
    "Stacking_Pred = Stacking.predict(X_test_Reduced)\n",
    "\n",
    "#Finish measuring running time\n",
    "EndTimeStacking = time.time()\n",
    "\n",
    "#Toal running time\n",
    "TotalTimeStacking = EndTimeStacking - StartTimeStacking\n"
   ]
  },
  {
   "cell_type": "markdown",
   "metadata": {},
   "source": [
    "**Accuracy,Classification Error (Misclassification Rate) :**"
   ]
  },
  {
   "cell_type": "code",
   "execution_count": null,
   "metadata": {},
   "outputs": [],
   "source": [
    "accuracyStacking = metrics.accuracy_score(y_test, Stacking_Pred)#check the predictions with the real values\n",
    "\n",
    "print(\"The Accuracy of this model is:\",accuracyStacking)\n",
    "print(\"the Classification Error for this model is:\", 1 - accuracyStacking)\n",
    "\n",
    "###########\n",
    "#Add model's accuracy to Accuracies array\n",
    "#Accuracies.append(accuracyPasting)"
   ]
  },
  {
   "cell_type": "markdown",
   "metadata": {},
   "source": [
    "Now I would like to try and fit the Stacking Classifier without Logistic Regression , because this model has the lowest accuracy:"
   ]
  },
  {
   "cell_type": "code",
   "execution_count": null,
   "metadata": {},
   "outputs": [],
   "source": [
    "#Start measuring running time\n",
    "StartTimeStacking_ = time.time()\n",
    "\n",
    "# instantiate the model\n",
    "Stacking_ = StackingClassifier(estimators= [ ('rf', RForest),('ab',ada_clf),('xb',XGBoost), ('knn', knn)])\n",
    "\n",
    "# fit the model with data\n",
    "Stacking_.fit(X_train_Reduced, y_train)\n",
    "\n",
    "# make predictions on the testing set (predict for first_test)\n",
    "Stacking_Pred_ = Stacking_.predict(X_test_Reduced)\n",
    "\n",
    "#Finish measuring running time\n",
    "EndTimeStacking_ = time.time()\n",
    "\n",
    "#Toal running time\n",
    "TotalTimeStacking_ = EndTimeStacking_ - StartTimeStacking_\n",
    "\n",
    "#Add model's running time to RunningTimes array, and name to ModelName array \n",
    "accuracyStacking_ = metrics.accuracy_score(y_test, Stacking_Pred_)#check the predictions with the real values\n",
    "\n",
    "\n",
    "print(\"The Accuracy of this model is:\",accuracyStacking_)\n",
    "print(\"the Classification Error for this model is:\", 1 - accuracyStacking_)\n",
    "\n"
   ]
  },
  {
   "cell_type": "code",
   "execution_count": null,
   "metadata": {},
   "outputs": [],
   "source": [
    "#Add model's running time to RunningTimes array, and name to ModelName array \n",
    "RunningTimes.append(TotalTimeStacking_)\n",
    "ModelName.append('Stacking')\n",
    "#Add model's accuracy to Accuracies array\n",
    "Accuracies.append(accuracyStacking_)"
   ]
  },
  {
   "cell_type": "markdown",
   "metadata": {},
   "source": [
    "## Model evaluation metrics for classification\n",
    "\n",
    "### Confusion Matrix\n",
    "\n",
    "To visualize how many values the Stacking classifier predicted correctly, <br>\n",
    "I will compute confusion_matrix by using Scikit-Learn’s confusion_matrix() function:"
   ]
  },
  {
   "cell_type": "code",
   "execution_count": null,
   "metadata": {},
   "outputs": [],
   "source": [
    "CM_ST=confusion_matrix(y_test,Stacking_Pred_)\n",
    "CM_ST"
   ]
  },
  {
   "cell_type": "markdown",
   "metadata": {},
   "source": [
    "Lets show Confusion Matrix as heat map:"
   ]
  },
  {
   "cell_type": "code",
   "execution_count": null,
   "metadata": {},
   "outputs": [],
   "source": [
    "plt.figure(figsize=(10,10))#set size\n",
    "sns.heatmap(CM_ST,cmap = \"BuPu\", annot=True, fmt = '.0f')\n",
    "plt.title ('Stacking Confusion Matrix')\n",
    "plt.show()"
   ]
  },
  {
   "cell_type": "markdown",
   "metadata": {},
   "source": [
    "Let's compute precision, recall, f1-score and accuracy by using Scikit-Learn’s classification_report() method:\n"
   ]
  },
  {
   "cell_type": "code",
   "execution_count": null,
   "metadata": {},
   "outputs": [],
   "source": [
    "print (classification_report(y_test,Stacking_Pred_))"
   ]
  },
  {
   "cell_type": "markdown",
   "metadata": {},
   "source": [
    "**Conclusion**<br>\n",
    "It can be concluded that Stacking Model predicted correctly 1771 cats, and wrongly predicted 835 cats as dogs,<br>\n",
    "and predicted correctly 1600 dogs, and wrongly predicted 1043 dogs as cats. \n"
   ]
  },
  {
   "cell_type": "markdown",
   "metadata": {},
   "source": [
    "# <b> Voting Classifier  <b>\n",
    "  \n",
    "Until now, I have trained a few classifiers, each one achieving about  99-100% accuracy.<br>\n",
    "Now, I will show Voting Classifier.<br>\n",
    "\n",
    "Voting classifier takes majority voting based on weights applied to the class or class probabilities and assigns a class label to a record based on majority vote.<br> \n",
    "In other words, Voting model aggregate the predictions of each classification model and predict the class that gets the most votes. <br>\n",
    "    \n",
    "There are two different voting schemes are common among voting classifiers:<br>\n",
    "1. **Hard voting (majority voting)**<br>\n",
    "Every individual classifier votes for a class, and the majority wins.<br>\n",
    "In statistical terms, the predicted target label of the ensemble is the mode of the distribution of individually predicted labels.\n",
    "2. **Soft voting**<br>\n",
    "Every individual classifier provides a probability value that a specific data point belongs to a particular target class.<br> The predictions are weighted by the classifier's importance and summed up.<br>\n",
    "Then the target label with the greatest sum of weighted probabilities wins the vote.<br>\n",
    "    \n",
    "    \n",
    "## Explain about method's parameters<b>\n",
    "\n",
    "**estimators**- List of tuples. Invoking the fit method on the VotingClassifier will fit clones of those original estimators that will be stored in the class attribute self.estimators_.<br>\n",
    "**voting**- Can be 'hard' or 'soft'. As I already explain before- If ‘hard’, uses predicted class labels for majority rule voting. Else if ‘soft’, predicts the class label based on the argmax of the sums of the predicted probabilities, which is recommended for an ensemble of well-calibrated classifiers.  <br>\n",
    "    \n",
    "## Importing additional libraries"
   ]
  },
  {
   "cell_type": "code",
   "execution_count": null,
   "metadata": {},
   "outputs": [],
   "source": [
    "from sklearn.ensemble import VotingClassifier\n",
    "import warnings"
   ]
  },
  {
   "cell_type": "code",
   "execution_count": null,
   "metadata": {},
   "outputs": [],
   "source": [
    "#Let's see again the df I have already created:\n",
    "data"
   ]
  },
  {
   "cell_type": "code",
   "execution_count": null,
   "metadata": {},
   "outputs": [],
   "source": [
    "## Fit & Predict\n",
    "\n",
    "**Conclusion**\n",
    "As you can see in the next cell, the models I have chosed are:Random Forests,Ada Boost,XGBoost,Knn,Bagging, Stacking.<br>\n",
    "I do not chose Logistic Regression because It is the model with the lowest accuracy .\n"
   ]
  },
  {
   "cell_type": "code",
   "execution_count": null,
   "metadata": {},
   "outputs": [],
   "source": [
    "#Start measuring running time\n",
    "StartTimeVoting = time.time()\n",
    "\n",
    "# instantiate the model\n",
    "Voting = VotingClassifier(estimators=[ ('rf', RForest),('ab',ada_clf),('xb',XGBoost), ('knn', knn),('bagg',Bagging),('stack',Stacking),('past',Pasting)],voting='soft')\n",
    "\n",
    "# fit the model with data\n",
    "Voting.fit(X_train_Reduced, y_train)\n",
    "\n",
    "#make predictions on the testing set (predict for first_test)\n",
    "Voting_Pred = Voting.predict(X_test_Reduced)\n",
    "\n",
    "#Finish measuring running time\n",
    "EndTimeVoting = time.time()\n",
    "\n",
    "#Toal running time\n",
    "TotalTimeVoting = EndTimeVoting - StartTimeVoting\n",
    "\n",
    "#Add model's running time to RunningTimes array, and name to ModelName array \n",
    "RunningTimes.append(TotalTimeVoting)\n",
    "ModelName.append('Voting')"
   ]
  },
  {
   "cell_type": "markdown",
   "metadata": {},
   "source": [
    "**Accuracy,Classification Error (Misclassification Rate) :**"
   ]
  },
  {
   "cell_type": "code",
   "execution_count": null,
   "metadata": {},
   "outputs": [],
   "source": [
    "accuracyVoting = metrics.accuracy_score(y_test, Voting_Pred)#check the predictions with the real values\n",
    "\n",
    "print(\"The Accuracy of this model is:\",accuracyVoting)\n",
    "print(\"the Classification Error for this model is:\", 1 - accuracyVoting)\n",
    "#Add model's accuracy to Accuracies array\n",
    "Accuracies.append(accuracyVoting)"
   ]
  },
  {
   "cell_type": "markdown",
   "metadata": {},
   "source": [
    "## Model evaluation metrics for classification\n",
    "\n",
    "### Confusion Matrix\n",
    "\n",
    "To visualize how many values the Voting classifier predicted correctly, <br>\n",
    "I will compute confusion_matrix by using Scikit-Learn’s confusion_matrix() function:"
   ]
  },
  {
   "cell_type": "code",
   "execution_count": null,
   "metadata": {},
   "outputs": [],
   "source": [
    "CM_VOT=confusion_matrix(y_test,Voting_Pred)\n",
    "CM_VOT"
   ]
  },
  {
   "cell_type": "code",
   "execution_count": null,
   "metadata": {},
   "outputs": [],
   "source": [
    "plt.figure(figsize=(10,10))#set size\n",
    "sns.heatmap(CM_VOT,cmap = \"BuPu\", annot=True, fmt = '.0f')\n",
    "plt.title ('Voting classifier Confusion Matrix')\n",
    "plt.show()"
   ]
  },
  {
   "cell_type": "markdown",
   "metadata": {},
   "source": [
    "### Classification Report"
   ]
  },
  {
   "cell_type": "code",
   "execution_count": null,
   "metadata": {},
   "outputs": [],
   "source": [
    "print (classification_report(y_test,Voting_Pred))"
   ]
  },
  {
   "cell_type": "markdown",
   "metadata": {},
   "source": [
    "**Conclusion**<br>\n",
    "It can be concluded that Voting Model predicted correctly 1795 cats, and wrongly predicted 811 cats as dogs,<br>\n",
    "and predicted correctly 1627 dogs, and wrongly predicted 1016 dogs as cats. \n"
   ]
  },
  {
   "cell_type": "markdown",
   "metadata": {},
   "source": [
    "## <b>Choosing Dummy Classifier</b><br>\n",
    "In our class we learned about 4 different kinds of dummy classifiers-<br>\n",
    "1. most_frequent-**always** predicts the most frequent label in the training set.<br>\n",
    "2. stratified-generates predictions by respecting the **training set’s class distribution**.<br>\n",
    "3. uniform-generates predictions uniformly at **random**.<br>\n",
    "4. constant-always predicts a label that **we provide him**.<br>\n",
    "**How will we going to choose the right dummy classifier?**<br>\n",
    "We will check the accuracy of each dummy classifier and choose the most accurate one.<br>\n"
   ]
  },
  {
   "cell_type": "code",
   "execution_count": null,
   "metadata": {},
   "outputs": [],
   "source": [
    "#most_frequent dummy classifier:\n",
    "from sklearn.dummy import DummyClassifier\n",
    "\n",
    "#Start measuring running time\n",
    "StartTimeDummyMF = time.time()\n",
    "\n",
    "dcM=DummyClassifier(strategy=\"most_frequent\",random_state=42)\n",
    "dcM.fit(X_train_Reduced, y_train)\n",
    "PredictionsM=dcM.predict(X_test_Reduced)\n",
    "\n",
    "#Finish measuring running time\n",
    "EndTimeDummyMF = time.time()\n",
    "\n",
    "#Total running time\n",
    "TotalTimeDummyMF= EndTimeDummyMF - StartTimeDummyMF\n",
    "\n",
    "most_frequentAccu=metrics.accuracy_score(y_test,PredictionsM)\n",
    "print(\"The accuracy of the most_frequent dummy classifier prediction is:\",most_frequentAccu)\n"
   ]
  },
  {
   "cell_type": "code",
   "execution_count": null,
   "metadata": {},
   "outputs": [],
   "source": [
    "#stratified dummy classifier:\n",
    "\n",
    "#Start measuring running time\n",
    "StartTimeDummySt = time.time()\n",
    "\n",
    "dcS=DummyClassifier(strategy=\"stratified\",random_state=42)\n",
    "dcS.fit(X_train_Reduced, y_train)\n",
    "PredictionsS=dcS.predict(X_test_Reduced)\n",
    "\n",
    "#Finish measuring running time\n",
    "EndTimeDummySt = time.time()\n",
    "\n",
    "#Total running time\n",
    "TotalTimeDummySt= EndTimeDummySt - StartTimeDummySt\n",
    "\n",
    "stratifiedAccu=metrics.accuracy_score(y_test,PredictionsS)\n",
    "print(\"The accuracy of the stratified dummy classifier prediction is:\",stratifiedAccu)\n",
    "\n"
   ]
  },
  {
   "cell_type": "code",
   "execution_count": null,
   "metadata": {},
   "outputs": [],
   "source": [
    "#uniform dummy classifier:\n",
    "\n",
    "#Start measuring running time\n",
    "StartTimeDummyUni = time.time()\n",
    "\n",
    "dcU=DummyClassifier(strategy=\"uniform\",random_state=42)\n",
    "dcU.fit(X_train_Reduced, y_train)\n",
    "PredictionsU=dcU.predict(X_test_Reduced)\n",
    "\n",
    "#Finish measuring running time\n",
    "EndTimeDummyUni = time.time()\n",
    "\n",
    "#Total running time\n",
    "TotalTimeDummyUni= EndTimeDummyUni - StartTimeDummyUni\n",
    "\n",
    "uniformAccu=metrics.accuracy_score(y_test,PredictionsU)\n",
    "print(\"The accuracy of the uniform dummy classifier prediction is:\",uniformAccu)\n"
   ]
  },
  {
   "cell_type": "code",
   "execution_count": null,
   "metadata": {},
   "outputs": [],
   "source": [
    "#constant dummy classifier:\n",
    "\n",
    "#Start measuring running time\n",
    "StartTimeDummyCon = time.time()\n",
    "\n",
    "dcC=DummyClassifier(strategy=\"constant\",random_state=42, constant=1)#why 1? because we saw that most of the password have this strenght value\n",
    "dcC.fit(X_train_Reduced, y_train)\n",
    "PredictionsC=dcC.predict(X_test_Reduced)\n",
    "\n",
    "#Finish measuring running time\n",
    "EndTimeDummyCon = time.time()\n",
    "\n",
    "#Total running time\n",
    "TotalTimeDummyCon= EndTimeDummyCon - StartTimeDummyCon\n",
    "\n",
    "constantAccu=metrics.accuracy_score(y_test,PredictionsC)\n",
    "print(\"The accuracy of the constant dummy classifier prediction is:\",constantAccu)\n"
   ]
  },
  {
   "cell_type": "code",
   "execution_count": null,
   "metadata": {},
   "outputs": [],
   "source": [
    "#Create array of all accuracies:\n",
    "DummyAccu=[most_frequentAccu,stratifiedAccu,uniformAccu,constantAccu]\n",
    "DummyRuntime=[TotalTimeDummyMF,TotalTimeDummySt,TotalTimeDummyUni,TotalTimeDummyCon]\n",
    "ModelNameDummy=['most_frequent','stratified','uniform','constant']\n",
    "\n",
    "#find the max&min values from RunningTimes array\n",
    "max_RunTime = np.max(DummyRuntime)\n",
    "min_RunTime = np.min(DummyRuntime)\n",
    "\n",
    "#find the index of max&min values\n",
    "index_maxRunTime=DummyRuntime.index(max_RunTime)\n",
    "index_minRunTime=DummyRuntime.index(min_RunTime)\n",
    "\n",
    "print(\"The model with the longest runtime is\",ModelNameDummy[index_maxRunTime], \"with running time of:\",max_RunTime  )\n",
    "print(\"The model with the shortest runtime is\",ModelNameDummy[index_minRunTime], \"with running time of:\",min_RunTime  )\n",
    "\n",
    "\n",
    "#find the max&min values from RunningTimes array\n",
    "max_Accuracy = np.max(DummyAccu)\n",
    "min_Accuracy = np.min(DummyAccu)\n",
    "\n",
    "#find the index of max&min values\n",
    "index_maxAccuracy=DummyAccu.index(max_Accuracy)\n",
    "index_minAccuracy=DummyAccu.index(min_Accuracy)\n",
    "\n",
    "print(\"The model with the best accuracy is\",ModelNameDummy[index_maxAccuracy], \"with accuracy of:\",max_Accuracy  )\n",
    "print(\"The model with the worst accuracy is\",ModelNameDummy[index_minAccuracy], \"with accuracy of:\",min_Accuracy  )"
   ]
  },
  {
   "cell_type": "markdown",
   "metadata": {},
   "source": [
    "## Plot Dummies Models Accuracy&RunTime"
   ]
  },
  {
   "cell_type": "code",
   "execution_count": null,
   "metadata": {},
   "outputs": [],
   "source": [
    "# Create bars\n",
    "barWidth = 0.9 #Width of each bar\n",
    "\n",
    "bars1=[TotalTimeDummyMF,TotalTimeDummySt,TotalTimeDummyUni,TotalTimeDummyCon] # X values of purple bars, represent the running time\n",
    "bars2=[most_frequentAccu,stratifiedAccu,uniformAccu,constantAccu]#Y values of green bars, represent the accuracies\n",
    " \n",
    "# The X position of bars\n",
    "r1=[1,4,7,10]\n",
    "r2=[2,5,8,11]\n",
    " \n",
    "# Create barplot\n",
    "plt.bar(r1, bars1, width = barWidth, color = (0.3,0.1,0.4,0.6), label='RunTime')\n",
    "plt.bar(r2, bars2, width = barWidth, color = (0.3,0.5,0.4,0.6), label='Accuracy')\n",
    "\n",
    "# Note: the barplot could be created easily. See the barplot section for other examples.\n",
    " \n",
    "# Create legend\n",
    "plt.legend()\n",
    " \n",
    "# Text below each barplot with a rotation at 90°\n",
    "plt.xticks([r + barWidth for r in range(12)], ['most_frequent RunTime', 'most_frequent Accuracy', ' ', 'Stratified RunTime', 'Stratified Accuracy', ' ', 'Uniform RunTime', 'Uniform Accuracy', ' ', 'Constant RunTime', 'Constant Accuracy', ' '], rotation=90)\n",
    "\n",
    "# Adjust the margins\n",
    "plt.subplots_adjust(bottom= 0.1, top = 0.98)\n",
    "\n",
    "# Show graphic\n",
    "plt.show()"
   ]
  },
  {
   "cell_type": "markdown",
   "metadata": {},
   "source": [
    "**Conclusion**<br>\n",
    "As It is possible to see, and also as I have already computed, the best Dummy model- both in terms of runtime and in terms of accuracy is: Uniform model.|<br>\n",
    "Therefore it will be the chosen model, and my final accuracy should be higher than this model accuracy.<br>\n",
    "Let's add Uniform Dummy Classifier to the arrays of accuracy and runtime:\n"
   ]
  },
  {
   "cell_type": "code",
   "execution_count": null,
   "metadata": {},
   "outputs": [],
   "source": [
    "#Add model's accuracy to Accuracies array\n",
    "Accuracies.append(uniformAccu)\n",
    "#Add model's running time to RunningTimes array, and name to ModelName array \n",
    "RunningTimes.append(TotalTimeDummyUni)\n",
    "ModelName.append('Uniform Dummy')"
   ]
  },
  {
   "cell_type": "code",
   "execution_count": null,
   "metadata": {},
   "outputs": [],
   "source": [
    "#Let's add to our df new 4 rows for -Bagging,Stacking,Voting and Dummy models \n",
    "\n",
    "#define df again with all models:\n",
    "data = pd.DataFrame({'Model': ModelName, 'Accuracies': list(Accuracies), 'RunTime':list(RunningTimes)}, columns=['Model', 'Accuracies', 'RunTime'])\n",
    "data"
   ]
  },
  {
   "cell_type": "markdown",
   "metadata": {},
   "source": [
    "Now, after I trained all the models I will compare their ROC curves.\n",
    "\n",
    "## <b>ROC curves and AUC ROC </b><br>\n"
   ]
  },
  {
   "cell_type": "code",
   "execution_count": null,
   "metadata": {},
   "outputs": [],
   "source": [
    "### <b> ROC Curves<b>\n",
    "\n",
    "I will show the ROC Curve for the Random Forests Classifier model, and because all the accuracies in all models are equal to 1,<br>\n",
    "we can concluse that there is no False Psitive Rate- so all models will be displayed the same.<br>\n",
    "Therefore there is no need to show the ROC Curves for all models, and I will show it for one model to get an intuition."
   ]
  },
  {
   "cell_type": "code",
   "execution_count": null,
   "metadata": {},
   "outputs": [],
   "source": [
    "probsKNN = knn.predict_proba(X_test_Reduced)[:, 1]\n",
    "probsLogReg = log_reg.predict_proba(X_test_Reduced)[:, 1]\n",
    "probsRF = RForest.predict_proba(X_test_Reduced)[:, 1]\n",
    "probsAda = ada_clf.predict_proba(X_test_Reduced)[:, 1]\n",
    "probsBag = Bagging.predict_proba(X_test_Reduced)[:, 1]\n",
    "probsXG = XGBoost.predict_proba(X_test_Reduced)[:, 1]\n",
    "probsStacking = Stacking_.predict_proba(X_test_Reduced)[:, 1]\n",
    "probsVoting = Voting.predict_proba(X_test_Reduced)[:, 1]\n",
    "dummyProbs = dcU.predict_proba(X_test_Reduced)[:, 1]\n",
    "probsPasting = Pasting.predict_proba(X_test_Reduced)[:, 1]\n",
    "\n",
    "fprKNN, tprKNN, thresholdsKNN = metrics.roc_curve(y_test, probsKNN)\n",
    "fprLogReg, tprLogReg, thresholdsLogReg = metrics.roc_curve(y_test, probsLogReg)\n",
    "fprRandFor, tprRandFor, thresholdsRandFor = metrics.roc_curve(y_test, probsRF)\n",
    "fprAdaB, tprAdaB, thresholdsAdaB = metrics.roc_curve(y_test, probsAda)\n",
    "fprBag, tprBag, thresholdsBag = metrics.roc_curve(y_test, probsBag)\n",
    "fprXGB, tprXGB, thresholdsXGB = metrics.roc_curve(y_test, probsXG)\n",
    "fprSta, tprSta, thresholdsSta = metrics.roc_curve(y_test, probsStacking)\n",
    "fprVot, tprVot, thresholdsVot = metrics.roc_curve(y_test, probsVoting)\n",
    "fprDummy, tprDummy, thresholdsDummy = metrics.roc_curve(y_test, dummyProbs)\n",
    "fprPas, tprPas, thresholdsPas = metrics.roc_curve(y_test, probsPasting)\n",
    "\n",
    "fig = plt.figure()\n",
    "axes = fig.add_axes([0,0,1,1])\n",
    "axes.plot(fprDummy, tprDummy, label = \"Dummy\")\n",
    "axes.plot(fprKNN, tprKNN, label = \"KNN\")\n",
    "axes.plot(fprLogReg, tprLogReg, label = \"LogReg\")\n",
    "axes.plot(fprRandFor, tprRandFor, label = \"Random Forest\")\n",
    "axes.plot(fprAdaB, tprAdaB, label = \"AdaBoost\")\n",
    "axes.plot(fprBag, tprBag, label = \"Bagging\")\n",
    "axes.plot(fprXGB, tprXGB, label = \"XGBoost\")\n",
    "axes.plot(fprSta, tprSta, label = \"Stacking\")\n",
    "axes.plot(fprVot, tprVot, label = \"Voting\")\n",
    "axes.plot(fprPas, tprPas, label = \"Pasting\")\n",
    "\n",
    "axes.set_xlabel(\"False positive rate\")\n",
    "axes.set_ylabel(\"True positive rate\")\n",
    "axes.set_title(\"ROC Curves for all models\")\n",
    "axes.legend()\n"
   ]
  },
  {
   "cell_type": "markdown",
   "metadata": {},
   "source": [
    "# <b> Finding The Best RunTime   <b>\n",
    "    \n",
    "I will use both array that I initialize above to find the Max&Min run time of all models: "
   ]
  },
  {
   "cell_type": "code",
   "execution_count": null,
   "metadata": {},
   "outputs": [],
   "source": [
    "#Conclusion from the df I created\n",
    "column = data[\"RunTime\"]\n",
    "min_RT = column.min()\n",
    "\n",
    "min_RT_Name=data.loc[data.RunTime == min_RT, 'Model'].values[0]\n",
    "\n",
    "print(\"The model with shortest runtime is:\",min_RT_Name ,\"with accuracy of:\" ,min_RT)"
   ]
  },
  {
   "cell_type": "code",
   "execution_count": null,
   "metadata": {},
   "outputs": [],
   "source": [
    "#Conclusion from the arrays I created\n",
    "#find the max&min values from RunningTimes array\n",
    "max_RunTime = np.max(RunningTimes)\n",
    "min_RunTime = np.min(RunningTimes)\n",
    "\n",
    "#find the index of max&min values\n",
    "index_maxRunTime=RunningTimes.index(max_RunTime)\n",
    "index_minRunTime=RunningTimes.index(min_RunTime)\n",
    "\n",
    "print(\"The model with the highest runtime is\",ModelName[index_maxRunTime], \"with running time of:\",max_RunTime,\"and accuracy of:\",Accuracies[index_maxRunTime] )\n",
    "print(\"The model with the lowest runtime is\",ModelName[index_minRunTime], \"with running time of:\",min_RunTime,\"and accuracy of:\",Accuracies[index_minRunTime]  )"
   ]
  },
  {
   "cell_type": "markdown",
   "metadata": {},
   "source": [
    "## <b>RunTime Visualization </b>"
   ]
  },
  {
   "cell_type": "code",
   "execution_count": null,
   "metadata": {},
   "outputs": [],
   "source": [
    "figure=plt.figure()\n",
    "\n",
    "axes=figure.add_axes([0,0,1,1])#determine the size of the figure- (0,0) is the lower left point of the new axes in figure coodinates,1 It is width and 1 height \n",
    "axes.bar(ModelName,RunningTimes)\n",
    "plt.title('RunTimes Of The Models')\n",
    "plt.xlabel('Model')\n",
    "plt.ylabel('RunTime [sec]')\n",
    "plt.xticks(rotation=90)\n",
    "plt.show()"
   ]
  },
  {
   "cell_type": "markdown",
   "metadata": {},
   "source": [
    "# <b> Finding The Best Accuracy   <b>\n",
    "    \n",
    "I will use both array that I initialize above to find the Max&Min run time of all models: "
   ]
  },
  {
   "cell_type": "code",
   "execution_count": null,
   "metadata": {},
   "outputs": [],
   "source": [
    "#Conclusion from the df I created\n",
    "column = data[\"Accuracies\"]\n",
    "max_Acu = column.max()\n",
    "\n",
    "max_Acu_Name=data.loc[data.Accuracies == max_Acu, 'Model'].values[0]\n",
    "\n",
    "print(\"The model with best accuracy is:\",max_Acu_Name ,\", with accuracy of:\" ,max_Acu)"
   ]
  },
  {
   "cell_type": "markdown",
   "metadata": {},
   "source": [
    "## <b>Accuracy Visualization </b>\n"
   ]
  },
  {
   "cell_type": "code",
   "execution_count": null,
   "metadata": {},
   "outputs": [],
   "source": [
    "figure=plt.figure()\n",
    "\n",
    "axes=figure.add_axes([0,0,1,1])#determine the size of the figure- (0,0) is the lower left point of the new axes in figure coodinates,1 It is width and 1 height \n",
    "axes.bar(ModelName,Accuracies)\n",
    "plt.title('Accuracies Of The Models')\n",
    "plt.xlabel('Model')\n",
    "plt.ylabel('Accuracy')\n",
    "plt.xticks(rotation=90)\n",
    "plt.show()"
   ]
  },
  {
   "cell_type": "markdown",
   "metadata": {},
   "source": [
    "# Conclusion about the best model<br>\n",
    "\n",
    "As we learned- the definition for 'Best Model' depends on a few things:<br>\n",
    "1.Accuracy<br>\n",
    "2.Runtime<br>\n",
    "These two conditions depends on costumer request-<br>\n",
    "If the costumer requires a model with higher accuracy- than I will use Voting Classifier model<br>\n",
    "If the costumer requires a model with the fastest runtime- than I will use Random Forests or KNN models. I will not choose Logistic Regression because althoght it has the fastest runtime (after dummy)- It accuracy is very low. <br>\n",
    "In my notebook, I will choose the best model as the most accurate model-means Voting.\n",
    "\n"
   ]
  },
  {
   "cell_type": "markdown",
   "metadata": {},
   "source": [
    "# Try to improve the best model\n",
    "\n",
    "After I found the best model, I would like to try improve It.<br>\n",
    "first, I will try to do so by the following steps:<br>\n",
    "1. Grid Search<br>\n",
    "2. Another run of the Voting Classifier model after chosen values from the Grid Search<br>\n",
    "3. Confusion Matrix&Classification report for the 'improved model'\n",
    "\n",
    "## Grid Search\n",
    "\n",
    "As I have already explained in the first notebook, due to low computer performence of my PC , It is immpossible to use Grid Search,<br> anyway, I want to show how I supposed to use the function and which parameters I would change:"
   ]
  },
  {
   "cell_type": "code",
   "execution_count": null,
   "metadata": {},
   "outputs": [],
   "source": []
  },
  {
   "cell_type": "code",
   "execution_count": null,
   "metadata": {},
   "outputs": [],
   "source": []
  },
  {
   "cell_type": "code",
   "execution_count": null,
   "metadata": {},
   "outputs": [],
   "source": []
  },
  {
   "cell_type": "code",
   "execution_count": null,
   "metadata": {},
   "outputs": [],
   "source": []
  },
  {
   "cell_type": "code",
   "execution_count": null,
   "metadata": {},
   "outputs": [],
   "source": [
    "from tensorflow.keras.datasets import fashion_mnist # load dataset\n"
   ]
  },
  {
   "cell_type": "code",
   "execution_count": null,
   "metadata": {},
   "outputs": [],
   "source": [
    "(x_train, x_lab),(y_test, y_lab) =fashion_mnist.load_data()\n",
    "plt.imshow(x_train[0])#I want to see an example how the first image from training set look like\n",
    "plt.title('Class: {}'.format(x_lab[0]))\n",
    "plt.figure()"
   ]
  },
  {
   "cell_type": "markdown",
   "metadata": {},
   "source": [
    "As we can see the image is of Ankle boot as i wrote -from label number 9."
   ]
  },
  {
   "cell_type": "code",
   "execution_count": null,
   "metadata": {},
   "outputs": [],
   "source": []
  },
  {
   "cell_type": "markdown",
   "metadata": {},
   "source": [
    "# Normalizing the data\n"
   ]
  },
  {
   "cell_type": "markdown",
   "metadata": {},
   "source": [
    "Normalizing the data is require because the values of the image lays between 0-25, so we have to normalize it for our model.<br>\n",
    "For that We will use the normalize function from keras.utils"
   ]
  },
  {
   "cell_type": "code",
   "execution_count": null,
   "metadata": {},
   "outputs": [],
   "source": []
  },
  {
   "cell_type": "code",
   "execution_count": null,
   "metadata": {},
   "outputs": [],
   "source": []
  },
  {
   "cell_type": "code",
   "execution_count": null,
   "metadata": {},
   "outputs": [],
   "source": [
    "בfmnist יש מה לעשות חוץ מלהראות את הדאטה וישר לאמן אותו?"
   ]
  },
  {
   "cell_type": "code",
   "execution_count": null,
   "metadata": {},
   "outputs": [],
   "source": [
    "ולמה הוא מתכוון כשהוא אומר לא לגעת בtest עד הסוף, הכוונה זה עד שמאמנים את המודל?"
   ]
  },
  {
   "cell_type": "code",
   "execution_count": null,
   "metadata": {},
   "outputs": [],
   "source": [
    "יש לך שני קבצי csv תעבוד רק על הcsv training . כשסיימת ויצרת את המודל תייצר pipeline ובסוף המחברת פשוט תחיל אותו על הtest"
   ]
  },
  {
   "cell_type": "code",
   "execution_count": null,
   "metadata": {},
   "outputs": [],
   "source": [
    "כשאני מנסה להריץ מודל בfemnist זה אומר שיש יותר מידי מיימדים, מה זה אומר?"
   ]
  },
  {
   "cell_type": "code",
   "execution_count": null,
   "metadata": {},
   "outputs": [],
   "source": [
    "לא יישרת את התמונה, לכן יש לדאטא שלך שלושה מימדים (מספר תמונות, אורך, רוחב)."
   ]
  },
  {
   "cell_type": "code",
   "execution_count": null,
   "metadata": {},
   "outputs": [],
   "source": [
    "נסי לעשות רישייפ לצורה דו מימדית (לסדר את הפיקסלים בשורה)."
   ]
  },
  {
   "cell_type": "code",
   "execution_count": null,
   "metadata": {},
   "outputs": [],
   "source": [
    "הפקודה היא x-train.reshape(60000,784) עבור דאטא בגודל 60000"
   ]
  },
  {
   "cell_type": "code",
   "execution_count": null,
   "metadata": {},
   "outputs": [],
   "source": []
  },
  {
   "cell_type": "code",
   "execution_count": null,
   "metadata": {},
   "outputs": [],
   "source": [
    "#fashion_mnist.keys()"
   ]
  },
  {
   "cell_type": "code",
   "execution_count": null,
   "metadata": {},
   "outputs": [],
   "source": [
    "X, y = fashion_mnist[\"data\"], fashion_mnist[\"target\"]\n",
    "X.shape"
   ]
  },
  {
   "cell_type": "code",
   "execution_count": null,
   "metadata": {},
   "outputs": [],
   "source": [
    "#from keras.datasets import fashion_mnist\n",
    "#from tensorflow.python._pywrap_tensorflow_internal import fashion_mnist\n"
   ]
  }
 ],
 "metadata": {
  "kernelspec": {
   "display_name": "Python 3",
   "language": "python",
   "name": "python3"
  },
  "language_info": {
   "codemirror_mode": {
    "name": "ipython",
    "version": 3
   },
   "file_extension": ".py",
   "mimetype": "text/x-python",
   "name": "python",
   "nbconvert_exporter": "python",
   "pygments_lexer": "ipython3",
   "version": "3.8.3"
  }
 },
 "nbformat": 4,
 "nbformat_minor": 4
}
