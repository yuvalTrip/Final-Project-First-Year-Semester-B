{
 "cells": [
  {
   "cell_type": "markdown",
   "metadata": {},
   "source": [
    "# Classification work in the course-Data imaging"
   ]
  },
  {
   "cell_type": "markdown",
   "metadata": {},
   "source": [
    "# Intro"
   ]
  },
  {
   "cell_type": "markdown",
   "metadata": {},
   "source": [
    "In this dataset we have data of hands’ postures collected by system called Leap-Motion.\n",
    "During the experiment there are two people are sitting in front of each other, Both people were told to do the following: \n",
    "1. Move their hands one next to another spontaneously.\n",
    "2. move their hands in an attempt to be in sync.\n",
    "\n",
    "There are 3 modes to the experiment:<br>\n",
    "**1.** **'Alone' mode**-  Each participant, in her turn, is asked to move his hand freely over the Leap-Motion controller.  <br>\n",
    "**2.** **'Autonomous' mode**- Same as the 'Alone' mode, but now the two participants can see each others movement during the experiment.  <br>\n",
    "**3.** **'Synchronization' mode**- The two participants are asked to moved in synchronization. They are invited\n",
    "to interpret synchronization as they understand.<br>\n",
    "\n",
    "In this notebook, I will take the data and organize it with pandas, and try to build an optimal model that given the hands’ postures I can understand in what mode the experiment was.\n",
    "\n",
    "01:39 מה הטענה שעומדת מאחורי זה\n",
    "\n"
   ]
  },
  {
   "cell_type": "markdown",
   "metadata": {},
   "source": [
    "# <b>Loading libraries</b>\n"
   ]
  },
  {
   "cell_type": "code",
   "execution_count": 1,
   "metadata": {},
   "outputs": [],
   "source": [
    "import matplotlib.pyplot as plt\n",
    "import numpy as np\n",
    "import pandas as pd\n",
    "from matplotlib.image import imread\n",
    "import seaborn as sns\n",
    "from sklearn.model_selection import train_test_split #to perform the splitting\n"
   ]
  },
  {
   "cell_type": "code",
   "execution_count": null,
   "metadata": {},
   "outputs": [],
   "source": []
  }
 ],
 "metadata": {
  "kernelspec": {
   "display_name": "Python 3",
   "language": "python",
   "name": "python3"
  },
  "language_info": {
   "codemirror_mode": {
    "name": "ipython",
    "version": 3
   },
   "file_extension": ".py",
   "mimetype": "text/x-python",
   "name": "python",
   "nbconvert_exporter": "python",
   "pygments_lexer": "ipython3",
   "version": "3.8.3"
  }
 },
 "nbformat": 4,
 "nbformat_minor": 4
}
