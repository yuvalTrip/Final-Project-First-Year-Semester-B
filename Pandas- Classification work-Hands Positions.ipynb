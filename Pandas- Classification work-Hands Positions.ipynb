{
 "cells": [
  {
   "cell_type": "markdown",
   "metadata": {},
   "source": [
    "# Classification work in the course-Data imaging"
   ]
  },
  {
   "cell_type": "markdown",
   "metadata": {},
   "source": [
    "# Intro"
   ]
  },
  {
   "cell_type": "markdown",
   "metadata": {},
   "source": [
    "In this dataset we have data of hands’ postures collected by system called Leap-Motion.\n",
    "During the experiment there are two people are sitting in front of each other, both people were told to do the following: \n",
    "1. Move their hands one next to another spontaneously.\n",
    "2. move their hands in an attempt to be in sync.\n",
    "\n",
    "There are 3 modes to the experiment:<br>\n",
    "**1.** **'Alone' mode**-  Each participant, in her turn, is asked to move his hand freely over the Leap-Motion controller.  <br>\n",
    "**2.** **'Autonomous' mode**- Same as the 'Alone' mode, but now the two participants can see each others movement during the experiment.  <br>\n",
    "**3.** **'Synchronization' mode**- The two participants are asked to moved in synchronization. They are invited\n",
    "to interpret synchronization as they understand.<br>\n",
    "\n",
    "In this notebook, I will take the data and organize it with pandas, and try to build an optimal model that given the hands’ postures I can understand in what mode the experiment was.\n",
    "\n",
    "01:39 מה הטענה שעומדת מאחורי זה\n",
    "\n"
   ]
  },
  {
   "cell_type": "markdown",
   "metadata": {},
   "source": [
    "# <b>Loading libraries</b>\n"
   ]
  },
  {
   "cell_type": "code",
   "execution_count": 1,
   "metadata": {},
   "outputs": [],
   "source": [
    "import matplotlib.pyplot as plt\n",
    "import numpy as np\n",
    "import pandas as pd\n",
    "from matplotlib.image import imread\n",
    "import seaborn as sns\n",
    "from sklearn.model_selection import train_test_split #to perform the splitting\n"
   ]
  },
  {
   "cell_type": "markdown",
   "metadata": {},
   "source": [
    "# <b>Loading dataset</b>\n",
    "\n",
    "As It has already explained in the attached Word file, <br>\n",
    "In each of the participants, if there is case with directories which have 2 recordings there — than the last collection should be taken.<br>\n",
    "\n",
    "## Train set\n"
   ]
  },
  {
   "cell_type": "code",
   "execution_count": 2,
   "metadata": {},
   "outputs": [],
   "source": [
    "Evyatar_spontan = pd.read_csv(r\"C:\\Users\\yuval\\Hand Positions\\extraFiles\\Training\\Evyatar Cohen\\Evyatar636771052727603804Spontan.csv\")\n",
    "Evyatar_sync = pd.read_csv(r\"C:\\Users\\yuval\\Hand Positions\\extraFiles\\Training\\Evyatar Cohen\\Evyatar636771053639929594Sync.csv\")\n",
    "Evyatar_alone = pd.read_csv(r\"C:\\Users\\yuval\\Hand Positions\\extraFiles\\Training\\Evyatar Cohen\\Evyatar636771054555711409Alone.csv\")\n",
    "\n",
    "Nofar_spontan = pd.read_csv(r\"C:\\Users\\yuval\\Hand Positions\\extraFiles\\Training\\Nofar Social_Nuero\\Nofar636759795182793299Spontan.csv\")\n",
    "Nofar_sync = pd.read_csv(r\"C:\\Users\\yuval\\Hand Positions\\extraFiles\\Training\\Nofar Social_Nuero\\Nofar636759797397919664Sync.csv\")\n",
    "Nofar_alone = pd.read_csv(r\"C:\\Users\\yuval\\Hand Positions\\extraFiles\\Training\\Nofar Social_Nuero\\Nofar636759796290435160Alone.csv\")\n",
    "\n",
    "Oriya_spontan = pd.read_csv(r\"C:\\Users\\yuval\\Hand Positions\\extraFiles\\Training\\Oriya Social_Nuero\\Oriya636759804404113837Spontan.csv\")\n",
    "Oriya_sync = pd.read_csv(r\"C:\\Users\\yuval\\Hand Positions\\extraFiles\\Training\\Oriya Social_Nuero\\Oriya636759806131350399Sync.csv\")\n",
    "Oriya_alone = pd.read_csv(r\"C:\\Users\\yuval\\Hand Positions\\extraFiles\\Training\\Oriya Social_Nuero\\Oriya636759805268396661Alone.csv\")\n",
    "\n",
    "Orya_spontan = pd.read_csv(r\"C:\\Users\\yuval\\Hand Positions\\extraFiles\\Training\\Orya Kalmanovitz\\OryaB636771083605535985Spontan.csv\")\n",
    "Orya_sync = pd.read_csv(r\"C:\\Users\\yuval\\Hand Positions\\extraFiles\\Training\\Orya Kalmanovitz\\OryaB636771084494502229Sync.csv\")\n",
    "Orya_alone = pd.read_csv(r\"C:\\Users\\yuval\\Hand Positions\\extraFiles\\Training\\Orya Kalmanovitz\\OryaB636771082736601528Alone.csv\")\n",
    "\n",
    "Revital_spontan = pd.read_csv(r\"C:\\Users\\yuval\\Hand Positions\\extraFiles\\Training\\Revital Marbel\\Revital636770957038873193Spontan.csv\")\n",
    "Revital_sync = pd.read_csv(r\"C:\\Users\\yuval\\Hand Positions\\extraFiles\\Training\\Revital Marbel\\Revital636770957894370062Sync.csv\")\n",
    "Revital_alone = pd.read_csv(r\"C:\\Users\\yuval\\Hand Positions\\extraFiles\\Training\\Revital Marbel\\Revital636770955999435879Alone.csv\")\n",
    "\n",
    "Shahar_spontan = pd.read_csv(r\"C:\\Users\\yuval\\Hand Positions\\extraFiles\\Training\\Shahar Terner\\Sachar636771045591258071Spontan.csv\")\n",
    "Shahar_sync = pd.read_csv(r\"C:\\Users\\yuval\\Hand Positions\\extraFiles\\Training\\Shahar Terner\\Sachar636771046527112972Sync.csv\")\n",
    "Shahar_alone = pd.read_csv(r\"C:\\Users\\yuval\\Hand Positions\\extraFiles\\Training\\Shahar Terner\\Sachar636771047408504303Alone.csv\")\n",
    "\n",
    "Shelly_spontan = pd.read_csv(r\"C:\\Users\\yuval\\Hand Positions\\extraFiles\\Training\\Shelly Social_Nuero\\Shelly636759787508979097Spontan.csv\")\n",
    "Shelly_sync = pd.read_csv(r\"C:\\Users\\yuval\\Hand Positions\\extraFiles\\Training\\Shelly Social_Nuero\\Shelly636759789526313406Sync.csv\")\n",
    "Shelly_alone = pd.read_csv(r\"C:\\Users\\yuval\\Hand Positions\\extraFiles\\Training\\Shelly Social_Nuero\\Shelly636759788383205274Alone.csv\")\n",
    "\n",
    "Yael_spontan = pd.read_csv(r\"C:\\Users\\yuval\\Hand Positions\\extraFiles\\Training\\Yael Hagai\\Yael636771059544754823Spontan.csv\")\n",
    "Yael_sync = pd.read_csv(r\"C:\\Users\\yuval\\Hand Positions\\extraFiles\\Training\\Yael Hagai\\Yael636771060699529085Sync.csv\")\n",
    "Yael_alone = pd.read_csv(r\"C:\\Users\\yuval\\Hand Positions\\extraFiles\\Training\\Yael Hagai\\Yael636771061659067649Alone.csv\")\n",
    "\n",
    "Yoel_spontan = pd.read_csv(r\"C:\\Users\\yuval\\Hand Positions\\extraFiles\\Training\\Yoel Raz\\Yoel636760921663075813Spontan.csv\")\n",
    "Yoel_sync = pd.read_csv(r\"C:\\Users\\yuval\\Hand Positions\\extraFiles\\Training\\Yoel Raz\\Yoel636760923490742912Sync.csv\")\n",
    "Yoel_alone = pd.read_csv(r\"C:\\Users\\yuval\\Hand Positions\\extraFiles\\Training\\Yoel Raz\\Yoel636760922573364655Alone.csv\")\n"
   ]
  },
  {
   "cell_type": "code",
   "execution_count": 3,
   "metadata": {},
   "outputs": [],
   "source": [
    "HandRight=pd.read_csv(r\"C:\\Users\\yuval\\Hand Positions\\extraFiles\\HandRight.csv\")\n"
   ]
  },
  {
   "cell_type": "markdown",
   "metadata": {},
   "source": [
    "## Test set"
   ]
  },
  {
   "cell_type": "code",
   "execution_count": 4,
   "metadata": {},
   "outputs": [],
   "source": [
    "litiel_spontan = pd.read_csv(r\"C:\\Users\\yuval\\Hand Positions\\extraFiles\\Validation\\Itiel Lab\\Itiel636770940701219076Spontan.csv\")\n",
    "litiel_sync = pd.read_csv(r\"C:\\Users\\yuval\\Hand Positions\\extraFiles\\Validation\\Itiel Lab\\Itiel636770941638547912Sync.csv\")\n",
    "litiel_alone = pd.read_csv(r\"C:\\Users\\yuval\\Hand Positions\\extraFiles\\Validation\\Itiel Lab\\Itiel636770942529041679Alone.csv\")\n",
    "\n",
    "Mor_spontan = pd.read_csv(r\"C:\\Users\\yuval\\Hand Positions\\extraFiles\\Validation\\Mor SHerman\\Mor636771064635567065Spontan.csv\")\n",
    "Mor_sync = pd.read_csv(r\"C:\\Users\\yuval\\Hand Positions\\extraFiles\\Validation\\Mor SHerman\\Mor636771065531910215Sync.csv\")\n",
    "Mor_alone = pd.read_csv(r\"C:\\Users\\yuval\\Hand Positions\\extraFiles\\Validation\\Mor SHerman\\Mor636771066407626524Alone.csv\")\n",
    "\n",
    "Oded_spontan = pd.read_csv(r\"C:\\Users\\yuval\\Hand Positions\\extraFiles\\Validation\\Oded Medina\\Oded636754670490266956Spontan.csv\")\n",
    "Oded_sync = pd.read_csv(r\"C:\\Users\\yuval\\Hand Positions\\extraFiles\\Validation\\Oded Medina\\Oded636754671560850581Sync.csv\")\n",
    "Oded_alone = pd.read_csv(r\"C:\\Users\\yuval\\Hand Positions\\extraFiles\\Validation\\Oded Medina\\Oded636754669540564461Alone.csv\")\n"
   ]
  },
  {
   "cell_type": "markdown",
   "metadata": {},
   "source": [
    "# Start to clean and unite data"
   ]
  },
  {
   "cell_type": "code",
   "execution_count": 5,
   "metadata": {},
   "outputs": [],
   "source": [
    "#I will create array of all the df of positions in train set\n",
    "AloneTrain=[Evyatar_alone,Nofar_alone,Oriya_alone,Orya_alone,Revital_alone,Shahar_alone,Shelly_alone,Yael_alone,Yoel_alone]\n",
    "SpontanTrain=[Evyatar_spontan,Nofar_spontan,Oriya_spontan,Orya_spontan,Revital_spontan,Shahar_spontan,Shelly_spontan,Yael_spontan,Yoel_spontan]\n",
    "SyncTrain=[Evyatar_sync,Nofar_sync,Oriya_sync,Orya_sync,Revital_sync,Shahar_sync,Shelly_sync,Yael_sync,Yoel_sync]\n",
    "\n",
    "AloneTest=[Mor_alone,Oded_alone,litiel_alone]\n",
    "SpontanTest=[litiel_spontan,Mor_spontan,Oded_spontan]\n",
    "SyncTest=[Oded_sync,litiel_sync,Mor_sync]"
   ]
  },
  {
   "cell_type": "markdown",
   "metadata": {},
   "source": [
    "### Check for Nan values "
   ]
  },
  {
   "cell_type": "code",
   "execution_count": 6,
   "metadata": {},
   "outputs": [
    {
     "name": "stdout",
     "output_type": "stream",
     "text": [
      "There are 2304 Nan values in HandRight\n"
     ]
    }
   ],
   "source": [
    "#for train array:\n",
    "for alone in AloneTrain:\n",
    "    if (alone.isnull().sum().sum()!=0):\n",
    "        print(\"There are\", alone.isnull().sum().sum(), \"Nan values in AloneTrain\")\n",
    "for spontan in SpontanTrain:\n",
    "    if (spontan.isnull().sum().sum()!=0):\n",
    "        print(\"There are\", spontan.isnull().sum().sum(), \"Nan values in SpontanTrain\")\n",
    "for sync in SyncTrain:\n",
    "    if (sync.isnull().sum().sum()!=0):\n",
    "        print(\"There are\", sync.isnull().sum().sum(), \"Nan values in SyncTrain\")\n",
    "        \n",
    "#for test set\n",
    "for alone in AloneTest:\n",
    "    if (alone.isnull().sum().sum()!=0):\n",
    "        print(\"There are\", alone.isnull().sum().sum(), \"Nan values in AloneTest\")\n",
    "for spontan in SpontanTest:\n",
    "    if (spontan.isnull().sum().sum()!=0):\n",
    "        print(\"There are\", spontan.isnull().sum().sum(), \"Nan values in SpontanTest\")\n",
    "for sync in SyncTest:\n",
    "    if (sync.isnull().sum().sum()!=0):\n",
    "        print(\"There are\", sync.isnull().sum().sum(), \"Nan values in SyncTest\")\n",
    "        \n",
    "#in HandRight\n",
    "if (HandRight.isnull().sum().sum()!=0):\n",
    "        print(\"There are\", HandRight.isnull().sum().sum(), \"Nan values in HandRight\")"
   ]
  },
  {
   "cell_type": "code",
   "execution_count": 7,
   "metadata": {},
   "outputs": [
    {
     "name": "stdout",
     "output_type": "stream",
     "text": [
      "At first there were 4812 rows.\n",
      "Now there are 4428 rows, and 0 Nan values in HandRight\n"
     ]
    }
   ],
   "source": [
    "Original_size=len(HandRight.index)\n",
    "print(\"At first there were\", Original_size,\"rows.\")\n",
    "#delete the Nan values\n",
    "HandRight.dropna(axis=0,inplace=True)\n",
    "print(\"Now there are\",len(HandRight.index),\"rows, and\",HandRight.isnull().sum().sum(), \"Nan values in HandRight\" )"
   ]
  },
  {
   "cell_type": "markdown",
   "metadata": {},
   "source": [
    "### Check for duplicate values "
   ]
  },
  {
   "cell_type": "code",
   "execution_count": 8,
   "metadata": {},
   "outputs": [
    {
     "name": "stdout",
     "output_type": "stream",
     "text": [
      "There are 0 duplicate values in HandRight\n"
     ]
    }
   ],
   "source": [
    "#for train array:\n",
    "for alone in AloneTrain:\n",
    "    if len(alone)-len(alone.drop_duplicates()) !=0:\n",
    "        print(\"There are\", len(alone)-len(alone.drop_duplicates()), \"duplicate values in AloneTrain\")\n",
    "for spontan in SpontanTrain:\n",
    "    if len(spontan)-len(spontan.drop_duplicates()) !=0:\n",
    "        print(\"There are\",len(spontan)-len(spontan.drop_duplicates()), \"duplicate values in SpontanTrain\")\n",
    "for sync in SyncTrain:\n",
    "    if len(sync)-len(sync.drop_duplicates()) !=0:\n",
    "        print(\"There are\",len(sync)-len(sync.drop_duplicates()), \"duplicate values in SyncTrain\")\n",
    "        \n",
    "#for test set\n",
    "for alone in AloneTest:\n",
    "    if len(alone)-len(alone.drop_duplicates()) !=0:\n",
    "        print(\"There are\",len(alone)-len(alone.drop_duplicates()), \"duplicate values in AloneTest\")\n",
    "for spontan in SpontanTest:\n",
    "    if len(spontan)-len(spontan.drop_duplicates()) !=0:\n",
    "        print(\"There are\", len(spontan)-len(spontan.drop_duplicates()), \"duplicate values in SpontanTest\")\n",
    "for sync in SyncTest:\n",
    "    if len(sync)-len(sync.drop_duplicates()) !=0:\n",
    "        print(\"There are\", len(sync)-len(sync.drop_duplicates()), \"duplicate values in SyncTest\")\n",
    "        \n",
    "#in HandRight\n",
    "print(\"There are\", len(HandRight)-len(HandRight.drop_duplicates()), \"duplicate values in HandRight\")"
   ]
  },
  {
   "cell_type": "markdown",
   "metadata": {},
   "source": [
    "*Conclusion*<br>\n",
    "There are no duplicate value in all df!<br>\n",
    "### Check if the data is proper\n",
    "Check It by look of things like :<br>\n",
    "1. In \"Hand Type\" column check if all rows equal to 'right'- in HandRight, and 'left' in all alone df<br>\n",
    "2. In \"# hands\" column check if all rows equal to '1'- in alone and HandRight df, and '2' in sync and spontan df<br>\n",
    "\n",
    "Before I will check It, I will change those columns name (without spaces)"
   ]
  },
  {
   "cell_type": "code",
   "execution_count": 9,
   "metadata": {},
   "outputs": [],
   "source": [
    "def ReplaceSpecialChar(array):\n",
    "    for element in range(len(array)):\n",
    "        array[element].columns = array[element].columns.str.replace(' ', '')\n",
    "        array[element].columns = array[element].columns.str.replace(\"#\", 'Num')#I want to change the column : #hands to NumHands in all df:\n",
    "\n",
    "    return array\n",
    "\n",
    "#Create united arrays:\n",
    "Train=[Evyatar_alone,Nofar_alone,Oriya_alone,Orya_alone,Revital_alone,Shahar_alone,Shelly_alone,Yael_alone,Yoel_alone,\n",
    "      Evyatar_spontan,Nofar_spontan,Oriya_spontan,Orya_spontan,Revital_spontan,Shahar_spontan,Shelly_spontan,Yael_spontan,Yoel_spontan,\n",
    "      Evyatar_sync,Nofar_sync,Oriya_sync,Orya_sync,Revital_sync,Shahar_sync,Shelly_sync,Yael_sync,Yoel_sync]\n",
    "\n",
    "Test=[Mor_alone,Oded_alone,litiel_alone,\n",
    "     litiel_spontan,Mor_spontan,Oded_spontan,\n",
    "     Oded_sync,litiel_sync,Mor_sync]\n",
    "\n",
    "#change the name of the columns in train to names without spaces:\n",
    "\n",
    "Train= ReplaceSpecialChar(Train)\n",
    "Test= ReplaceSpecialChar(Test)\n",
    "\n",
    "#To Handright in addition because we did not add it to Train nor Test array\n",
    "HandRight.columns = HandRight.columns.str.replace(' ', '')\n",
    "HandRight.columns = HandRight.columns.str.replace(\"#\", 'Num')\n"
   ]
  },
  {
   "cell_type": "code",
   "execution_count": 10,
   "metadata": {},
   "outputs": [
    {
     "data": {
      "text/plain": [
       "(4526, 22)"
      ]
     },
     "execution_count": 10,
     "metadata": {},
     "output_type": "execute_result"
    }
   ],
   "source": [
    "#I would like to show some of the shape for example\n",
    "Evyatar_alone.shape"
   ]
  },
  {
   "cell_type": "code",
   "execution_count": 11,
   "metadata": {},
   "outputs": [
    {
     "data": {
      "text/plain": [
       "(4428, 22)"
      ]
     },
     "execution_count": 11,
     "metadata": {},
     "output_type": "execute_result"
    }
   ],
   "source": [
    "HandRight.shape"
   ]
  },
  {
   "cell_type": "code",
   "execution_count": 12,
   "metadata": {},
   "outputs": [
    {
     "data": {
      "text/plain": [
       "(9054, 22)"
      ]
     },
     "execution_count": 12,
     "metadata": {},
     "output_type": "execute_result"
    }
   ],
   "source": [
    "Evyatar_spontan.shape"
   ]
  },
  {
   "cell_type": "code",
   "execution_count": 13,
   "metadata": {},
   "outputs": [],
   "source": [
    "#Now I will check if the data is proper\n",
    "leftAlone=[Evyatar_alone,Nofar_alone,Oriya_alone,Orya_alone,Revital_alone,Shahar_alone,Shelly_alone,Yael_alone,Yoel_alone,\n",
    "          Mor_alone,Oded_alone,litiel_alone]\n",
    "rightAlone=[HandRight]\n",
    "twoHands=[Evyatar_spontan,Nofar_spontan,Oriya_spontan,Orya_spontan,Revital_spontan,Shahar_spontan,Shelly_spontan,Yael_spontan,Yoel_spontan,\n",
    "        Evyatar_sync,Nofar_sync,Oriya_sync,Orya_sync,Revital_sync,Shahar_sync,Shelly_sync,Yael_sync,Yoel_sync,\n",
    "        litiel_spontan,Mor_spontan,Oded_spontan,\n",
    "        Oded_sync,litiel_sync,Mor_sync]\n",
    "\n",
    "for element in range(len(twoHands)):\n",
    "    temp=twoHands[element]\n",
    "    dftemp1=temp.query('Numhands==\"2\"')\n",
    "    twoHands[element]=dftemp1\n",
    "\n",
    "for element in range(len(leftAlone)):\n",
    "    temp=leftAlone[element]\n",
    "    dftemp1=temp.query('HandType==\"left\" and Numhands==\"1\" ')\n",
    "    leftAlone[element]=dftemp1\n",
    "    \n",
    "#to handRight:\n",
    "dftemp2=HandRight.query('HandType==\"right\" and Numhands==\"1\" ')\n",
    "HandRight=dftemp2"
   ]
  },
  {
   "cell_type": "code",
   "execution_count": 14,
   "metadata": {},
   "outputs": [
    {
     "data": {
      "text/plain": [
       "(4526, 22)"
      ]
     },
     "execution_count": 14,
     "metadata": {},
     "output_type": "execute_result"
    }
   ],
   "source": [
    "#Now let's show again the shapes for example, as you can see they have different values, meand there were unpropre data!\n",
    "Evyatar_alone.shape"
   ]
  },
  {
   "cell_type": "code",
   "execution_count": 15,
   "metadata": {},
   "outputs": [
    {
     "data": {
      "text/plain": [
       "(4314, 22)"
      ]
     },
     "execution_count": 15,
     "metadata": {},
     "output_type": "execute_result"
    }
   ],
   "source": [
    "HandRight.shape"
   ]
  },
  {
   "cell_type": "code",
   "execution_count": 16,
   "metadata": {},
   "outputs": [
    {
     "data": {
      "text/plain": [
       "(9054, 22)"
      ]
     },
     "execution_count": 16,
     "metadata": {},
     "output_type": "execute_result"
    }
   ],
   "source": [
    "Evyatar_spontan.shape"
   ]
  },
  {
   "cell_type": "markdown",
   "metadata": {},
   "source": [
    "### Delete first 7 seconds of df\n",
    "As It has already explained in the attached Word file, <br>\n",
    "I need to delete the first 7 seconds in every df.<br>\n",
    "\n",
    "#### Reset the time for all dataframes"
   ]
  },
  {
   "cell_type": "code",
   "execution_count": 17,
   "metadata": {},
   "outputs": [
    {
     "name": "stderr",
     "output_type": "stream",
     "text": [
      "<ipython-input-17-cf425c74e945>:24: SettingWithCopyWarning: \n",
      "A value is trying to be set on a copy of a slice from a DataFrame.\n",
      "Try using .loc[row_indexer,col_indexer] = value instead\n",
      "\n",
      "See the caveats in the documentation: https://pandas.pydata.org/pandas-docs/stable/user_guide/indexing.html#returning-a-view-versus-a-copy\n",
      "  HandRight['Time'] = HandRight['Time'] - HandRight.loc[0]['Time']\n"
     ]
    }
   ],
   "source": [
    "#resetting time in all dfs to start from 0\n",
    "#As I already define before:\n",
    "Train=[Evyatar_alone,Nofar_alone,Oriya_alone,Orya_alone,Revital_alone,Shahar_alone,Shelly_alone,Yael_alone,Yoel_alone,\n",
    "      Evyatar_spontan,Nofar_spontan,Oriya_spontan,Orya_spontan,Revital_spontan,Shahar_spontan,Shelly_spontan,Yael_spontan,Yoel_spontan,\n",
    "      Evyatar_sync,Nofar_sync,Oriya_sync,Orya_sync,Revital_sync,Shahar_sync,Shelly_sync,Yael_sync,Yoel_sync]\n",
    "\n",
    "Test=[Mor_alone,Oded_alone,litiel_alone,\n",
    "     litiel_spontan,Mor_spontan,Oded_spontan,\n",
    "     Oded_sync,litiel_sync,Mor_sync]\n",
    "\n",
    "#Reset time for Train dataframes\n",
    "for element in range(len(Train)):\n",
    "    Train[element] = Train[element].reset_index() #resetting index of the Train\n",
    "    Train[element] = Train[element].drop(['index'], axis = 1)\n",
    "    Train[element]['Time'] = Train[element]['Time'] - Train[element].loc[0]['Time'] #I will decrease from each cell the first cell \n",
    "\n",
    "#Reset time for Test dataframes\n",
    "for element in range(len(Test)):\n",
    "    Test[element] = Test[element].reset_index() #resetting index of the Train\n",
    "    Test[element] = Test[element].drop(['index'], axis = 1)\n",
    "    Test[element]['Time'] = Test[element]['Time'] - Test[element].loc[0]['Time'] #I will decrease from each cell the first cell \n",
    "\n",
    "#Reset the time for HandRight df\n",
    "HandRight['Time'] = HandRight['Time'] - HandRight.loc[0]['Time']    "
   ]
  },
  {
   "cell_type": "markdown",
   "metadata": {},
   "source": [
    "#### Now remove the first 7 seconds\n",
    "By restart the time, we can know when the time arrive to count of 7 seconds"
   ]
  },
  {
   "cell_type": "code",
   "execution_count": 18,
   "metadata": {},
   "outputs": [],
   "source": [
    "#Delete time for Train dataframes\n",
    "for element in range(len(Train)):\n",
    "    Train[element] = Train[element].loc[Train[element]['Time'] > 7]\n",
    "    \n",
    "#Delete time for Test dataframes\n",
    "for element in range(len(Test)):\n",
    "    Test[element] = Test[element].loc[Test[element]['Time'] > 7]\n",
    "    \n",
    "#For HandRight df\n",
    "HandRight = HandRight.loc[HandRight['Time'] > 7]\n",
    "\n"
   ]
  },
  {
   "cell_type": "markdown",
   "metadata": {},
   "source": [
    "### Check if there are 2 values of FrameID \n",
    "in all Sync df and spontan df, If there are less or more than 2 values for each frameID, that is mean that there was a problem(It should be one record for 'left', and 'right' to the other.<br>\n",
    "The same for Alone and HandRight. <br>\n",
    "Let's check how many records there are for each frameID: "
   ]
  },
  {
   "cell_type": "code",
   "execution_count": 19,
   "metadata": {},
   "outputs": [
    {
     "name": "stdout",
     "output_type": "stream",
     "text": [
      "(9054, 22)\n",
      "(8998, 22)\n",
      "(9050, 22)\n",
      "(8937, 22)\n",
      "(8826, 22)\n",
      "(9054, 22)\n",
      "(9054, 22)\n",
      "(8773, 22)\n",
      "(4375, 22)\n"
     ]
    }
   ],
   "source": [
    "\n",
    "#for example lets take the SpontanTrain array\n",
    "for element in range(len(SpontanTrain)):\n",
    "    print (SpontanTrain[element].shape)\n",
    "    "
   ]
  },
  {
   "cell_type": "code",
   "execution_count": 20,
   "metadata": {},
   "outputs": [],
   "source": [
    "def deleteInvalidOccurs(array,number_of_occurs):\n",
    "    for element in range(len(array)):\n",
    "        temp=pd.DataFrame(array[element].groupby(['FrameID']).count()['Time'])\n",
    "        temp=temp[temp['Time']!=number_of_occurs]\n",
    "       # print(len(temp))\n",
    "        for x in temp.index:#For each value I would like to delete It is row in the df\n",
    "            #print(x)\n",
    "            df=array[element]\n",
    "            #array[element] = df[df.FrameID != x]\n",
    "            df= df[df.FrameID != x]\n",
    "            array[element] = df\n",
    "    return array\n",
    "\n",
    "#Let's apply the function on all df:\n",
    "#for train set\n",
    "AloneTrain=deleteInvalidOccurs(AloneTrain,1)\n",
    "SpontanTrain=deleteInvalidOccurs(SpontanTrain,2)\n",
    "SyncTrain=deleteInvalidOccurs(SyncTrain,2)\n",
    "\n",
    "#for test set\n",
    "AloneTest=deleteInvalidOccurs(AloneTest,1)\n",
    "SpontanTest=deleteInvalidOccurs(SpontanTest,2)\n",
    "SyncTest=deleteInvalidOccurs(SyncTest,2)\n",
    "\n",
    "#for HandRight\n",
    "#HandRight=deleteInvalidOccurs(HandRight,1)\n"
   ]
  },
  {
   "cell_type": "code",
   "execution_count": 21,
   "metadata": {},
   "outputs": [
    {
     "name": "stdout",
     "output_type": "stream",
     "text": [
      "(9054, 22)\n",
      "(8942, 22)\n",
      "(9046, 22)\n",
      "(8804, 22)\n",
      "(8594, 22)\n",
      "(9054, 22)\n",
      "(9054, 22)\n",
      "(8492, 22)\n",
      "(4250, 22)\n",
      "As you can see the size has been changed, therefore it concluded that we deleted invalid records.\n"
     ]
    }
   ],
   "source": [
    "#Now let's check again the size of every df from SpontanTrain\n",
    "for element in range(len(SpontanTrain)):\n",
    "    print (SpontanTrain[element].shape)\n",
    "print(\"As you can see the size has been changed, therefore it concluded that we deleted invalid records.\")\n"
   ]
  },
  {
   "cell_type": "markdown",
   "metadata": {},
   "source": [
    "### Check if there are similar time value\n",
    "If there is, lets check"
   ]
  },
  {
   "cell_type": "code",
   "execution_count": 22,
   "metadata": {},
   "outputs": [],
   "source": [
    "def deleteSameTime(array):\n",
    "    for element in range(len(array)):\n",
    "        temp=pd.DataFrame(array[element].groupby(['Time']).count()['HandType'])\n",
    "        temp=temp[temp['HandType']!=1]\n",
    "       # print(len(temp))\n",
    "        for x in temp.index:#For each value I would like to delete It is row in the df\n",
    "            #print(x)\n",
    "            df=array[element]\n",
    "            #array[element] = df[df.FrameID != x]\n",
    "            df= df[df.FrameID != x]\n",
    "            array[element] = df\n",
    "    return array\n",
    "\n",
    "#Let's apply the function on all df:\n",
    "#for train set\n",
    "AloneTrain=deleteSameTime(AloneTrain)\n",
    "SpontanTrain=deleteSameTime(SpontanTrain)\n",
    "SyncTrain=deleteSameTime(SyncTrain)\n",
    "\n",
    "#for test set\n",
    "AloneTest=deleteSameTime(AloneTest)\n",
    "SpontanTest=deleteSameTime(SpontanTest)\n",
    "SyncTest=deleteSameTime(SyncTest)\n",
    "\n",
    "#for HandRight\n",
    "#HandRight=deleteInvalidOccurs(HandRight,1)\n"
   ]
  },
  {
   "cell_type": "code",
   "execution_count": 23,
   "metadata": {},
   "outputs": [
    {
     "name": "stdout",
     "output_type": "stream",
     "text": [
      "(9054, 22)\n",
      "(8942, 22)\n",
      "(9046, 22)\n",
      "(8804, 22)\n",
      "(8594, 22)\n",
      "(9054, 22)\n",
      "(9054, 22)\n",
      "(8492, 22)\n",
      "(4250, 22)\n",
      "As you can see the size has not been changed, therefore it concluded that there were not invalid records.\n"
     ]
    }
   ],
   "source": [
    "#Now let's check again the size of every df from SpontanTrain\n",
    "for element in range(len(SpontanTrain)):\n",
    "    print (SpontanTrain[element].shape)\n",
    "print(\"As you can see the size has not been changed, therefore it concluded that there were not invalid records.\")\n"
   ]
  },
  {
   "cell_type": "markdown",
   "metadata": {},
   "source": [
    "# Start To Merge Dataframes\n",
    "Before I will start, let me show you what I want to do:"
   ]
  },
  {
   "attachments": {
    "dfCombination.PNG": {
     "image/png": "[encoded data removed]"
    }
   },
   "cell_type": "markdown",
   "metadata": {},
   "source": [
    "![dfCombination.PNG](attachment:dfCombination.PNG)"
   ]
  },
  {
   "cell_type": "markdown",
   "metadata": {},
   "source": [
    "# Merge all Alone DF"
   ]
  },
  {
   "cell_type": "code",
   "execution_count": 24,
   "metadata": {},
   "outputs": [],
   "source": [
    "#Merge all Alone dataframes train into one, with concat method as we learned previous semester\n",
    "\n",
    "dfAloneTrain = pd.concat(AloneTrain)\n",
    "dfAloneTrain=dfAloneTrain.reset_index()\n",
    "dfAloneTrain.drop(['index'],axis='columns', inplace=True)\n",
    "\n",
    "#Now the test set\n",
    "dfAloneTest = pd.concat(AloneTest)\n",
    "dfAloneTest=dfAloneTest.reset_index()\n",
    "dfAloneTest.drop(['index'],axis='columns', inplace=True)\n"
   ]
  },
  {
   "cell_type": "code",
   "execution_count": 25,
   "metadata": {},
   "outputs": [],
   "source": [
    "#I will define the whole column 'HandPosition_Label' as 0 (alone position)         \n",
    "dfAloneTrain['HandPosition_Label']=0\n",
    "#Also for test set\n",
    "dfAloneTest['HandPosition_Label']=0"
   ]
  },
  {
   "cell_type": "markdown",
   "metadata": {},
   "source": [
    "# Merge Alone df with Hand Right dfHHHHHH wrote below\n",
    "\n",
    "First, let's check the size of dfAlone and HandRight"
   ]
  },
  {
   "cell_type": "code",
   "execution_count": 26,
   "metadata": {},
   "outputs": [
    {
     "name": "stdout",
     "output_type": "stream",
     "text": [
      "(3893, 22)\n",
      "(37812, 23)\n",
      "As It is possible to see, after each row of left hand in dfAlone, we should put right hand from HandRight df.\n",
      "Therefore, we need to add more 33919 rows to HandRight df \n"
     ]
    }
   ],
   "source": [
    "print(HandRight.shape)\n",
    "print(dfAloneTrain.shape)\n",
    "print(\"As It is possible to see, after each row of left hand in dfAlone, we should put right hand from HandRight df.\")\n",
    "print(\"Therefore, we need to add more\",len(dfAloneTrain.index)-len(HandRight.index), \"rows to HandRight df \")"
   ]
  },
  {
   "cell_type": "markdown",
   "metadata": {},
   "source": [
    "## Turn both dataframes to the same size"
   ]
  },
  {
   "cell_type": "code",
   "execution_count": 27,
   "metadata": {},
   "outputs": [],
   "source": [
    "#I will choose randomly more len(dfAloneTrain.index)-len(HandRight.index) - Allow a random selection of the same row more than once (by setting replace=True):\n",
    "\n",
    "dfAddHandRight = HandRight.sample(n=len(dfAloneTrain.index)-len(HandRight.index) ,replace=True)\n",
    "\n",
    "#and merge it with the HandRight df that already exist\n",
    "\n",
    "framesHandToAdd=[HandRight,dfAddHandRight]\n",
    "\n",
    "dfHandRight1 = pd.concat(framesHandToAdd)\n",
    "dfHandRight1=dfHandRight1.reset_index()\n",
    "dfHandRight1.drop(['index'],axis='columns', inplace=True)\n",
    "HandRight=dfHandRight1\n",
    "HandRight\n",
    "#I will define the whole column 'HandPosition_Label' as 0 (alone position)         \n",
    "HandRight['HandPosition_Label']=0"
   ]
  },
  {
   "cell_type": "code",
   "execution_count": 28,
   "metadata": {},
   "outputs": [
    {
     "name": "stdout",
     "output_type": "stream",
     "text": [
      "(37812, 23)\n",
      "(37812, 23)\n",
      "Now both df have the same size\n"
     ]
    }
   ],
   "source": [
    "print(HandRight.shape)\n",
    "print(dfAloneTrain.shape)\n",
    "print(\"Now both df have the same size\")"
   ]
  },
  {
   "cell_type": "markdown",
   "metadata": {},
   "source": [
    "## Merge both dataframes\n",
    "It is possible to see that the lenght of both df is equal , therefore I will merge them so that after each row from dfAlone,<br>\n",
    "There will be a row from HandRight df."
   ]
  },
  {
   "cell_type": "code",
   "execution_count": 29,
   "metadata": {},
   "outputs": [
    {
     "data": {
      "text/html": [
       "<div>\n",
       "<style scoped>\n",
       "    .dataframe tbody tr th:only-of-type {\n",
       "        vertical-align: middle;\n",
       "    }\n",
       "\n",
       "    .dataframe tbody tr th {\n",
       "        vertical-align: top;\n",
       "    }\n",
       "\n",
       "    .dataframe thead th {\n",
       "        text-align: right;\n",
       "    }\n",
       "</style>\n",
       "<table border=\"1\" class=\"dataframe\">\n",
       "  <thead>\n",
       "    <tr style=\"text-align: right;\">\n",
       "      <th></th>\n",
       "      <th>Time</th>\n",
       "      <th>FrameID</th>\n",
       "      <th>HandType</th>\n",
       "      <th>Numhands</th>\n",
       "      <th>PositionX</th>\n",
       "      <th>PositionY</th>\n",
       "      <th>PositionZ</th>\n",
       "      <th>VelocityX</th>\n",
       "      <th>VelocityY</th>\n",
       "      <th>VelocityZ</th>\n",
       "      <th>...</th>\n",
       "      <th>WristPosX</th>\n",
       "      <th>WristPosY</th>\n",
       "      <th>WristPosZ</th>\n",
       "      <th>ElbowposX</th>\n",
       "      <th>ElbowPosY</th>\n",
       "      <th>ElbowPosZ</th>\n",
       "      <th>GrabStrenth</th>\n",
       "      <th>GrabAngle</th>\n",
       "      <th>PinchStrength</th>\n",
       "      <th>HandPosition_Label</th>\n",
       "    </tr>\n",
       "  </thead>\n",
       "  <tbody>\n",
       "  </tbody>\n",
       "</table>\n",
       "<p>0 rows × 23 columns</p>\n",
       "</div>"
      ],
      "text/plain": [
       "Empty DataFrame\n",
       "Columns: [Time, FrameID, HandType, Numhands, PositionX, PositionY, PositionZ, VelocityX, VelocityY, VelocityZ, Pitch, Roll, Yaw, WristPosX, WristPosY, WristPosZ, ElbowposX, ElbowPosY, ElbowPosZ, GrabStrenth, GrabAngle, PinchStrength, HandPosition_Label]\n",
       "Index: []\n",
       "\n",
       "[0 rows x 23 columns]"
      ]
     },
     "execution_count": 29,
     "metadata": {},
     "output_type": "execute_result"
    }
   ],
   "source": [
    "#Create new empty df with the names of the columns\n",
    "\n",
    "dfAloneAndRight=pd.DataFrame(columns=HandRight.columns)\n",
    "dfAloneAndRight"
   ]
  },
  {
   "cell_type": "code",
   "execution_count": 30,
   "metadata": {},
   "outputs": [
    {
     "data": {
      "text/html": [
       "<div>\n",
       "<style scoped>\n",
       "    .dataframe tbody tr th:only-of-type {\n",
       "        vertical-align: middle;\n",
       "    }\n",
       "\n",
       "    .dataframe tbody tr th {\n",
       "        vertical-align: top;\n",
       "    }\n",
       "\n",
       "    .dataframe thead th {\n",
       "        text-align: right;\n",
       "    }\n",
       "</style>\n",
       "<table border=\"1\" class=\"dataframe\">\n",
       "  <thead>\n",
       "    <tr style=\"text-align: right;\">\n",
       "      <th></th>\n",
       "      <th>Time</th>\n",
       "      <th>FrameID</th>\n",
       "      <th>HandType</th>\n",
       "      <th>Numhands</th>\n",
       "      <th>PositionX</th>\n",
       "      <th>PositionY</th>\n",
       "      <th>PositionZ</th>\n",
       "      <th>VelocityX</th>\n",
       "      <th>VelocityY</th>\n",
       "      <th>VelocityZ</th>\n",
       "      <th>...</th>\n",
       "      <th>WristPosX</th>\n",
       "      <th>WristPosY</th>\n",
       "      <th>WristPosZ</th>\n",
       "      <th>ElbowposX</th>\n",
       "      <th>ElbowPosY</th>\n",
       "      <th>ElbowPosZ</th>\n",
       "      <th>GrabStrenth</th>\n",
       "      <th>GrabAngle</th>\n",
       "      <th>PinchStrength</th>\n",
       "      <th>HandPosition_Label</th>\n",
       "    </tr>\n",
       "  </thead>\n",
       "  <tbody>\n",
       "    <tr>\n",
       "      <th>0</th>\n",
       "      <td>518.8087</td>\n",
       "      <td>149620</td>\n",
       "      <td>left</td>\n",
       "      <td>1</td>\n",
       "      <td>-97.601600</td>\n",
       "      <td>164.1213</td>\n",
       "      <td>42.812550</td>\n",
       "      <td>104.258900</td>\n",
       "      <td>-491.673000</td>\n",
       "      <td>-55.427550</td>\n",
       "      <td>...</td>\n",
       "      <td>-166.720700</td>\n",
       "      <td>164.83200</td>\n",
       "      <td>27.58547</td>\n",
       "      <td>-378.1662</td>\n",
       "      <td>65.89330</td>\n",
       "      <td>-69.90282</td>\n",
       "      <td>0.000000</td>\n",
       "      <td>0.741855</td>\n",
       "      <td>0.000000</td>\n",
       "      <td>0</td>\n",
       "    </tr>\n",
       "    <tr>\n",
       "      <th>0</th>\n",
       "      <td>7.0141</td>\n",
       "      <td>16287</td>\n",
       "      <td>right</td>\n",
       "      <td>1</td>\n",
       "      <td>11.930320</td>\n",
       "      <td>199.9861</td>\n",
       "      <td>4.981665</td>\n",
       "      <td>-35.512210</td>\n",
       "      <td>-165.346600</td>\n",
       "      <td>-57.681530</td>\n",
       "      <td>...</td>\n",
       "      <td>75.457400</td>\n",
       "      <td>206.05210</td>\n",
       "      <td>45.38764</td>\n",
       "      <td>284.3946</td>\n",
       "      <td>140.01670</td>\n",
       "      <td>201.93180</td>\n",
       "      <td>0.000000</td>\n",
       "      <td>0.561324</td>\n",
       "      <td>0.000000</td>\n",
       "      <td>0</td>\n",
       "    </tr>\n",
       "    <tr>\n",
       "      <th>1</th>\n",
       "      <td>518.8252</td>\n",
       "      <td>149622</td>\n",
       "      <td>left</td>\n",
       "      <td>1</td>\n",
       "      <td>-95.780620</td>\n",
       "      <td>157.6353</td>\n",
       "      <td>42.180840</td>\n",
       "      <td>148.968300</td>\n",
       "      <td>-351.738600</td>\n",
       "      <td>-36.324220</td>\n",
       "      <td>...</td>\n",
       "      <td>-165.490700</td>\n",
       "      <td>155.64190</td>\n",
       "      <td>29.71037</td>\n",
       "      <td>-380.3233</td>\n",
       "      <td>52.92441</td>\n",
       "      <td>-55.71872</td>\n",
       "      <td>0.000000</td>\n",
       "      <td>0.827916</td>\n",
       "      <td>0.000000</td>\n",
       "      <td>0</td>\n",
       "    </tr>\n",
       "    <tr>\n",
       "      <th>1</th>\n",
       "      <td>7.0311</td>\n",
       "      <td>16289</td>\n",
       "      <td>right</td>\n",
       "      <td>1</td>\n",
       "      <td>11.191900</td>\n",
       "      <td>195.3075</td>\n",
       "      <td>3.661716</td>\n",
       "      <td>-43.587440</td>\n",
       "      <td>-309.837400</td>\n",
       "      <td>-77.185150</td>\n",
       "      <td>...</td>\n",
       "      <td>74.461410</td>\n",
       "      <td>202.45620</td>\n",
       "      <td>44.28679</td>\n",
       "      <td>282.6278</td>\n",
       "      <td>140.97120</td>\n",
       "      <td>203.67730</td>\n",
       "      <td>0.000000</td>\n",
       "      <td>0.626321</td>\n",
       "      <td>0.000000</td>\n",
       "      <td>0</td>\n",
       "    </tr>\n",
       "    <tr>\n",
       "      <th>2</th>\n",
       "      <td>518.8418</td>\n",
       "      <td>149623</td>\n",
       "      <td>left</td>\n",
       "      <td>1</td>\n",
       "      <td>-94.393600</td>\n",
       "      <td>154.6338</td>\n",
       "      <td>41.931710</td>\n",
       "      <td>161.695800</td>\n",
       "      <td>-349.911700</td>\n",
       "      <td>-29.042770</td>\n",
       "      <td>...</td>\n",
       "      <td>-164.365800</td>\n",
       "      <td>151.57010</td>\n",
       "      <td>31.05059</td>\n",
       "      <td>-381.7444</td>\n",
       "      <td>48.55032</td>\n",
       "      <td>-47.27909</td>\n",
       "      <td>0.000000</td>\n",
       "      <td>0.920401</td>\n",
       "      <td>0.000000</td>\n",
       "      <td>0</td>\n",
       "    </tr>\n",
       "    <tr>\n",
       "      <th>...</th>\n",
       "      <td>...</td>\n",
       "      <td>...</td>\n",
       "      <td>...</td>\n",
       "      <td>...</td>\n",
       "      <td>...</td>\n",
       "      <td>...</td>\n",
       "      <td>...</td>\n",
       "      <td>...</td>\n",
       "      <td>...</td>\n",
       "      <td>...</td>\n",
       "      <td>...</td>\n",
       "      <td>...</td>\n",
       "      <td>...</td>\n",
       "      <td>...</td>\n",
       "      <td>...</td>\n",
       "      <td>...</td>\n",
       "      <td>...</td>\n",
       "      <td>...</td>\n",
       "      <td>...</td>\n",
       "      <td>...</td>\n",
       "      <td>...</td>\n",
       "    </tr>\n",
       "    <tr>\n",
       "      <th>37809</th>\n",
       "      <td>41.5190</td>\n",
       "      <td>20265</td>\n",
       "      <td>right</td>\n",
       "      <td>1</td>\n",
       "      <td>-21.668520</td>\n",
       "      <td>277.4948</td>\n",
       "      <td>53.575950</td>\n",
       "      <td>-18.717190</td>\n",
       "      <td>-43.595140</td>\n",
       "      <td>-627.526700</td>\n",
       "      <td>...</td>\n",
       "      <td>-2.595561</td>\n",
       "      <td>209.79520</td>\n",
       "      <td>84.80747</td>\n",
       "      <td>122.3649</td>\n",
       "      <td>36.17240</td>\n",
       "      <td>254.23590</td>\n",
       "      <td>0.000000</td>\n",
       "      <td>0.179599</td>\n",
       "      <td>0.000000</td>\n",
       "      <td>0</td>\n",
       "    </tr>\n",
       "    <tr>\n",
       "      <th>37810</th>\n",
       "      <td>764.5587</td>\n",
       "      <td>59989</td>\n",
       "      <td>left</td>\n",
       "      <td>1</td>\n",
       "      <td>-125.135200</td>\n",
       "      <td>215.6353</td>\n",
       "      <td>23.802480</td>\n",
       "      <td>25.567410</td>\n",
       "      <td>-5.648659</td>\n",
       "      <td>21.284490</td>\n",
       "      <td>...</td>\n",
       "      <td>-143.848200</td>\n",
       "      <td>148.10240</td>\n",
       "      <td>46.72861</td>\n",
       "      <td>-248.2768</td>\n",
       "      <td>-84.26936</td>\n",
       "      <td>103.46830</td>\n",
       "      <td>0.097735</td>\n",
       "      <td>1.988376</td>\n",
       "      <td>0.000000</td>\n",
       "      <td>0</td>\n",
       "    </tr>\n",
       "    <tr>\n",
       "      <th>37810</th>\n",
       "      <td>40.8366</td>\n",
       "      <td>20186</td>\n",
       "      <td>right</td>\n",
       "      <td>1</td>\n",
       "      <td>6.290743</td>\n",
       "      <td>142.2433</td>\n",
       "      <td>-12.714530</td>\n",
       "      <td>9.804001</td>\n",
       "      <td>-262.811800</td>\n",
       "      <td>290.923900</td>\n",
       "      <td>...</td>\n",
       "      <td>23.902610</td>\n",
       "      <td>85.71391</td>\n",
       "      <td>36.26043</td>\n",
       "      <td>96.1618</td>\n",
       "      <td>-33.74253</td>\n",
       "      <td>270.72740</td>\n",
       "      <td>0.000000</td>\n",
       "      <td>0.134170</td>\n",
       "      <td>0.000000</td>\n",
       "      <td>0</td>\n",
       "    </tr>\n",
       "    <tr>\n",
       "      <th>37811</th>\n",
       "      <td>764.5913</td>\n",
       "      <td>59991</td>\n",
       "      <td>left</td>\n",
       "      <td>1</td>\n",
       "      <td>-123.998100</td>\n",
       "      <td>215.1558</td>\n",
       "      <td>24.269450</td>\n",
       "      <td>30.369090</td>\n",
       "      <td>-15.233250</td>\n",
       "      <td>6.734551</td>\n",
       "      <td>...</td>\n",
       "      <td>-142.683900</td>\n",
       "      <td>147.47030</td>\n",
       "      <td>46.75579</td>\n",
       "      <td>-247.4121</td>\n",
       "      <td>-84.85361</td>\n",
       "      <td>103.13800</td>\n",
       "      <td>0.065015</td>\n",
       "      <td>1.989704</td>\n",
       "      <td>0.016533</td>\n",
       "      <td>0</td>\n",
       "    </tr>\n",
       "    <tr>\n",
       "      <th>37811</th>\n",
       "      <td>22.3920</td>\n",
       "      <td>18060</td>\n",
       "      <td>right</td>\n",
       "      <td>1</td>\n",
       "      <td>30.597650</td>\n",
       "      <td>333.2746</td>\n",
       "      <td>72.671380</td>\n",
       "      <td>59.760030</td>\n",
       "      <td>-594.648900</td>\n",
       "      <td>-52.746860</td>\n",
       "      <td>...</td>\n",
       "      <td>50.000820</td>\n",
       "      <td>298.81770</td>\n",
       "      <td>139.20110</td>\n",
       "      <td>158.8528</td>\n",
       "      <td>135.48140</td>\n",
       "      <td>331.45780</td>\n",
       "      <td>0.000000</td>\n",
       "      <td>0.601310</td>\n",
       "      <td>0.000000</td>\n",
       "      <td>0</td>\n",
       "    </tr>\n",
       "  </tbody>\n",
       "</table>\n",
       "<p>75624 rows × 23 columns</p>\n",
       "</div>"
      ],
      "text/plain": [
       "           Time FrameID HandType Numhands   PositionX  PositionY  PositionZ  \\\n",
       "0      518.8087  149620     left        1  -97.601600   164.1213  42.812550   \n",
       "0        7.0141   16287    right        1   11.930320   199.9861   4.981665   \n",
       "1      518.8252  149622     left        1  -95.780620   157.6353  42.180840   \n",
       "1        7.0311   16289    right        1   11.191900   195.3075   3.661716   \n",
       "2      518.8418  149623     left        1  -94.393600   154.6338  41.931710   \n",
       "...         ...     ...      ...      ...         ...        ...        ...   \n",
       "37809   41.5190   20265    right        1  -21.668520   277.4948  53.575950   \n",
       "37810  764.5587   59989     left        1 -125.135200   215.6353  23.802480   \n",
       "37810   40.8366   20186    right        1    6.290743   142.2433 -12.714530   \n",
       "37811  764.5913   59991     left        1 -123.998100   215.1558  24.269450   \n",
       "37811   22.3920   18060    right        1   30.597650   333.2746  72.671380   \n",
       "\n",
       "        VelocityX   VelocityY   VelocityZ  ...   WristPosX  WristPosY  \\\n",
       "0      104.258900 -491.673000  -55.427550  ... -166.720700  164.83200   \n",
       "0      -35.512210 -165.346600  -57.681530  ...   75.457400  206.05210   \n",
       "1      148.968300 -351.738600  -36.324220  ... -165.490700  155.64190   \n",
       "1      -43.587440 -309.837400  -77.185150  ...   74.461410  202.45620   \n",
       "2      161.695800 -349.911700  -29.042770  ... -164.365800  151.57010   \n",
       "...           ...         ...         ...  ...         ...        ...   \n",
       "37809  -18.717190  -43.595140 -627.526700  ...   -2.595561  209.79520   \n",
       "37810   25.567410   -5.648659   21.284490  ... -143.848200  148.10240   \n",
       "37810    9.804001 -262.811800  290.923900  ...   23.902610   85.71391   \n",
       "37811   30.369090  -15.233250    6.734551  ... -142.683900  147.47030   \n",
       "37811   59.760030 -594.648900  -52.746860  ...   50.000820  298.81770   \n",
       "\n",
       "       WristPosZ  ElbowposX  ElbowPosY  ElbowPosZ  GrabStrenth  GrabAngle  \\\n",
       "0       27.58547  -378.1662   65.89330  -69.90282     0.000000   0.741855   \n",
       "0       45.38764   284.3946  140.01670  201.93180     0.000000   0.561324   \n",
       "1       29.71037  -380.3233   52.92441  -55.71872     0.000000   0.827916   \n",
       "1       44.28679   282.6278  140.97120  203.67730     0.000000   0.626321   \n",
       "2       31.05059  -381.7444   48.55032  -47.27909     0.000000   0.920401   \n",
       "...          ...        ...        ...        ...          ...        ...   \n",
       "37809   84.80747   122.3649   36.17240  254.23590     0.000000   0.179599   \n",
       "37810   46.72861  -248.2768  -84.26936  103.46830     0.097735   1.988376   \n",
       "37810   36.26043    96.1618  -33.74253  270.72740     0.000000   0.134170   \n",
       "37811   46.75579  -247.4121  -84.85361  103.13800     0.065015   1.989704   \n",
       "37811  139.20110   158.8528  135.48140  331.45780     0.000000   0.601310   \n",
       "\n",
       "       PinchStrength  HandPosition_Label  \n",
       "0           0.000000                   0  \n",
       "0           0.000000                   0  \n",
       "1           0.000000                   0  \n",
       "1           0.000000                   0  \n",
       "2           0.000000                   0  \n",
       "...              ...                 ...  \n",
       "37809       0.000000                   0  \n",
       "37810       0.000000                   0  \n",
       "37810       0.000000                   0  \n",
       "37811       0.016533                   0  \n",
       "37811       0.000000                   0  \n",
       "\n",
       "[75624 rows x 23 columns]"
      ]
     },
     "execution_count": 30,
     "metadata": {},
     "output_type": "execute_result"
    }
   ],
   "source": [
    "i=0\n",
    "while i<37812:\n",
    "    dfAloneAndRight=dfAloneAndRight.append(dfAloneTrain.loc[[i]])\n",
    "    dfAloneAndRight=dfAloneAndRight.append(HandRight.loc[[i]])\n",
    "    i=i+1\n",
    "dfAloneAndRight"
   ]
  },
  {
   "cell_type": "code",
   "execution_count": 31,
   "metadata": {},
   "outputs": [],
   "source": [
    "#instead of run this cell every time, I will save it as csv file\n",
    "dfAloneAndRight.to_csv(r'C:\\Users\\yuval\\Datasets\\HandsPositions\\dfAloneAndRight.csv')\n"
   ]
  },
  {
   "cell_type": "code",
   "execution_count": 32,
   "metadata": {},
   "outputs": [
    {
     "data": {
      "text/html": [
       "<div>\n",
       "<style scoped>\n",
       "    .dataframe tbody tr th:only-of-type {\n",
       "        vertical-align: middle;\n",
       "    }\n",
       "\n",
       "    .dataframe tbody tr th {\n",
       "        vertical-align: top;\n",
       "    }\n",
       "\n",
       "    .dataframe thead th {\n",
       "        text-align: right;\n",
       "    }\n",
       "</style>\n",
       "<table border=\"1\" class=\"dataframe\">\n",
       "  <thead>\n",
       "    <tr style=\"text-align: right;\">\n",
       "      <th></th>\n",
       "      <th>Unnamed: 0</th>\n",
       "      <th>Time</th>\n",
       "      <th>FrameID</th>\n",
       "      <th>HandType</th>\n",
       "      <th>Numhands</th>\n",
       "      <th>PositionX</th>\n",
       "      <th>PositionY</th>\n",
       "      <th>PositionZ</th>\n",
       "      <th>VelocityX</th>\n",
       "      <th>VelocityY</th>\n",
       "      <th>...</th>\n",
       "      <th>WristPosX</th>\n",
       "      <th>WristPosY</th>\n",
       "      <th>WristPosZ</th>\n",
       "      <th>ElbowposX</th>\n",
       "      <th>ElbowPosY</th>\n",
       "      <th>ElbowPosZ</th>\n",
       "      <th>GrabStrenth</th>\n",
       "      <th>GrabAngle</th>\n",
       "      <th>PinchStrength</th>\n",
       "      <th>HandPosition_Label</th>\n",
       "    </tr>\n",
       "  </thead>\n",
       "  <tbody>\n",
       "    <tr>\n",
       "      <th>0</th>\n",
       "      <td>0</td>\n",
       "      <td>518.8087</td>\n",
       "      <td>149620</td>\n",
       "      <td>left</td>\n",
       "      <td>1</td>\n",
       "      <td>-97.601600</td>\n",
       "      <td>164.1213</td>\n",
       "      <td>42.812550</td>\n",
       "      <td>104.258900</td>\n",
       "      <td>-491.673000</td>\n",
       "      <td>...</td>\n",
       "      <td>-166.720700</td>\n",
       "      <td>164.83200</td>\n",
       "      <td>27.58547</td>\n",
       "      <td>-378.1662</td>\n",
       "      <td>65.89330</td>\n",
       "      <td>-69.90282</td>\n",
       "      <td>0.000000</td>\n",
       "      <td>0.741855</td>\n",
       "      <td>0.000000</td>\n",
       "      <td>0</td>\n",
       "    </tr>\n",
       "    <tr>\n",
       "      <th>1</th>\n",
       "      <td>0</td>\n",
       "      <td>7.0141</td>\n",
       "      <td>16287</td>\n",
       "      <td>right</td>\n",
       "      <td>1</td>\n",
       "      <td>11.930320</td>\n",
       "      <td>199.9861</td>\n",
       "      <td>4.981665</td>\n",
       "      <td>-35.512210</td>\n",
       "      <td>-165.346600</td>\n",
       "      <td>...</td>\n",
       "      <td>75.457400</td>\n",
       "      <td>206.05210</td>\n",
       "      <td>45.38764</td>\n",
       "      <td>284.3946</td>\n",
       "      <td>140.01670</td>\n",
       "      <td>201.93180</td>\n",
       "      <td>0.000000</td>\n",
       "      <td>0.561324</td>\n",
       "      <td>0.000000</td>\n",
       "      <td>0</td>\n",
       "    </tr>\n",
       "    <tr>\n",
       "      <th>2</th>\n",
       "      <td>1</td>\n",
       "      <td>518.8252</td>\n",
       "      <td>149622</td>\n",
       "      <td>left</td>\n",
       "      <td>1</td>\n",
       "      <td>-95.780620</td>\n",
       "      <td>157.6353</td>\n",
       "      <td>42.180840</td>\n",
       "      <td>148.968300</td>\n",
       "      <td>-351.738600</td>\n",
       "      <td>...</td>\n",
       "      <td>-165.490700</td>\n",
       "      <td>155.64190</td>\n",
       "      <td>29.71037</td>\n",
       "      <td>-380.3233</td>\n",
       "      <td>52.92441</td>\n",
       "      <td>-55.71872</td>\n",
       "      <td>0.000000</td>\n",
       "      <td>0.827916</td>\n",
       "      <td>0.000000</td>\n",
       "      <td>0</td>\n",
       "    </tr>\n",
       "    <tr>\n",
       "      <th>3</th>\n",
       "      <td>1</td>\n",
       "      <td>7.0311</td>\n",
       "      <td>16289</td>\n",
       "      <td>right</td>\n",
       "      <td>1</td>\n",
       "      <td>11.191900</td>\n",
       "      <td>195.3075</td>\n",
       "      <td>3.661716</td>\n",
       "      <td>-43.587440</td>\n",
       "      <td>-309.837400</td>\n",
       "      <td>...</td>\n",
       "      <td>74.461410</td>\n",
       "      <td>202.45620</td>\n",
       "      <td>44.28679</td>\n",
       "      <td>282.6278</td>\n",
       "      <td>140.97120</td>\n",
       "      <td>203.67730</td>\n",
       "      <td>0.000000</td>\n",
       "      <td>0.626321</td>\n",
       "      <td>0.000000</td>\n",
       "      <td>0</td>\n",
       "    </tr>\n",
       "    <tr>\n",
       "      <th>4</th>\n",
       "      <td>2</td>\n",
       "      <td>518.8418</td>\n",
       "      <td>149623</td>\n",
       "      <td>left</td>\n",
       "      <td>1</td>\n",
       "      <td>-94.393600</td>\n",
       "      <td>154.6338</td>\n",
       "      <td>41.931710</td>\n",
       "      <td>161.695800</td>\n",
       "      <td>-349.911700</td>\n",
       "      <td>...</td>\n",
       "      <td>-164.365800</td>\n",
       "      <td>151.57010</td>\n",
       "      <td>31.05059</td>\n",
       "      <td>-381.7444</td>\n",
       "      <td>48.55032</td>\n",
       "      <td>-47.27909</td>\n",
       "      <td>0.000000</td>\n",
       "      <td>0.920401</td>\n",
       "      <td>0.000000</td>\n",
       "      <td>0</td>\n",
       "    </tr>\n",
       "    <tr>\n",
       "      <th>...</th>\n",
       "      <td>...</td>\n",
       "      <td>...</td>\n",
       "      <td>...</td>\n",
       "      <td>...</td>\n",
       "      <td>...</td>\n",
       "      <td>...</td>\n",
       "      <td>...</td>\n",
       "      <td>...</td>\n",
       "      <td>...</td>\n",
       "      <td>...</td>\n",
       "      <td>...</td>\n",
       "      <td>...</td>\n",
       "      <td>...</td>\n",
       "      <td>...</td>\n",
       "      <td>...</td>\n",
       "      <td>...</td>\n",
       "      <td>...</td>\n",
       "      <td>...</td>\n",
       "      <td>...</td>\n",
       "      <td>...</td>\n",
       "      <td>...</td>\n",
       "    </tr>\n",
       "    <tr>\n",
       "      <th>75619</th>\n",
       "      <td>37809</td>\n",
       "      <td>41.5190</td>\n",
       "      <td>20265</td>\n",
       "      <td>right</td>\n",
       "      <td>1</td>\n",
       "      <td>-21.668520</td>\n",
       "      <td>277.4948</td>\n",
       "      <td>53.575950</td>\n",
       "      <td>-18.717190</td>\n",
       "      <td>-43.595140</td>\n",
       "      <td>...</td>\n",
       "      <td>-2.595561</td>\n",
       "      <td>209.79520</td>\n",
       "      <td>84.80747</td>\n",
       "      <td>122.3649</td>\n",
       "      <td>36.17240</td>\n",
       "      <td>254.23590</td>\n",
       "      <td>0.000000</td>\n",
       "      <td>0.179599</td>\n",
       "      <td>0.000000</td>\n",
       "      <td>0</td>\n",
       "    </tr>\n",
       "    <tr>\n",
       "      <th>75620</th>\n",
       "      <td>37810</td>\n",
       "      <td>764.5587</td>\n",
       "      <td>59989</td>\n",
       "      <td>left</td>\n",
       "      <td>1</td>\n",
       "      <td>-125.135200</td>\n",
       "      <td>215.6353</td>\n",
       "      <td>23.802480</td>\n",
       "      <td>25.567410</td>\n",
       "      <td>-5.648659</td>\n",
       "      <td>...</td>\n",
       "      <td>-143.848200</td>\n",
       "      <td>148.10240</td>\n",
       "      <td>46.72861</td>\n",
       "      <td>-248.2768</td>\n",
       "      <td>-84.26936</td>\n",
       "      <td>103.46830</td>\n",
       "      <td>0.097735</td>\n",
       "      <td>1.988376</td>\n",
       "      <td>0.000000</td>\n",
       "      <td>0</td>\n",
       "    </tr>\n",
       "    <tr>\n",
       "      <th>75621</th>\n",
       "      <td>37810</td>\n",
       "      <td>40.8366</td>\n",
       "      <td>20186</td>\n",
       "      <td>right</td>\n",
       "      <td>1</td>\n",
       "      <td>6.290743</td>\n",
       "      <td>142.2433</td>\n",
       "      <td>-12.714530</td>\n",
       "      <td>9.804001</td>\n",
       "      <td>-262.811800</td>\n",
       "      <td>...</td>\n",
       "      <td>23.902610</td>\n",
       "      <td>85.71391</td>\n",
       "      <td>36.26043</td>\n",
       "      <td>96.1618</td>\n",
       "      <td>-33.74253</td>\n",
       "      <td>270.72740</td>\n",
       "      <td>0.000000</td>\n",
       "      <td>0.134170</td>\n",
       "      <td>0.000000</td>\n",
       "      <td>0</td>\n",
       "    </tr>\n",
       "    <tr>\n",
       "      <th>75622</th>\n",
       "      <td>37811</td>\n",
       "      <td>764.5913</td>\n",
       "      <td>59991</td>\n",
       "      <td>left</td>\n",
       "      <td>1</td>\n",
       "      <td>-123.998100</td>\n",
       "      <td>215.1558</td>\n",
       "      <td>24.269450</td>\n",
       "      <td>30.369090</td>\n",
       "      <td>-15.233250</td>\n",
       "      <td>...</td>\n",
       "      <td>-142.683900</td>\n",
       "      <td>147.47030</td>\n",
       "      <td>46.75579</td>\n",
       "      <td>-247.4121</td>\n",
       "      <td>-84.85361</td>\n",
       "      <td>103.13800</td>\n",
       "      <td>0.065015</td>\n",
       "      <td>1.989704</td>\n",
       "      <td>0.016533</td>\n",
       "      <td>0</td>\n",
       "    </tr>\n",
       "    <tr>\n",
       "      <th>75623</th>\n",
       "      <td>37811</td>\n",
       "      <td>22.3920</td>\n",
       "      <td>18060</td>\n",
       "      <td>right</td>\n",
       "      <td>1</td>\n",
       "      <td>30.597650</td>\n",
       "      <td>333.2746</td>\n",
       "      <td>72.671380</td>\n",
       "      <td>59.760030</td>\n",
       "      <td>-594.648900</td>\n",
       "      <td>...</td>\n",
       "      <td>50.000820</td>\n",
       "      <td>298.81770</td>\n",
       "      <td>139.20110</td>\n",
       "      <td>158.8528</td>\n",
       "      <td>135.48140</td>\n",
       "      <td>331.45780</td>\n",
       "      <td>0.000000</td>\n",
       "      <td>0.601310</td>\n",
       "      <td>0.000000</td>\n",
       "      <td>0</td>\n",
       "    </tr>\n",
       "  </tbody>\n",
       "</table>\n",
       "<p>75624 rows × 24 columns</p>\n",
       "</div>"
      ],
      "text/plain": [
       "       Unnamed: 0      Time  FrameID HandType  Numhands   PositionX  \\\n",
       "0               0  518.8087   149620     left         1  -97.601600   \n",
       "1               0    7.0141    16287    right         1   11.930320   \n",
       "2               1  518.8252   149622     left         1  -95.780620   \n",
       "3               1    7.0311    16289    right         1   11.191900   \n",
       "4               2  518.8418   149623     left         1  -94.393600   \n",
       "...           ...       ...      ...      ...       ...         ...   \n",
       "75619       37809   41.5190    20265    right         1  -21.668520   \n",
       "75620       37810  764.5587    59989     left         1 -125.135200   \n",
       "75621       37810   40.8366    20186    right         1    6.290743   \n",
       "75622       37811  764.5913    59991     left         1 -123.998100   \n",
       "75623       37811   22.3920    18060    right         1   30.597650   \n",
       "\n",
       "       PositionY  PositionZ   VelocityX   VelocityY  ...   WristPosX  \\\n",
       "0       164.1213  42.812550  104.258900 -491.673000  ... -166.720700   \n",
       "1       199.9861   4.981665  -35.512210 -165.346600  ...   75.457400   \n",
       "2       157.6353  42.180840  148.968300 -351.738600  ... -165.490700   \n",
       "3       195.3075   3.661716  -43.587440 -309.837400  ...   74.461410   \n",
       "4       154.6338  41.931710  161.695800 -349.911700  ... -164.365800   \n",
       "...          ...        ...         ...         ...  ...         ...   \n",
       "75619   277.4948  53.575950  -18.717190  -43.595140  ...   -2.595561   \n",
       "75620   215.6353  23.802480   25.567410   -5.648659  ... -143.848200   \n",
       "75621   142.2433 -12.714530    9.804001 -262.811800  ...   23.902610   \n",
       "75622   215.1558  24.269450   30.369090  -15.233250  ... -142.683900   \n",
       "75623   333.2746  72.671380   59.760030 -594.648900  ...   50.000820   \n",
       "\n",
       "       WristPosY  WristPosZ  ElbowposX  ElbowPosY  ElbowPosZ  GrabStrenth  \\\n",
       "0      164.83200   27.58547  -378.1662   65.89330  -69.90282     0.000000   \n",
       "1      206.05210   45.38764   284.3946  140.01670  201.93180     0.000000   \n",
       "2      155.64190   29.71037  -380.3233   52.92441  -55.71872     0.000000   \n",
       "3      202.45620   44.28679   282.6278  140.97120  203.67730     0.000000   \n",
       "4      151.57010   31.05059  -381.7444   48.55032  -47.27909     0.000000   \n",
       "...          ...        ...        ...        ...        ...          ...   \n",
       "75619  209.79520   84.80747   122.3649   36.17240  254.23590     0.000000   \n",
       "75620  148.10240   46.72861  -248.2768  -84.26936  103.46830     0.097735   \n",
       "75621   85.71391   36.26043    96.1618  -33.74253  270.72740     0.000000   \n",
       "75622  147.47030   46.75579  -247.4121  -84.85361  103.13800     0.065015   \n",
       "75623  298.81770  139.20110   158.8528  135.48140  331.45780     0.000000   \n",
       "\n",
       "       GrabAngle  PinchStrength  HandPosition_Label  \n",
       "0       0.741855       0.000000                   0  \n",
       "1       0.561324       0.000000                   0  \n",
       "2       0.827916       0.000000                   0  \n",
       "3       0.626321       0.000000                   0  \n",
       "4       0.920401       0.000000                   0  \n",
       "...          ...            ...                 ...  \n",
       "75619   0.179599       0.000000                   0  \n",
       "75620   1.988376       0.000000                   0  \n",
       "75621   0.134170       0.000000                   0  \n",
       "75622   1.989704       0.016533                   0  \n",
       "75623   0.601310       0.000000                   0  \n",
       "\n",
       "[75624 rows x 24 columns]"
      ]
     },
     "execution_count": 32,
     "metadata": {},
     "output_type": "execute_result"
    }
   ],
   "source": [
    "#import again the csv file\n",
    "dfAloneAndRight = pd.read_csv(r\"C:\\Users\\yuval\\Datasets\\HandsPositions\\dfAloneAndRight.csv\")\n",
    "dfAloneAndRight"
   ]
  },
  {
   "cell_type": "code",
   "execution_count": 33,
   "metadata": {},
   "outputs": [],
   "source": [
    "dfAloneAndRight=dfAloneAndRight.drop(['Unnamed: 0'], axis=1)"
   ]
  },
  {
   "attachments": {
    "dfOneSideCheck.PNG": {
     "image/png": "[encoded data removed]"
    }
   },
   "cell_type": "markdown",
   "metadata": {},
   "source": [
    "![dfOneSideCheck.PNG](attachment:dfOneSideCheck.PNG)"
   ]
  },
  {
   "cell_type": "markdown",
   "metadata": {},
   "source": [
    "# Merge all Sync dataframes\n",
    "First of all, let's check the size of all the sycc dataframes:"
   ]
  },
  {
   "cell_type": "code",
   "execution_count": 34,
   "metadata": {},
   "outputs": [
    {
     "name": "stdout",
     "output_type": "stream",
     "text": [
      "The shape is (9052, 22)\n",
      "The shape is (9054, 22)\n",
      "The shape is (9024, 22)\n",
      "The shape is (9042, 22)\n",
      "The shape is (7898, 22)\n",
      "The shape is (9038, 22)\n",
      "The shape is (9054, 22)\n",
      "The shape is (8604, 22)\n",
      "The shape is (4500, 22)\n"
     ]
    }
   ],
   "source": [
    "#first, let's check if all sizes of sync df are even numbers \n",
    "#(because it should be pairs of left and right by the same value of frame ID)\n",
    "for element in range(len(SyncTrain)):\n",
    "    temp=SyncTrain[element]\n",
    "    print(\"The shape is\", temp.shape)\n"
   ]
  },
  {
   "cell_type": "code",
   "execution_count": 35,
   "metadata": {},
   "outputs": [
    {
     "name": "stdout",
     "output_type": "stream",
     "text": [
      "(75266, 23)\n",
      "(22020, 23)\n"
     ]
    }
   ],
   "source": [
    "# For train set:\n",
    "dfSyncTrain= pd.concat(SyncTrain)\n",
    "dfSyncTrain=dfSyncTrain.reset_index()\n",
    "dfSyncTrain.drop(['index'],axis='columns', inplace=True)\n",
    "#I will define the whole column 'HandPosition_Label' as 1 (Sync position)         \n",
    "dfSyncTrain['HandPosition_Label']=1\n",
    "\n",
    "#For test set\n",
    "dfSyncTest= pd.concat(SyncTest)\n",
    "dfSyncTest=dfSyncTest.reset_index()\n",
    "dfSyncTest.drop(['index'],axis='columns', inplace=True)\n",
    "#I will define the whole column 'HandPosition_Label' as 1 (Sync position)         \n",
    "dfSyncTest['HandPosition_Label']=1\n",
    "\n",
    "print(dfSyncTrain.shape)\n",
    "print(dfSyncTest.shape)"
   ]
  },
  {
   "cell_type": "markdown",
   "metadata": {},
   "source": [
    "# Merge all Spontan dataframes"
   ]
  },
  {
   "cell_type": "code",
   "execution_count": 36,
   "metadata": {},
   "outputs": [
    {
     "name": "stdout",
     "output_type": "stream",
     "text": [
      "The shape is (9054, 22)\n",
      "The shape is (8942, 22)\n",
      "The shape is (9046, 22)\n",
      "The shape is (8804, 22)\n",
      "The shape is (8594, 22)\n",
      "The shape is (9054, 22)\n",
      "The shape is (9054, 22)\n",
      "The shape is (8492, 22)\n",
      "The shape is (4250, 22)\n"
     ]
    }
   ],
   "source": [
    "#first, let's check if all sizes of sync df are even numbers \n",
    "#(because it should be pairs of left and right by the same value of frame ID)\n",
    "for element in range(len(SpontanTrain)):\n",
    "    temp=SpontanTrain[element]\n",
    "    print(\"The shape is\", temp.shape)"
   ]
  },
  {
   "cell_type": "code",
   "execution_count": 37,
   "metadata": {},
   "outputs": [
    {
     "name": "stdout",
     "output_type": "stream",
     "text": [
      "(75290, 23)\n",
      "(22306, 23)\n"
     ]
    }
   ],
   "source": [
    "# For train set:\n",
    "dfSpontanTrain= pd.concat(SpontanTrain)\n",
    "dfSpontanTrain=dfSpontanTrain.reset_index()\n",
    "dfSpontanTrain.drop(['index'],axis='columns', inplace=True)\n",
    "#I will define the whole column 'HandPosition_Label' as 0 (Sync position)         \n",
    "dfSpontanTrain['HandPosition_Label']=2\n",
    "\n",
    "#For test set\n",
    "dfSpontanTest= pd.concat(SpontanTest)\n",
    "dfSpontanTest=dfSpontanTest.reset_index()\n",
    "dfSpontanTest.drop(['index'],axis='columns', inplace=True)\n",
    "#I will define the whole column 'HandPosition_Label' as 0 (Sync position)         \n",
    "dfSpontanTest['HandPosition_Label']=2\n",
    "\n",
    "print(dfSpontanTrain.shape)\n",
    "print(dfSpontanTest.shape)"
   ]
  },
  {
   "attachments": {
    "dfSecSideAlmost.PNG": {
     "image/png": "[encoded data removed]"
    }
   },
   "cell_type": "markdown",
   "metadata": {},
   "source": [
    "![dfSecSideAlmost.PNG](attachment:dfSecSideAlmost.PNG)"
   ]
  },
  {
   "cell_type": "markdown",
   "metadata": {},
   "source": [
    "# Merge all Sync&Spontan dataframes"
   ]
  },
  {
   "cell_type": "code",
   "execution_count": 38,
   "metadata": {},
   "outputs": [
    {
     "data": {
      "text/html": [
       "<div>\n",
       "<style scoped>\n",
       "    .dataframe tbody tr th:only-of-type {\n",
       "        vertical-align: middle;\n",
       "    }\n",
       "\n",
       "    .dataframe tbody tr th {\n",
       "        vertical-align: top;\n",
       "    }\n",
       "\n",
       "    .dataframe thead th {\n",
       "        text-align: right;\n",
       "    }\n",
       "</style>\n",
       "<table border=\"1\" class=\"dataframe\">\n",
       "  <thead>\n",
       "    <tr style=\"text-align: right;\">\n",
       "      <th></th>\n",
       "      <th>Time</th>\n",
       "      <th>FrameID</th>\n",
       "      <th>HandType</th>\n",
       "      <th>Numhands</th>\n",
       "      <th>PositionX</th>\n",
       "      <th>PositionY</th>\n",
       "      <th>PositionZ</th>\n",
       "      <th>VelocityX</th>\n",
       "      <th>VelocityY</th>\n",
       "      <th>VelocityZ</th>\n",
       "      <th>...</th>\n",
       "      <th>WristPosX</th>\n",
       "      <th>WristPosY</th>\n",
       "      <th>WristPosZ</th>\n",
       "      <th>ElbowposX</th>\n",
       "      <th>ElbowPosY</th>\n",
       "      <th>ElbowPosZ</th>\n",
       "      <th>GrabStrenth</th>\n",
       "      <th>GrabAngle</th>\n",
       "      <th>PinchStrength</th>\n",
       "      <th>HandPosition_Label</th>\n",
       "    </tr>\n",
       "  </thead>\n",
       "  <tbody>\n",
       "    <tr>\n",
       "      <th>0</th>\n",
       "      <td>335.9984</td>\n",
       "      <td>128556</td>\n",
       "      <td>right</td>\n",
       "      <td>2</td>\n",
       "      <td>128.63570</td>\n",
       "      <td>224.0294</td>\n",
       "      <td>-12.295880</td>\n",
       "      <td>-18.26243</td>\n",
       "      <td>-140.54450</td>\n",
       "      <td>-117.57790</td>\n",
       "      <td>...</td>\n",
       "      <td>177.5125</td>\n",
       "      <td>173.5658</td>\n",
       "      <td>-14.569630</td>\n",
       "      <td>276.8753</td>\n",
       "      <td>-33.68264</td>\n",
       "      <td>91.61740</td>\n",
       "      <td>0.0</td>\n",
       "      <td>1.250576</td>\n",
       "      <td>0.0</td>\n",
       "      <td>2</td>\n",
       "    </tr>\n",
       "    <tr>\n",
       "      <th>1</th>\n",
       "      <td>335.9984</td>\n",
       "      <td>128556</td>\n",
       "      <td>left</td>\n",
       "      <td>2</td>\n",
       "      <td>-93.24845</td>\n",
       "      <td>143.9423</td>\n",
       "      <td>-37.815970</td>\n",
       "      <td>-109.09820</td>\n",
       "      <td>240.38980</td>\n",
       "      <td>-67.62959</td>\n",
       "      <td>...</td>\n",
       "      <td>-147.0455</td>\n",
       "      <td>109.9380</td>\n",
       "      <td>-5.326688</td>\n",
       "      <td>-329.8577</td>\n",
       "      <td>-34.41571</td>\n",
       "      <td>93.88171</td>\n",
       "      <td>0.0</td>\n",
       "      <td>0.014736</td>\n",
       "      <td>0.0</td>\n",
       "      <td>2</td>\n",
       "    </tr>\n",
       "    <tr>\n",
       "      <th>2</th>\n",
       "      <td>336.0150</td>\n",
       "      <td>128558</td>\n",
       "      <td>right</td>\n",
       "      <td>2</td>\n",
       "      <td>129.15550</td>\n",
       "      <td>221.9923</td>\n",
       "      <td>-15.001810</td>\n",
       "      <td>47.36464</td>\n",
       "      <td>-64.25022</td>\n",
       "      <td>-168.85850</td>\n",
       "      <td>...</td>\n",
       "      <td>177.7894</td>\n",
       "      <td>171.1952</td>\n",
       "      <td>-14.677850</td>\n",
       "      <td>276.0645</td>\n",
       "      <td>-33.15913</td>\n",
       "      <td>97.88171</td>\n",
       "      <td>0.0</td>\n",
       "      <td>1.069930</td>\n",
       "      <td>0.0</td>\n",
       "      <td>2</td>\n",
       "    </tr>\n",
       "    <tr>\n",
       "      <th>3</th>\n",
       "      <td>336.0150</td>\n",
       "      <td>128558</td>\n",
       "      <td>left</td>\n",
       "      <td>2</td>\n",
       "      <td>-94.86554</td>\n",
       "      <td>148.5542</td>\n",
       "      <td>-39.001580</td>\n",
       "      <td>-80.99012</td>\n",
       "      <td>278.60220</td>\n",
       "      <td>-66.79356</td>\n",
       "      <td>...</td>\n",
       "      <td>-148.2022</td>\n",
       "      <td>113.0909</td>\n",
       "      <td>-7.375025</td>\n",
       "      <td>-326.9279</td>\n",
       "      <td>-39.97873</td>\n",
       "      <td>85.98000</td>\n",
       "      <td>0.0</td>\n",
       "      <td>0.000000</td>\n",
       "      <td>0.0</td>\n",
       "      <td>2</td>\n",
       "    </tr>\n",
       "    <tr>\n",
       "      <th>4</th>\n",
       "      <td>336.0315</td>\n",
       "      <td>128560</td>\n",
       "      <td>right</td>\n",
       "      <td>2</td>\n",
       "      <td>129.87070</td>\n",
       "      <td>220.7944</td>\n",
       "      <td>-18.386810</td>\n",
       "      <td>35.05422</td>\n",
       "      <td>-84.74242</td>\n",
       "      <td>-205.72030</td>\n",
       "      <td>...</td>\n",
       "      <td>178.3730</td>\n",
       "      <td>169.9159</td>\n",
       "      <td>-15.246240</td>\n",
       "      <td>276.1767</td>\n",
       "      <td>-30.72506</td>\n",
       "      <td>104.13920</td>\n",
       "      <td>0.0</td>\n",
       "      <td>0.916969</td>\n",
       "      <td>0.0</td>\n",
       "      <td>2</td>\n",
       "    </tr>\n",
       "    <tr>\n",
       "      <th>...</th>\n",
       "      <td>...</td>\n",
       "      <td>...</td>\n",
       "      <td>...</td>\n",
       "      <td>...</td>\n",
       "      <td>...</td>\n",
       "      <td>...</td>\n",
       "      <td>...</td>\n",
       "      <td>...</td>\n",
       "      <td>...</td>\n",
       "      <td>...</td>\n",
       "      <td>...</td>\n",
       "      <td>...</td>\n",
       "      <td>...</td>\n",
       "      <td>...</td>\n",
       "      <td>...</td>\n",
       "      <td>...</td>\n",
       "      <td>...</td>\n",
       "      <td>...</td>\n",
       "      <td>...</td>\n",
       "      <td>...</td>\n",
       "      <td>...</td>\n",
       "    </tr>\n",
       "    <tr>\n",
       "      <th>150551</th>\n",
       "      <td>856.2631</td>\n",
       "      <td>67309</td>\n",
       "      <td>right</td>\n",
       "      <td>2</td>\n",
       "      <td>101.91230</td>\n",
       "      <td>212.0264</td>\n",
       "      <td>42.535680</td>\n",
       "      <td>79.95810</td>\n",
       "      <td>113.41030</td>\n",
       "      <td>190.77140</td>\n",
       "      <td>...</td>\n",
       "      <td>131.8590</td>\n",
       "      <td>149.6264</td>\n",
       "      <td>66.098530</td>\n",
       "      <td>283.6185</td>\n",
       "      <td>-58.03491</td>\n",
       "      <td>95.29868</td>\n",
       "      <td>0.0</td>\n",
       "      <td>0.000000</td>\n",
       "      <td>0.0</td>\n",
       "      <td>1</td>\n",
       "    </tr>\n",
       "    <tr>\n",
       "      <th>150552</th>\n",
       "      <td>856.2958</td>\n",
       "      <td>67311</td>\n",
       "      <td>left</td>\n",
       "      <td>2</td>\n",
       "      <td>-81.57359</td>\n",
       "      <td>183.5054</td>\n",
       "      <td>-7.185198</td>\n",
       "      <td>-63.24731</td>\n",
       "      <td>121.75270</td>\n",
       "      <td>62.95970</td>\n",
       "      <td>...</td>\n",
       "      <td>-109.7250</td>\n",
       "      <td>130.7078</td>\n",
       "      <td>34.033600</td>\n",
       "      <td>-295.5957</td>\n",
       "      <td>-14.97817</td>\n",
       "      <td>140.02630</td>\n",
       "      <td>0.0</td>\n",
       "      <td>0.000000</td>\n",
       "      <td>0.0</td>\n",
       "      <td>1</td>\n",
       "    </tr>\n",
       "    <tr>\n",
       "      <th>150553</th>\n",
       "      <td>856.2958</td>\n",
       "      <td>67311</td>\n",
       "      <td>right</td>\n",
       "      <td>2</td>\n",
       "      <td>103.84750</td>\n",
       "      <td>214.7484</td>\n",
       "      <td>47.070820</td>\n",
       "      <td>61.11773</td>\n",
       "      <td>95.13531</td>\n",
       "      <td>155.74530</td>\n",
       "      <td>...</td>\n",
       "      <td>134.0416</td>\n",
       "      <td>151.5924</td>\n",
       "      <td>68.176930</td>\n",
       "      <td>288.9688</td>\n",
       "      <td>-54.13820</td>\n",
       "      <td>94.23959</td>\n",
       "      <td>0.0</td>\n",
       "      <td>0.000000</td>\n",
       "      <td>0.0</td>\n",
       "      <td>1</td>\n",
       "    </tr>\n",
       "    <tr>\n",
       "      <th>150554</th>\n",
       "      <td>856.3295</td>\n",
       "      <td>67314</td>\n",
       "      <td>left</td>\n",
       "      <td>2</td>\n",
       "      <td>-84.05124</td>\n",
       "      <td>187.8450</td>\n",
       "      <td>-5.172269</td>\n",
       "      <td>-57.17249</td>\n",
       "      <td>109.20360</td>\n",
       "      <td>58.48146</td>\n",
       "      <td>...</td>\n",
       "      <td>-109.5167</td>\n",
       "      <td>131.6489</td>\n",
       "      <td>33.329450</td>\n",
       "      <td>-282.9649</td>\n",
       "      <td>-31.35462</td>\n",
       "      <td>135.07610</td>\n",
       "      <td>0.0</td>\n",
       "      <td>0.000000</td>\n",
       "      <td>0.0</td>\n",
       "      <td>1</td>\n",
       "    </tr>\n",
       "    <tr>\n",
       "      <th>150555</th>\n",
       "      <td>856.3295</td>\n",
       "      <td>67314</td>\n",
       "      <td>right</td>\n",
       "      <td>2</td>\n",
       "      <td>106.11880</td>\n",
       "      <td>218.0190</td>\n",
       "      <td>53.588680</td>\n",
       "      <td>25.46704</td>\n",
       "      <td>72.26683</td>\n",
       "      <td>190.16360</td>\n",
       "      <td>...</td>\n",
       "      <td>137.0708</td>\n",
       "      <td>154.2158</td>\n",
       "      <td>71.469250</td>\n",
       "      <td>289.6567</td>\n",
       "      <td>-53.67185</td>\n",
       "      <td>93.98731</td>\n",
       "      <td>0.0</td>\n",
       "      <td>0.000000</td>\n",
       "      <td>0.0</td>\n",
       "      <td>1</td>\n",
       "    </tr>\n",
       "  </tbody>\n",
       "</table>\n",
       "<p>150556 rows × 23 columns</p>\n",
       "</div>"
      ],
      "text/plain": [
       "            Time  FrameID HandType  Numhands  PositionX  PositionY  PositionZ  \\\n",
       "0       335.9984   128556    right         2  128.63570   224.0294 -12.295880   \n",
       "1       335.9984   128556     left         2  -93.24845   143.9423 -37.815970   \n",
       "2       336.0150   128558    right         2  129.15550   221.9923 -15.001810   \n",
       "3       336.0150   128558     left         2  -94.86554   148.5542 -39.001580   \n",
       "4       336.0315   128560    right         2  129.87070   220.7944 -18.386810   \n",
       "...          ...      ...      ...       ...        ...        ...        ...   \n",
       "150551  856.2631    67309    right         2  101.91230   212.0264  42.535680   \n",
       "150552  856.2958    67311     left         2  -81.57359   183.5054  -7.185198   \n",
       "150553  856.2958    67311    right         2  103.84750   214.7484  47.070820   \n",
       "150554  856.3295    67314     left         2  -84.05124   187.8450  -5.172269   \n",
       "150555  856.3295    67314    right         2  106.11880   218.0190  53.588680   \n",
       "\n",
       "        VelocityX  VelocityY  VelocityZ  ...  WristPosX  WristPosY  WristPosZ  \\\n",
       "0       -18.26243 -140.54450 -117.57790  ...   177.5125   173.5658 -14.569630   \n",
       "1      -109.09820  240.38980  -67.62959  ...  -147.0455   109.9380  -5.326688   \n",
       "2        47.36464  -64.25022 -168.85850  ...   177.7894   171.1952 -14.677850   \n",
       "3       -80.99012  278.60220  -66.79356  ...  -148.2022   113.0909  -7.375025   \n",
       "4        35.05422  -84.74242 -205.72030  ...   178.3730   169.9159 -15.246240   \n",
       "...           ...        ...        ...  ...        ...        ...        ...   \n",
       "150551   79.95810  113.41030  190.77140  ...   131.8590   149.6264  66.098530   \n",
       "150552  -63.24731  121.75270   62.95970  ...  -109.7250   130.7078  34.033600   \n",
       "150553   61.11773   95.13531  155.74530  ...   134.0416   151.5924  68.176930   \n",
       "150554  -57.17249  109.20360   58.48146  ...  -109.5167   131.6489  33.329450   \n",
       "150555   25.46704   72.26683  190.16360  ...   137.0708   154.2158  71.469250   \n",
       "\n",
       "        ElbowposX  ElbowPosY  ElbowPosZ  GrabStrenth  GrabAngle  \\\n",
       "0        276.8753  -33.68264   91.61740          0.0   1.250576   \n",
       "1       -329.8577  -34.41571   93.88171          0.0   0.014736   \n",
       "2        276.0645  -33.15913   97.88171          0.0   1.069930   \n",
       "3       -326.9279  -39.97873   85.98000          0.0   0.000000   \n",
       "4        276.1767  -30.72506  104.13920          0.0   0.916969   \n",
       "...           ...        ...        ...          ...        ...   \n",
       "150551   283.6185  -58.03491   95.29868          0.0   0.000000   \n",
       "150552  -295.5957  -14.97817  140.02630          0.0   0.000000   \n",
       "150553   288.9688  -54.13820   94.23959          0.0   0.000000   \n",
       "150554  -282.9649  -31.35462  135.07610          0.0   0.000000   \n",
       "150555   289.6567  -53.67185   93.98731          0.0   0.000000   \n",
       "\n",
       "        PinchStrength  HandPosition_Label  \n",
       "0                 0.0                   2  \n",
       "1                 0.0                   2  \n",
       "2                 0.0                   2  \n",
       "3                 0.0                   2  \n",
       "4                 0.0                   2  \n",
       "...               ...                 ...  \n",
       "150551            0.0                   1  \n",
       "150552            0.0                   1  \n",
       "150553            0.0                   1  \n",
       "150554            0.0                   1  \n",
       "150555            0.0                   1  \n",
       "\n",
       "[150556 rows x 23 columns]"
      ]
     },
     "execution_count": 38,
     "metadata": {},
     "output_type": "execute_result"
    }
   ],
   "source": [
    "#Merge all Sync and Spontan dataframes into one, with concat method as we learned previous semester\n",
    "\n",
    "frames = [dfSpontanTrain,dfSyncTrain]\n",
    "\n",
    "dfSync_Spontan = pd.concat(frames)\n",
    "dfSync_Spontan=dfSync_Spontan.reset_index()\n",
    "dfSync_Spontan.drop(['index'],axis='columns', inplace=True)\n",
    "dfSync_Spontan"
   ]
  },
  {
   "cell_type": "code",
   "execution_count": 39,
   "metadata": {},
   "outputs": [],
   "source": [
    "#After all data cleaning, let's export the dataframes:\n",
    "#dfAloneAndRight.to_csv(r'C:\\Users\\yuval\\Datasets\\HandsPositions\\dfAloneAndRight.csv')\n",
    "dfSync_Spontan.to_csv(r'C:\\Users\\yuval\\Datasets\\HandsPositions\\dfSync_Spontan.csv')\n",
    "\n",
    "\n",
    "#Test set\n",
    "dfSpontanTest.to_csv(r'C:\\Users\\yuval\\Datasets\\HandsPositions\\dfSpontanTest.csv')\n",
    "dfSyncTest.to_csv(r'C:\\Users\\yuval\\Datasets\\HandsPositions\\dfSyncTest.csv')\n",
    "dfAloneTest.to_csv(r'C:\\Users\\yuval\\Datasets\\HandsPositions\\dfAloneTest.csv')\n"
   ]
  },
  {
   "cell_type": "code",
   "execution_count": 40,
   "metadata": {},
   "outputs": [],
   "source": [
    "#import again the csv file\n",
    "dfAloneAndRight = pd.read_csv(r\"C:\\Users\\yuval\\Datasets\\HandsPositions\\dfAloneAndRight.csv\")\n",
    "dfSync_Spontan = pd.read_csv(r\"C:\\Users\\yuval\\Datasets\\HandsPositions\\dfSync_Spontan.csv\")\n",
    "\n",
    "dfSpontanTest = pd.read_csv(r\"C:\\Users\\yuval\\Datasets\\HandsPositions\\dfSpontanTest.csv\")\n",
    "dfSyncTest = pd.read_csv(r\"C:\\Users\\yuval\\Datasets\\HandsPositions\\dfSyncTest.csv\")\n",
    "dfAloneTest = pd.read_csv(r\"C:\\Users\\yuval\\Datasets\\HandsPositions\\dfAloneTest.csv\")\n"
   ]
  },
  {
   "cell_type": "code",
   "execution_count": 41,
   "metadata": {},
   "outputs": [],
   "source": [
    "dfAloneAndRight=dfAloneAndRight.drop(['Unnamed: 0'], axis=1)\n",
    "dfSync_Spontan=dfSync_Spontan.drop(['Unnamed: 0'], axis=1)\n",
    "dfSpontanTest=dfSpontanTest.drop(['Unnamed: 0'], axis=1)\n",
    "dfSyncTest=dfSyncTest.drop(['Unnamed: 0'], axis=1)\n",
    "dfAloneTest=dfAloneTest.drop(['Unnamed: 0'], axis=1)"
   ]
  },
  {
   "cell_type": "markdown",
   "metadata": {},
   "source": [
    "## Merge dfAloneAndRight and dfSync_Spontan\n",
    "Now After I have 2 dataframe dfAloneAndRight and dfSync_Spontan- let's merge them both into one general df"
   ]
  },
  {
   "cell_type": "code",
   "execution_count": 42,
   "metadata": {},
   "outputs": [
    {
     "name": "stdout",
     "output_type": "stream",
     "text": [
      "(75624, 23)\n",
      "(150556, 23)\n"
     ]
    }
   ],
   "source": [
    "print(dfAloneAndRight.shape)\n",
    "print(dfSync_Spontan.shape)\n"
   ]
  },
  {
   "cell_type": "code",
   "execution_count": 43,
   "metadata": {},
   "outputs": [
    {
     "data": {
      "text/html": [
       "<div>\n",
       "<style scoped>\n",
       "    .dataframe tbody tr th:only-of-type {\n",
       "        vertical-align: middle;\n",
       "    }\n",
       "\n",
       "    .dataframe tbody tr th {\n",
       "        vertical-align: top;\n",
       "    }\n",
       "\n",
       "    .dataframe thead th {\n",
       "        text-align: right;\n",
       "    }\n",
       "</style>\n",
       "<table border=\"1\" class=\"dataframe\">\n",
       "  <thead>\n",
       "    <tr style=\"text-align: right;\">\n",
       "      <th></th>\n",
       "      <th>Time</th>\n",
       "      <th>FrameID</th>\n",
       "      <th>HandType</th>\n",
       "      <th>Numhands</th>\n",
       "      <th>PositionX</th>\n",
       "      <th>PositionY</th>\n",
       "      <th>PositionZ</th>\n",
       "      <th>VelocityX</th>\n",
       "      <th>VelocityY</th>\n",
       "      <th>VelocityZ</th>\n",
       "      <th>...</th>\n",
       "      <th>WristPosX</th>\n",
       "      <th>WristPosY</th>\n",
       "      <th>WristPosZ</th>\n",
       "      <th>ElbowposX</th>\n",
       "      <th>ElbowPosY</th>\n",
       "      <th>ElbowPosZ</th>\n",
       "      <th>GrabStrenth</th>\n",
       "      <th>GrabAngle</th>\n",
       "      <th>PinchStrength</th>\n",
       "      <th>HandPosition_Label</th>\n",
       "    </tr>\n",
       "  </thead>\n",
       "  <tbody>\n",
       "    <tr>\n",
       "      <th>0</th>\n",
       "      <td>518.8087</td>\n",
       "      <td>149620</td>\n",
       "      <td>left</td>\n",
       "      <td>1</td>\n",
       "      <td>-97.60160</td>\n",
       "      <td>164.1213</td>\n",
       "      <td>42.812550</td>\n",
       "      <td>104.25890</td>\n",
       "      <td>-491.67300</td>\n",
       "      <td>-55.42755</td>\n",
       "      <td>...</td>\n",
       "      <td>-166.72070</td>\n",
       "      <td>164.8320</td>\n",
       "      <td>27.58547</td>\n",
       "      <td>-378.1662</td>\n",
       "      <td>65.89330</td>\n",
       "      <td>-69.90282</td>\n",
       "      <td>0.0</td>\n",
       "      <td>0.741855</td>\n",
       "      <td>0.0</td>\n",
       "      <td>0</td>\n",
       "    </tr>\n",
       "    <tr>\n",
       "      <th>1</th>\n",
       "      <td>7.0141</td>\n",
       "      <td>16287</td>\n",
       "      <td>right</td>\n",
       "      <td>1</td>\n",
       "      <td>11.93032</td>\n",
       "      <td>199.9861</td>\n",
       "      <td>4.981665</td>\n",
       "      <td>-35.51221</td>\n",
       "      <td>-165.34660</td>\n",
       "      <td>-57.68153</td>\n",
       "      <td>...</td>\n",
       "      <td>75.45740</td>\n",
       "      <td>206.0521</td>\n",
       "      <td>45.38764</td>\n",
       "      <td>284.3946</td>\n",
       "      <td>140.01670</td>\n",
       "      <td>201.93180</td>\n",
       "      <td>0.0</td>\n",
       "      <td>0.561324</td>\n",
       "      <td>0.0</td>\n",
       "      <td>0</td>\n",
       "    </tr>\n",
       "    <tr>\n",
       "      <th>2</th>\n",
       "      <td>518.8252</td>\n",
       "      <td>149622</td>\n",
       "      <td>left</td>\n",
       "      <td>1</td>\n",
       "      <td>-95.78062</td>\n",
       "      <td>157.6353</td>\n",
       "      <td>42.180840</td>\n",
       "      <td>148.96830</td>\n",
       "      <td>-351.73860</td>\n",
       "      <td>-36.32422</td>\n",
       "      <td>...</td>\n",
       "      <td>-165.49070</td>\n",
       "      <td>155.6419</td>\n",
       "      <td>29.71037</td>\n",
       "      <td>-380.3233</td>\n",
       "      <td>52.92441</td>\n",
       "      <td>-55.71872</td>\n",
       "      <td>0.0</td>\n",
       "      <td>0.827916</td>\n",
       "      <td>0.0</td>\n",
       "      <td>0</td>\n",
       "    </tr>\n",
       "    <tr>\n",
       "      <th>3</th>\n",
       "      <td>7.0311</td>\n",
       "      <td>16289</td>\n",
       "      <td>right</td>\n",
       "      <td>1</td>\n",
       "      <td>11.19190</td>\n",
       "      <td>195.3075</td>\n",
       "      <td>3.661716</td>\n",
       "      <td>-43.58744</td>\n",
       "      <td>-309.83740</td>\n",
       "      <td>-77.18515</td>\n",
       "      <td>...</td>\n",
       "      <td>74.46141</td>\n",
       "      <td>202.4562</td>\n",
       "      <td>44.28679</td>\n",
       "      <td>282.6278</td>\n",
       "      <td>140.97120</td>\n",
       "      <td>203.67730</td>\n",
       "      <td>0.0</td>\n",
       "      <td>0.626321</td>\n",
       "      <td>0.0</td>\n",
       "      <td>0</td>\n",
       "    </tr>\n",
       "    <tr>\n",
       "      <th>4</th>\n",
       "      <td>518.8418</td>\n",
       "      <td>149623</td>\n",
       "      <td>left</td>\n",
       "      <td>1</td>\n",
       "      <td>-94.39360</td>\n",
       "      <td>154.6338</td>\n",
       "      <td>41.931710</td>\n",
       "      <td>161.69580</td>\n",
       "      <td>-349.91170</td>\n",
       "      <td>-29.04277</td>\n",
       "      <td>...</td>\n",
       "      <td>-164.36580</td>\n",
       "      <td>151.5701</td>\n",
       "      <td>31.05059</td>\n",
       "      <td>-381.7444</td>\n",
       "      <td>48.55032</td>\n",
       "      <td>-47.27909</td>\n",
       "      <td>0.0</td>\n",
       "      <td>0.920401</td>\n",
       "      <td>0.0</td>\n",
       "      <td>0</td>\n",
       "    </tr>\n",
       "    <tr>\n",
       "      <th>...</th>\n",
       "      <td>...</td>\n",
       "      <td>...</td>\n",
       "      <td>...</td>\n",
       "      <td>...</td>\n",
       "      <td>...</td>\n",
       "      <td>...</td>\n",
       "      <td>...</td>\n",
       "      <td>...</td>\n",
       "      <td>...</td>\n",
       "      <td>...</td>\n",
       "      <td>...</td>\n",
       "      <td>...</td>\n",
       "      <td>...</td>\n",
       "      <td>...</td>\n",
       "      <td>...</td>\n",
       "      <td>...</td>\n",
       "      <td>...</td>\n",
       "      <td>...</td>\n",
       "      <td>...</td>\n",
       "      <td>...</td>\n",
       "      <td>...</td>\n",
       "    </tr>\n",
       "    <tr>\n",
       "      <th>226175</th>\n",
       "      <td>856.2631</td>\n",
       "      <td>67309</td>\n",
       "      <td>right</td>\n",
       "      <td>2</td>\n",
       "      <td>101.91230</td>\n",
       "      <td>212.0264</td>\n",
       "      <td>42.535680</td>\n",
       "      <td>79.95810</td>\n",
       "      <td>113.41030</td>\n",
       "      <td>190.77140</td>\n",
       "      <td>...</td>\n",
       "      <td>131.85900</td>\n",
       "      <td>149.6264</td>\n",
       "      <td>66.09853</td>\n",
       "      <td>283.6185</td>\n",
       "      <td>-58.03491</td>\n",
       "      <td>95.29868</td>\n",
       "      <td>0.0</td>\n",
       "      <td>0.000000</td>\n",
       "      <td>0.0</td>\n",
       "      <td>1</td>\n",
       "    </tr>\n",
       "    <tr>\n",
       "      <th>226176</th>\n",
       "      <td>856.2958</td>\n",
       "      <td>67311</td>\n",
       "      <td>left</td>\n",
       "      <td>2</td>\n",
       "      <td>-81.57359</td>\n",
       "      <td>183.5054</td>\n",
       "      <td>-7.185198</td>\n",
       "      <td>-63.24731</td>\n",
       "      <td>121.75270</td>\n",
       "      <td>62.95970</td>\n",
       "      <td>...</td>\n",
       "      <td>-109.72500</td>\n",
       "      <td>130.7078</td>\n",
       "      <td>34.03360</td>\n",
       "      <td>-295.5957</td>\n",
       "      <td>-14.97817</td>\n",
       "      <td>140.02630</td>\n",
       "      <td>0.0</td>\n",
       "      <td>0.000000</td>\n",
       "      <td>0.0</td>\n",
       "      <td>1</td>\n",
       "    </tr>\n",
       "    <tr>\n",
       "      <th>226177</th>\n",
       "      <td>856.2958</td>\n",
       "      <td>67311</td>\n",
       "      <td>right</td>\n",
       "      <td>2</td>\n",
       "      <td>103.84750</td>\n",
       "      <td>214.7484</td>\n",
       "      <td>47.070820</td>\n",
       "      <td>61.11773</td>\n",
       "      <td>95.13531</td>\n",
       "      <td>155.74530</td>\n",
       "      <td>...</td>\n",
       "      <td>134.04160</td>\n",
       "      <td>151.5924</td>\n",
       "      <td>68.17693</td>\n",
       "      <td>288.9688</td>\n",
       "      <td>-54.13820</td>\n",
       "      <td>94.23959</td>\n",
       "      <td>0.0</td>\n",
       "      <td>0.000000</td>\n",
       "      <td>0.0</td>\n",
       "      <td>1</td>\n",
       "    </tr>\n",
       "    <tr>\n",
       "      <th>226178</th>\n",
       "      <td>856.3295</td>\n",
       "      <td>67314</td>\n",
       "      <td>left</td>\n",
       "      <td>2</td>\n",
       "      <td>-84.05124</td>\n",
       "      <td>187.8450</td>\n",
       "      <td>-5.172269</td>\n",
       "      <td>-57.17249</td>\n",
       "      <td>109.20360</td>\n",
       "      <td>58.48146</td>\n",
       "      <td>...</td>\n",
       "      <td>-109.51670</td>\n",
       "      <td>131.6489</td>\n",
       "      <td>33.32945</td>\n",
       "      <td>-282.9649</td>\n",
       "      <td>-31.35462</td>\n",
       "      <td>135.07610</td>\n",
       "      <td>0.0</td>\n",
       "      <td>0.000000</td>\n",
       "      <td>0.0</td>\n",
       "      <td>1</td>\n",
       "    </tr>\n",
       "    <tr>\n",
       "      <th>226179</th>\n",
       "      <td>856.3295</td>\n",
       "      <td>67314</td>\n",
       "      <td>right</td>\n",
       "      <td>2</td>\n",
       "      <td>106.11880</td>\n",
       "      <td>218.0190</td>\n",
       "      <td>53.588680</td>\n",
       "      <td>25.46704</td>\n",
       "      <td>72.26683</td>\n",
       "      <td>190.16360</td>\n",
       "      <td>...</td>\n",
       "      <td>137.07080</td>\n",
       "      <td>154.2158</td>\n",
       "      <td>71.46925</td>\n",
       "      <td>289.6567</td>\n",
       "      <td>-53.67185</td>\n",
       "      <td>93.98731</td>\n",
       "      <td>0.0</td>\n",
       "      <td>0.000000</td>\n",
       "      <td>0.0</td>\n",
       "      <td>1</td>\n",
       "    </tr>\n",
       "  </tbody>\n",
       "</table>\n",
       "<p>226180 rows × 23 columns</p>\n",
       "</div>"
      ],
      "text/plain": [
       "            Time  FrameID HandType  Numhands  PositionX  PositionY  PositionZ  \\\n",
       "0       518.8087   149620     left         1  -97.60160   164.1213  42.812550   \n",
       "1         7.0141    16287    right         1   11.93032   199.9861   4.981665   \n",
       "2       518.8252   149622     left         1  -95.78062   157.6353  42.180840   \n",
       "3         7.0311    16289    right         1   11.19190   195.3075   3.661716   \n",
       "4       518.8418   149623     left         1  -94.39360   154.6338  41.931710   \n",
       "...          ...      ...      ...       ...        ...        ...        ...   \n",
       "226175  856.2631    67309    right         2  101.91230   212.0264  42.535680   \n",
       "226176  856.2958    67311     left         2  -81.57359   183.5054  -7.185198   \n",
       "226177  856.2958    67311    right         2  103.84750   214.7484  47.070820   \n",
       "226178  856.3295    67314     left         2  -84.05124   187.8450  -5.172269   \n",
       "226179  856.3295    67314    right         2  106.11880   218.0190  53.588680   \n",
       "\n",
       "        VelocityX  VelocityY  VelocityZ  ...  WristPosX  WristPosY  WristPosZ  \\\n",
       "0       104.25890 -491.67300  -55.42755  ... -166.72070   164.8320   27.58547   \n",
       "1       -35.51221 -165.34660  -57.68153  ...   75.45740   206.0521   45.38764   \n",
       "2       148.96830 -351.73860  -36.32422  ... -165.49070   155.6419   29.71037   \n",
       "3       -43.58744 -309.83740  -77.18515  ...   74.46141   202.4562   44.28679   \n",
       "4       161.69580 -349.91170  -29.04277  ... -164.36580   151.5701   31.05059   \n",
       "...           ...        ...        ...  ...        ...        ...        ...   \n",
       "226175   79.95810  113.41030  190.77140  ...  131.85900   149.6264   66.09853   \n",
       "226176  -63.24731  121.75270   62.95970  ... -109.72500   130.7078   34.03360   \n",
       "226177   61.11773   95.13531  155.74530  ...  134.04160   151.5924   68.17693   \n",
       "226178  -57.17249  109.20360   58.48146  ... -109.51670   131.6489   33.32945   \n",
       "226179   25.46704   72.26683  190.16360  ...  137.07080   154.2158   71.46925   \n",
       "\n",
       "        ElbowposX  ElbowPosY  ElbowPosZ  GrabStrenth  GrabAngle  \\\n",
       "0       -378.1662   65.89330  -69.90282          0.0   0.741855   \n",
       "1        284.3946  140.01670  201.93180          0.0   0.561324   \n",
       "2       -380.3233   52.92441  -55.71872          0.0   0.827916   \n",
       "3        282.6278  140.97120  203.67730          0.0   0.626321   \n",
       "4       -381.7444   48.55032  -47.27909          0.0   0.920401   \n",
       "...           ...        ...        ...          ...        ...   \n",
       "226175   283.6185  -58.03491   95.29868          0.0   0.000000   \n",
       "226176  -295.5957  -14.97817  140.02630          0.0   0.000000   \n",
       "226177   288.9688  -54.13820   94.23959          0.0   0.000000   \n",
       "226178  -282.9649  -31.35462  135.07610          0.0   0.000000   \n",
       "226179   289.6567  -53.67185   93.98731          0.0   0.000000   \n",
       "\n",
       "        PinchStrength  HandPosition_Label  \n",
       "0                 0.0                   0  \n",
       "1                 0.0                   0  \n",
       "2                 0.0                   0  \n",
       "3                 0.0                   0  \n",
       "4                 0.0                   0  \n",
       "...               ...                 ...  \n",
       "226175            0.0                   1  \n",
       "226176            0.0                   1  \n",
       "226177            0.0                   1  \n",
       "226178            0.0                   1  \n",
       "226179            0.0                   1  \n",
       "\n",
       "[226180 rows x 23 columns]"
      ]
     },
     "execution_count": 43,
     "metadata": {},
     "output_type": "execute_result"
    }
   ],
   "source": [
    "#Merge all Alone dataframes into one, with concat method as we learned previous semester\n",
    "#After this cell I will have one big unite df of all train set\n",
    "frames_LeftAndRight=[dfAloneAndRight,dfSync_Spontan]\n",
    "dfGeneral = pd.concat(frames_LeftAndRight)\n",
    "dfGeneral=dfGeneral.reset_index()\n",
    "dfGeneral.drop(['index'],axis='columns', inplace=True)\n",
    "dfGeneral"
   ]
  },
  {
   "cell_type": "code",
   "execution_count": 44,
   "metadata": {},
   "outputs": [],
   "source": [
    "#instead of run this cell every time, I will save it as csv file\n",
    "dfGeneral.to_csv(r'C:\\Users\\yuval\\Datasets\\HandsPositions\\dfGeneral.csv')\n"
   ]
  },
  {
   "cell_type": "code",
   "execution_count": 45,
   "metadata": {},
   "outputs": [
    {
     "data": {
      "text/html": [
       "<div>\n",
       "<style scoped>\n",
       "    .dataframe tbody tr th:only-of-type {\n",
       "        vertical-align: middle;\n",
       "    }\n",
       "\n",
       "    .dataframe tbody tr th {\n",
       "        vertical-align: top;\n",
       "    }\n",
       "\n",
       "    .dataframe thead th {\n",
       "        text-align: right;\n",
       "    }\n",
       "</style>\n",
       "<table border=\"1\" class=\"dataframe\">\n",
       "  <thead>\n",
       "    <tr style=\"text-align: right;\">\n",
       "      <th></th>\n",
       "      <th>Unnamed: 0</th>\n",
       "      <th>Time</th>\n",
       "      <th>FrameID</th>\n",
       "      <th>HandType</th>\n",
       "      <th>Numhands</th>\n",
       "      <th>PositionX</th>\n",
       "      <th>PositionY</th>\n",
       "      <th>PositionZ</th>\n",
       "      <th>VelocityX</th>\n",
       "      <th>VelocityY</th>\n",
       "      <th>...</th>\n",
       "      <th>WristPosX</th>\n",
       "      <th>WristPosY</th>\n",
       "      <th>WristPosZ</th>\n",
       "      <th>ElbowposX</th>\n",
       "      <th>ElbowPosY</th>\n",
       "      <th>ElbowPosZ</th>\n",
       "      <th>GrabStrenth</th>\n",
       "      <th>GrabAngle</th>\n",
       "      <th>PinchStrength</th>\n",
       "      <th>HandPosition_Label</th>\n",
       "    </tr>\n",
       "  </thead>\n",
       "  <tbody>\n",
       "    <tr>\n",
       "      <th>0</th>\n",
       "      <td>0</td>\n",
       "      <td>518.8087</td>\n",
       "      <td>149620</td>\n",
       "      <td>left</td>\n",
       "      <td>1</td>\n",
       "      <td>-97.60160</td>\n",
       "      <td>164.1213</td>\n",
       "      <td>42.812550</td>\n",
       "      <td>104.25890</td>\n",
       "      <td>-491.67300</td>\n",
       "      <td>...</td>\n",
       "      <td>-166.72070</td>\n",
       "      <td>164.8320</td>\n",
       "      <td>27.58547</td>\n",
       "      <td>-378.1662</td>\n",
       "      <td>65.89330</td>\n",
       "      <td>-69.90282</td>\n",
       "      <td>0.0</td>\n",
       "      <td>0.741855</td>\n",
       "      <td>0.0</td>\n",
       "      <td>0</td>\n",
       "    </tr>\n",
       "    <tr>\n",
       "      <th>1</th>\n",
       "      <td>1</td>\n",
       "      <td>7.0141</td>\n",
       "      <td>16287</td>\n",
       "      <td>right</td>\n",
       "      <td>1</td>\n",
       "      <td>11.93032</td>\n",
       "      <td>199.9861</td>\n",
       "      <td>4.981665</td>\n",
       "      <td>-35.51221</td>\n",
       "      <td>-165.34660</td>\n",
       "      <td>...</td>\n",
       "      <td>75.45740</td>\n",
       "      <td>206.0521</td>\n",
       "      <td>45.38764</td>\n",
       "      <td>284.3946</td>\n",
       "      <td>140.01670</td>\n",
       "      <td>201.93180</td>\n",
       "      <td>0.0</td>\n",
       "      <td>0.561324</td>\n",
       "      <td>0.0</td>\n",
       "      <td>0</td>\n",
       "    </tr>\n",
       "    <tr>\n",
       "      <th>2</th>\n",
       "      <td>2</td>\n",
       "      <td>518.8252</td>\n",
       "      <td>149622</td>\n",
       "      <td>left</td>\n",
       "      <td>1</td>\n",
       "      <td>-95.78062</td>\n",
       "      <td>157.6353</td>\n",
       "      <td>42.180840</td>\n",
       "      <td>148.96830</td>\n",
       "      <td>-351.73860</td>\n",
       "      <td>...</td>\n",
       "      <td>-165.49070</td>\n",
       "      <td>155.6419</td>\n",
       "      <td>29.71037</td>\n",
       "      <td>-380.3233</td>\n",
       "      <td>52.92441</td>\n",
       "      <td>-55.71872</td>\n",
       "      <td>0.0</td>\n",
       "      <td>0.827916</td>\n",
       "      <td>0.0</td>\n",
       "      <td>0</td>\n",
       "    </tr>\n",
       "    <tr>\n",
       "      <th>3</th>\n",
       "      <td>3</td>\n",
       "      <td>7.0311</td>\n",
       "      <td>16289</td>\n",
       "      <td>right</td>\n",
       "      <td>1</td>\n",
       "      <td>11.19190</td>\n",
       "      <td>195.3075</td>\n",
       "      <td>3.661716</td>\n",
       "      <td>-43.58744</td>\n",
       "      <td>-309.83740</td>\n",
       "      <td>...</td>\n",
       "      <td>74.46141</td>\n",
       "      <td>202.4562</td>\n",
       "      <td>44.28679</td>\n",
       "      <td>282.6278</td>\n",
       "      <td>140.97120</td>\n",
       "      <td>203.67730</td>\n",
       "      <td>0.0</td>\n",
       "      <td>0.626321</td>\n",
       "      <td>0.0</td>\n",
       "      <td>0</td>\n",
       "    </tr>\n",
       "    <tr>\n",
       "      <th>4</th>\n",
       "      <td>4</td>\n",
       "      <td>518.8418</td>\n",
       "      <td>149623</td>\n",
       "      <td>left</td>\n",
       "      <td>1</td>\n",
       "      <td>-94.39360</td>\n",
       "      <td>154.6338</td>\n",
       "      <td>41.931710</td>\n",
       "      <td>161.69580</td>\n",
       "      <td>-349.91170</td>\n",
       "      <td>...</td>\n",
       "      <td>-164.36580</td>\n",
       "      <td>151.5701</td>\n",
       "      <td>31.05059</td>\n",
       "      <td>-381.7444</td>\n",
       "      <td>48.55032</td>\n",
       "      <td>-47.27909</td>\n",
       "      <td>0.0</td>\n",
       "      <td>0.920401</td>\n",
       "      <td>0.0</td>\n",
       "      <td>0</td>\n",
       "    </tr>\n",
       "    <tr>\n",
       "      <th>...</th>\n",
       "      <td>...</td>\n",
       "      <td>...</td>\n",
       "      <td>...</td>\n",
       "      <td>...</td>\n",
       "      <td>...</td>\n",
       "      <td>...</td>\n",
       "      <td>...</td>\n",
       "      <td>...</td>\n",
       "      <td>...</td>\n",
       "      <td>...</td>\n",
       "      <td>...</td>\n",
       "      <td>...</td>\n",
       "      <td>...</td>\n",
       "      <td>...</td>\n",
       "      <td>...</td>\n",
       "      <td>...</td>\n",
       "      <td>...</td>\n",
       "      <td>...</td>\n",
       "      <td>...</td>\n",
       "      <td>...</td>\n",
       "      <td>...</td>\n",
       "    </tr>\n",
       "    <tr>\n",
       "      <th>226175</th>\n",
       "      <td>226175</td>\n",
       "      <td>856.2631</td>\n",
       "      <td>67309</td>\n",
       "      <td>right</td>\n",
       "      <td>2</td>\n",
       "      <td>101.91230</td>\n",
       "      <td>212.0264</td>\n",
       "      <td>42.535680</td>\n",
       "      <td>79.95810</td>\n",
       "      <td>113.41030</td>\n",
       "      <td>...</td>\n",
       "      <td>131.85900</td>\n",
       "      <td>149.6264</td>\n",
       "      <td>66.09853</td>\n",
       "      <td>283.6185</td>\n",
       "      <td>-58.03491</td>\n",
       "      <td>95.29868</td>\n",
       "      <td>0.0</td>\n",
       "      <td>0.000000</td>\n",
       "      <td>0.0</td>\n",
       "      <td>1</td>\n",
       "    </tr>\n",
       "    <tr>\n",
       "      <th>226176</th>\n",
       "      <td>226176</td>\n",
       "      <td>856.2958</td>\n",
       "      <td>67311</td>\n",
       "      <td>left</td>\n",
       "      <td>2</td>\n",
       "      <td>-81.57359</td>\n",
       "      <td>183.5054</td>\n",
       "      <td>-7.185198</td>\n",
       "      <td>-63.24731</td>\n",
       "      <td>121.75270</td>\n",
       "      <td>...</td>\n",
       "      <td>-109.72500</td>\n",
       "      <td>130.7078</td>\n",
       "      <td>34.03360</td>\n",
       "      <td>-295.5957</td>\n",
       "      <td>-14.97817</td>\n",
       "      <td>140.02630</td>\n",
       "      <td>0.0</td>\n",
       "      <td>0.000000</td>\n",
       "      <td>0.0</td>\n",
       "      <td>1</td>\n",
       "    </tr>\n",
       "    <tr>\n",
       "      <th>226177</th>\n",
       "      <td>226177</td>\n",
       "      <td>856.2958</td>\n",
       "      <td>67311</td>\n",
       "      <td>right</td>\n",
       "      <td>2</td>\n",
       "      <td>103.84750</td>\n",
       "      <td>214.7484</td>\n",
       "      <td>47.070820</td>\n",
       "      <td>61.11773</td>\n",
       "      <td>95.13531</td>\n",
       "      <td>...</td>\n",
       "      <td>134.04160</td>\n",
       "      <td>151.5924</td>\n",
       "      <td>68.17693</td>\n",
       "      <td>288.9688</td>\n",
       "      <td>-54.13820</td>\n",
       "      <td>94.23959</td>\n",
       "      <td>0.0</td>\n",
       "      <td>0.000000</td>\n",
       "      <td>0.0</td>\n",
       "      <td>1</td>\n",
       "    </tr>\n",
       "    <tr>\n",
       "      <th>226178</th>\n",
       "      <td>226178</td>\n",
       "      <td>856.3295</td>\n",
       "      <td>67314</td>\n",
       "      <td>left</td>\n",
       "      <td>2</td>\n",
       "      <td>-84.05124</td>\n",
       "      <td>187.8450</td>\n",
       "      <td>-5.172269</td>\n",
       "      <td>-57.17249</td>\n",
       "      <td>109.20360</td>\n",
       "      <td>...</td>\n",
       "      <td>-109.51670</td>\n",
       "      <td>131.6489</td>\n",
       "      <td>33.32945</td>\n",
       "      <td>-282.9649</td>\n",
       "      <td>-31.35462</td>\n",
       "      <td>135.07610</td>\n",
       "      <td>0.0</td>\n",
       "      <td>0.000000</td>\n",
       "      <td>0.0</td>\n",
       "      <td>1</td>\n",
       "    </tr>\n",
       "    <tr>\n",
       "      <th>226179</th>\n",
       "      <td>226179</td>\n",
       "      <td>856.3295</td>\n",
       "      <td>67314</td>\n",
       "      <td>right</td>\n",
       "      <td>2</td>\n",
       "      <td>106.11880</td>\n",
       "      <td>218.0190</td>\n",
       "      <td>53.588680</td>\n",
       "      <td>25.46704</td>\n",
       "      <td>72.26683</td>\n",
       "      <td>...</td>\n",
       "      <td>137.07080</td>\n",
       "      <td>154.2158</td>\n",
       "      <td>71.46925</td>\n",
       "      <td>289.6567</td>\n",
       "      <td>-53.67185</td>\n",
       "      <td>93.98731</td>\n",
       "      <td>0.0</td>\n",
       "      <td>0.000000</td>\n",
       "      <td>0.0</td>\n",
       "      <td>1</td>\n",
       "    </tr>\n",
       "  </tbody>\n",
       "</table>\n",
       "<p>226180 rows × 24 columns</p>\n",
       "</div>"
      ],
      "text/plain": [
       "        Unnamed: 0      Time  FrameID HandType  Numhands  PositionX  \\\n",
       "0                0  518.8087   149620     left         1  -97.60160   \n",
       "1                1    7.0141    16287    right         1   11.93032   \n",
       "2                2  518.8252   149622     left         1  -95.78062   \n",
       "3                3    7.0311    16289    right         1   11.19190   \n",
       "4                4  518.8418   149623     left         1  -94.39360   \n",
       "...            ...       ...      ...      ...       ...        ...   \n",
       "226175      226175  856.2631    67309    right         2  101.91230   \n",
       "226176      226176  856.2958    67311     left         2  -81.57359   \n",
       "226177      226177  856.2958    67311    right         2  103.84750   \n",
       "226178      226178  856.3295    67314     left         2  -84.05124   \n",
       "226179      226179  856.3295    67314    right         2  106.11880   \n",
       "\n",
       "        PositionY  PositionZ  VelocityX  VelocityY  ...  WristPosX  WristPosY  \\\n",
       "0        164.1213  42.812550  104.25890 -491.67300  ... -166.72070   164.8320   \n",
       "1        199.9861   4.981665  -35.51221 -165.34660  ...   75.45740   206.0521   \n",
       "2        157.6353  42.180840  148.96830 -351.73860  ... -165.49070   155.6419   \n",
       "3        195.3075   3.661716  -43.58744 -309.83740  ...   74.46141   202.4562   \n",
       "4        154.6338  41.931710  161.69580 -349.91170  ... -164.36580   151.5701   \n",
       "...           ...        ...        ...        ...  ...        ...        ...   \n",
       "226175   212.0264  42.535680   79.95810  113.41030  ...  131.85900   149.6264   \n",
       "226176   183.5054  -7.185198  -63.24731  121.75270  ... -109.72500   130.7078   \n",
       "226177   214.7484  47.070820   61.11773   95.13531  ...  134.04160   151.5924   \n",
       "226178   187.8450  -5.172269  -57.17249  109.20360  ... -109.51670   131.6489   \n",
       "226179   218.0190  53.588680   25.46704   72.26683  ...  137.07080   154.2158   \n",
       "\n",
       "        WristPosZ  ElbowposX  ElbowPosY  ElbowPosZ  GrabStrenth  GrabAngle  \\\n",
       "0        27.58547  -378.1662   65.89330  -69.90282          0.0   0.741855   \n",
       "1        45.38764   284.3946  140.01670  201.93180          0.0   0.561324   \n",
       "2        29.71037  -380.3233   52.92441  -55.71872          0.0   0.827916   \n",
       "3        44.28679   282.6278  140.97120  203.67730          0.0   0.626321   \n",
       "4        31.05059  -381.7444   48.55032  -47.27909          0.0   0.920401   \n",
       "...           ...        ...        ...        ...          ...        ...   \n",
       "226175   66.09853   283.6185  -58.03491   95.29868          0.0   0.000000   \n",
       "226176   34.03360  -295.5957  -14.97817  140.02630          0.0   0.000000   \n",
       "226177   68.17693   288.9688  -54.13820   94.23959          0.0   0.000000   \n",
       "226178   33.32945  -282.9649  -31.35462  135.07610          0.0   0.000000   \n",
       "226179   71.46925   289.6567  -53.67185   93.98731          0.0   0.000000   \n",
       "\n",
       "        PinchStrength  HandPosition_Label  \n",
       "0                 0.0                   0  \n",
       "1                 0.0                   0  \n",
       "2                 0.0                   0  \n",
       "3                 0.0                   0  \n",
       "4                 0.0                   0  \n",
       "...               ...                 ...  \n",
       "226175            0.0                   1  \n",
       "226176            0.0                   1  \n",
       "226177            0.0                   1  \n",
       "226178            0.0                   1  \n",
       "226179            0.0                   1  \n",
       "\n",
       "[226180 rows x 24 columns]"
      ]
     },
     "execution_count": 45,
     "metadata": {},
     "output_type": "execute_result"
    }
   ],
   "source": [
    "#import again the csv file\n",
    "dfGeneral = pd.read_csv(r\"C:\\Users\\yuval\\Datasets\\HandsPositions\\dfGeneral.csv\")\n",
    "dfGeneral"
   ]
  },
  {
   "cell_type": "code",
   "execution_count": 46,
   "metadata": {},
   "outputs": [],
   "source": [
    "dfGeneral=dfGeneral.drop(['Unnamed: 0'], axis=1)"
   ]
  },
  {
   "cell_type": "markdown",
   "metadata": {},
   "source": [
    "## Consolidation of two records left&right \n",
    "As it already explained in class, each 2 rows of left&right hand is actually one frame, therefore I will turn each 2 rows into one."
   ]
  },
  {
   "cell_type": "code",
   "execution_count": null,
   "metadata": {},
   "outputs": [],
   "source": []
  },
  {
   "cell_type": "code",
   "execution_count": 47,
   "metadata": {},
   "outputs": [
    {
     "ename": "SyntaxError",
     "evalue": "invalid syntax (<ipython-input-47-ba931a1f464e>, line 1)",
     "output_type": "error",
     "traceback": [
      "\u001b[1;36m  File \u001b[1;32m\"<ipython-input-47-ba931a1f464e>\"\u001b[1;36m, line \u001b[1;32m1\u001b[0m\n\u001b[1;33m    print('h')1\u001b[0m\n\u001b[1;37m              ^\u001b[0m\n\u001b[1;31mSyntaxError\u001b[0m\u001b[1;31m:\u001b[0m invalid syntax\n"
     ]
    }
   ],
   "source": [
    "print('h')1"
   ]
  },
  {
   "cell_type": "code",
   "execution_count": null,
   "metadata": {},
   "outputs": [],
   "source": []
  },
  {
   "cell_type": "code",
   "execution_count": null,
   "metadata": {},
   "outputs": [],
   "source": []
  },
  {
   "cell_type": "code",
   "execution_count": null,
   "metadata": {},
   "outputs": [],
   "source": [
    "#function to combine 2 consecutive rows\n",
    "\n",
    "liR = [\"{}{}\".format(ind,'Right') for ind in dfGeneral.columns] #appending \"right\" to the end of each column name\n",
    "liL = [\"{}{}\".format(ind,'Left') for ind in dfGeneral.columns]\n",
    "LiTotal = liR + liL\n",
    "\n",
    "flattenedDf = pd.DataFrame(columns = LiTotal) #empty df\n",
    "    \n",
    "for i in range(0, len(dfGeneral), 2): #Iterating over every record in the dataframe with jumps of 2 (due to\n",
    "    #every iteration using 2 consecutive rows for merging)\n",
    "    if (dfGeneral.loc[i]['HandType'] == 'right'):\n",
    "        right = i\n",
    "        left = i+1\n",
    "    else:\n",
    "        left = i\n",
    "        right = i+1\n",
    "    \n",
    "    rightList = dfGeneral.loc[right]\n",
    "    rightList.index = liR\n",
    "        \n",
    "    leftList = dfGeneral.loc[left]\n",
    "    leftList.index = liL\n",
    "    \n",
    "    completeRecord = pd.concat([rightList, leftList])\n",
    "    flattenedDf = flattenedDf.append(completeRecord, ignore_index = True)\n",
    "dfGeneral = flattenedDf "
   ]
  },
  {
   "cell_type": "code",
   "execution_count": null,
   "metadata": {},
   "outputs": [],
   "source": []
  },
  {
   "cell_type": "code",
   "execution_count": null,
   "metadata": {},
   "outputs": [],
   "source": []
  },
  {
   "cell_type": "code",
   "execution_count": null,
   "metadata": {},
   "outputs": [],
   "source": []
  },
  {
   "cell_type": "code",
   "execution_count": null,
   "metadata": {},
   "outputs": [],
   "source": [
    "#instead of run this cell every time, I will save it as csv file\n",
    "#dfGeneral.to_csv(r'C:\\Users\\yuval\\Datasets\\HandsPositions\\dfGeneral.csv')\n"
   ]
  },
  {
   "cell_type": "code",
   "execution_count": null,
   "metadata": {},
   "outputs": [],
   "source": [
    "#import again the csv file\n",
    "FinalDfHands = pd.read_csv(r\"C:\\Users\\yuval\\Datasets\\HandsPositions\\FinalDfHands.csv\")\n",
    "FinalDfHands"
   ]
  },
  {
   "cell_type": "code",
   "execution_count": null,
   "metadata": {},
   "outputs": [],
   "source": [
    "FinalDfHands=FinalDfHands.drop(['Unnamed: 0'], axis=1)\n",
    "FinalDfHands"
   ]
  },
  {
   "cell_type": "markdown",
   "metadata": {},
   "source": [
    "# Big and Final df\n",
    "## <b>know and organize the dataset</b>"
   ]
  },
  {
   "cell_type": "code",
   "execution_count": null,
   "metadata": {},
   "outputs": [],
   "source": [
    "# check the shape of the DataFrame (rows, columns)\n",
    "FinalDfHands.shape "
   ]
  },
  {
   "cell_type": "markdown",
   "metadata": {},
   "source": [
    "**Explanation about the columns and rows:**<br>\n",
    "\n",
    "**What are the features?**<br>\n",
    "99646 rows- every row represent one frame of left and right hand.<br>\n",
    "\n",
    "46 columns of features-23 features to left hand and 23 features to right hand.<br>\n",
    "\n",
    "**What is the response?**<br>\n",
    "label-What hand position was every frame of left and right hand- 0 (Sync), 1 (Spontan), 2 (Alone) .<br>"
   ]
  },
  {
   "cell_type": "code",
   "execution_count": null,
   "metadata": {},
   "outputs": [],
   "source": [
    "#I want to check what the range of each column:\n",
    "#by running both commands:\n",
    "FinalDfHands.max(axis = 0) \n",
    "FinalDfHands.min(axis = 0) \n",
    "#Also can see it by use:\n",
    "FinalDfHands.describe()"
   ]
  },
  {
   "cell_type": "code",
   "execution_count": null,
   "metadata": {},
   "outputs": [],
   "source": [
    "#We'll run the info() command to get a quick description of the data,particulary reguarding the total number of rows, \n",
    "#each attribute’s type, and the number of nonnull values.\n",
    "FinalDfHands.info()"
   ]
  },
  {
   "cell_type": "code",
   "execution_count": null,
   "metadata": {},
   "outputs": [],
   "source": [
    "# Histogram of all numeric features\n",
    "FinalDfHands.hist(bins=50, figsize=(20,15))\n",
    "plt.show()"
   ]
  },
  {
   "cell_type": "markdown",
   "metadata": {},
   "source": [
    "**conclusions from the histograms:**<br>HHHHHHHHHHHH\n",
    "1.Most of the frames were taken when the distance between the elbows on the Y axis (Elbow Pos YRight/Left) rotated around the 0. <br>\n",
    "2.Most of the frames were taken when the Pitch (Left and Right) is between 0 to 2.\n",
    "\n",
    "1.beer_abv- most of the beers are less than 10% abv<br>\n",
    "2.beer_beerid,brewery_id-the lower ID's have the larger nambers of reviews than the higher ID's<br>\n",
    "3.review_appearance-most of the beers have been rates by 4<br>\n",
    "4.review_aroma- most of the beers have been rated as 4<br>\n",
    "5.review_overall-most of the beers have been rated as 4<br>\n",
    "6.review_palate-most of the beers have been rated as 4<br>\n",
    "7.review_taste-most of the beers have been rated as 4<br>\n",
    "\n"
   ]
  },
  {
   "cell_type": "markdown",
   "metadata": {},
   "source": [
    "### Define Unite Label\n",
    "\n",
    "I would like to check if the HandPosition_LabelLeft and HandPosition_LabelRight have the same values , <br>\n",
    "so that I could delete one of them and leave one column of label.\n"
   ]
  },
  {
   "cell_type": "code",
   "execution_count": null,
   "metadata": {},
   "outputs": [],
   "source": [
    "FinalDfHands['HandPosition_LabelLeft'].equals(FinalDfHands['HandPosition_LabelRight'])"
   ]
  },
  {
   "cell_type": "code",
   "execution_count": null,
   "metadata": {},
   "outputs": [],
   "source": [
    "#Both columns are equal, therefore I will delete one of them , and change the name of the other to general label\n",
    "FinalDfHands=FinalDfHands.drop('HandPosition_LabelLeft',axis=1)\n"
   ]
  },
  {
   "cell_type": "code",
   "execution_count": null,
   "metadata": {},
   "outputs": [],
   "source": [
    "#check the shape of the df\n",
    "FinalDfHands.shape"
   ]
  },
  {
   "cell_type": "code",
   "execution_count": null,
   "metadata": {},
   "outputs": [],
   "source": [
    "#change the name of the column :HandPosition_LabelRight\n",
    "FinalDfHands = FinalDfHands.rename(columns={'HandPosition_LabelRight': 'Label'})"
   ]
  },
  {
   "cell_type": "markdown",
   "metadata": {},
   "source": [
    "### Delete Irrelevant Columns\n",
    "\n",
    "The  columns: Frame IDRight, Frame IDLeft are not columns that we want to affect on our models, because they containing irrelevant data.Therefore, I will delete them."
   ]
  },
  {
   "cell_type": "code",
   "execution_count": null,
   "metadata": {},
   "outputs": [],
   "source": [
    "FinalDfHands=FinalDfHands.drop([' Frame IDLeft',' Frame IDRight'],axis=1)\n",
    "#check the shape of the df\n",
    "FinalDfHands.shape"
   ]
  },
  {
   "cell_type": "markdown",
   "metadata": {},
   "source": [
    "So that the columns: ' # handsLeft',' # handsRight'- It is not interesting the number of hands that appear in the same frame,<br>\n",
    "    and we can even say that we do not want this value to appear in df because it can has directly affect on the models predictions."
   ]
  },
  {
   "cell_type": "code",
   "execution_count": null,
   "metadata": {},
   "outputs": [],
   "source": [
    "FinalDfHands=FinalDfHands.drop(['Num_handsLeft','Num_handsRight'],axis=1)\n",
    "#check the shape of the df\n",
    "FinalDfHands.shape"
   ]
  },
  {
   "cell_type": "markdown",
   "metadata": {},
   "source": [
    "More 2 columns I would like to treat them are:  ' Hand TypeRight',' Hand TypeLeft'.<br>\n",
    "Those columns irrelevant in the df because the value of the columns are the same in each rows. \n",
    "Therefore, I will delete them:"
   ]
  },
  {
   "cell_type": "code",
   "execution_count": null,
   "metadata": {},
   "outputs": [],
   "source": [
    "FinalDfHands=FinalDfHands.drop(['HandTypeRight','HandTypeLeft'],axis=1)\n",
    "#check the shape of the df\n",
    "FinalDfHands.shape"
   ]
  },
  {
   "cell_type": "markdown",
   "metadata": {},
   "source": [
    "More 2 columns I would like to delete are 'TimeRight','TimeLeft'- because after I deleted the first seven seconds ,<br>\n",
    "and see that It is around 60 frames in 1 second- there is no need anymore in those columns.<br>\n",
    "Let's delete them:"
   ]
  },
  {
   "cell_type": "code",
   "execution_count": null,
   "metadata": {},
   "outputs": [],
   "source": [
    "FinalDfHands=FinalDfHands.drop(['TimeRight','TimeLeft'],axis=1)\n",
    "#check the shape of the df\n",
    "FinalDfHands.shape"
   ]
  },
  {
   "cell_type": "markdown",
   "metadata": {},
   "source": [
    "### Plot the distribution of the data"
   ]
  },
  {
   "cell_type": "code",
   "execution_count": null,
   "metadata": {},
   "outputs": [],
   "source": [
    "FinalDfHands['Label'].value_counts().plot.bar()\n",
    "plt.title('Distribution of the data')\n",
    "plt.xlabel('Label')\n",
    "plt.ylabel('Number of frames')\n",
    "plt.show()"
   ]
  },
  {
   "cell_type": "markdown",
   "metadata": {},
   "source": [
    "**Conclusion**<br>\n",
    "We have balanced data"
   ]
  },
  {
   "cell_type": "markdown",
   "metadata": {},
   "source": [
    "# Check if there are more equal columns\n",
    "\n",
    "(accept the label we already unite)\n"
   ]
  },
  {
   "cell_type": "code",
   "execution_count": null,
   "metadata": {},
   "outputs": [],
   "source": [
    "#create a list of all the columns name:\n",
    "ColList=FinalDfHands.columns\n",
    "ColList"
   ]
  },
  {
   "cell_type": "code",
   "execution_count": null,
   "metadata": {},
   "outputs": [],
   "source": [
    "deletedCol=[]\n",
    "for ColName1 in ColList:\n",
    "    for ColName2 in ColList:\n",
    "        if (ColName1!= ColName2):\n",
    "            if(FinalDfHands[ColName1].equals(FinalDfHands[ColName2])==True):#Both columns are equal\n",
    "                FinalDfHands=FinalDfHands.drop(ColName1,axis=1)#drop one of them\n",
    "                deletedCol.append(ColName1)#and add It to array, so we know which columns we remove.\n",
    "\n"
   ]
  },
  {
   "cell_type": "code",
   "execution_count": null,
   "metadata": {},
   "outputs": [],
   "source": [
    "FinalDfHands.shape"
   ]
  },
  {
   "cell_type": "markdown",
   "metadata": {},
   "source": [
    "**Conclusion**<br>\n",
    "There are no more equal columns."
   ]
  },
  {
   "cell_type": "markdown",
   "metadata": {},
   "source": [
    "## Nan Values & Duplications\n",
    "Already dropped the Nan Values and Duplications in the start of this notebook."
   ]
  },
  {
   "cell_type": "markdown",
   "metadata": {},
   "source": [
    "# Correlations"
   ]
  },
  {
   "cell_type": "code",
   "execution_count": null,
   "metadata": {},
   "outputs": [],
   "source": [
    "#we will compute standard correlation coefficient between every pair of attributes, using the corr() method:\n",
    "Correlation=FinalDfHands.corr()\n",
    "Correlation\n",
    "#show correlation as heat map\n",
    "plt.figure(figsize=(15,15))#set size\n",
    "sns.heatmap(Correlation, annot=True,cmap=\"BuPu\", fmt=\".2f\")\n",
    "plt.title ('Correlation')\n",
    "plt.show()"
   ]
  },
  {
   "cell_type": "code",
   "execution_count": null,
   "metadata": {},
   "outputs": [],
   "source": []
  },
  {
   "cell_type": "markdown",
   "metadata": {},
   "source": [
    "**Conclusion**HHHHHHHHHHHH"
   ]
  },
  {
   "cell_type": "markdown",
   "metadata": {},
   "source": [
    "### Drop additional unrelevant features\n",
    "As we can see from the correlation graph, HHHHHHHHHHH"
   ]
  },
  {
   "cell_type": "code",
   "execution_count": null,
   "metadata": {},
   "outputs": [],
   "source": [
    "FinalDfHands = FinalDfHands.drop(['#handsRight', '#handsLeft', 'TimeRight', 'TimeLeft', 'FrameIDRight', 'FrameIDLeft',\n",
    "                        'HandTypeRight', 'HandTypeLeft', 'labelRight'], axis = 1) #Further unneeded attributes"
   ]
  },
  {
   "cell_type": "markdown",
   "metadata": {},
   "source": [
    "### Take every fifth row\n",
    "As we talked in class, we need to take every fifth row, so that It will be possible to see real and meaningful changes."
   ]
  },
  {
   "cell_type": "code",
   "execution_count": null,
   "metadata": {},
   "outputs": [],
   "source": [
    "#every 5th row\n",
    "FinalDfHands = FinalDfHands.iloc[::5, :]\n",
    "\n",
    "FinalDfHands = FinalDfHands.reset_index() #resetting index of the handRight for merging\n",
    "FinalDfHands = FinalDfHands.drop(['index'], axis = 1)"
   ]
  },
  {
   "cell_type": "code",
   "execution_count": null,
   "metadata": {},
   "outputs": [],
   "source": []
  },
  {
   "cell_type": "code",
   "execution_count": null,
   "metadata": {},
   "outputs": [],
   "source": []
  },
  {
   "cell_type": "code",
   "execution_count": null,
   "metadata": {},
   "outputs": [],
   "source": []
  },
  {
   "cell_type": "code",
   "execution_count": null,
   "metadata": {},
   "outputs": [],
   "source": []
  },
  {
   "cell_type": "code",
   "execution_count": null,
   "metadata": {},
   "outputs": [],
   "source": []
  },
  {
   "cell_type": "code",
   "execution_count": null,
   "metadata": {},
   "outputs": [],
   "source": []
  },
  {
   "cell_type": "markdown",
   "metadata": {},
   "source": [
    "# Split to train set and test set"
   ]
  },
  {
   "cell_type": "code",
   "execution_count": null,
   "metadata": {},
   "outputs": [],
   "source": [
    "#split the data into labels and features \n",
    "y=dfGeneral.label #label is the label we want to predict\n",
    "x=dfGeneral.drop('label',axis=1)#use drop function to take all other data in x"
   ]
  },
  {
   "cell_type": "code",
   "execution_count": null,
   "metadata": {},
   "outputs": [],
   "source": [
    "x_train,x_test,y_train,y_test=train_test_split(x,y,test_size=0.2,random_state = 0)#we will tale 20% of the dataset to testing and the rest for training\n"
   ]
  },
  {
   "cell_type": "markdown",
   "metadata": {},
   "source": [
    "# <b>Dimensionality Reduction </b>\n",
    "\n",
    "# PCA -Principal Component Analysis\n",
    "\n",
    "PCA is the most popular dimensionality reduction algorithm.<br>\n",
    "First it identifies the hyperplane that lies closest to the data, and then it projects the data onto it.<br>\n",
    "\n",
    "# Data Scaling \n",
    "\n",
    "By using PCA I will try to reduce those dimensions into smaller number of dimensions, which will be creating a new vector space. <br>\n",
    "First thing I want to do is **Min-Max scaling**.<br>\n",
    "Min-max scaling (normalization) is way to get all attributes to have the same scale values, by the way they are shifted and rescaled so that they end up ranging from 0 to 1.<br>\n",
    "We do this by subtracting the min value and dividing by the max minus the min.<br>\n",
    "Scikit-Learn provides a transformer called MinMaxScaler for this.<br>\n",
    "It has a feature_range hyperparameter that let change the range if, for some reason, you don’t want 0–1.<br>"
   ]
  },
  {
   "cell_type": "code",
   "execution_count": null,
   "metadata": {},
   "outputs": [],
   "source": [
    "from sklearn.preprocessing import MinMaxScaler\n",
    "#We will scale the x_train set\n",
    "scaler = MinMaxScaler()\n",
    "scaler.fit(x_train)#this is the train part from the secondary split\n",
    "\n",
    "scaled_data=scaler.transform(x_train)# We get array \n",
    "x_train_scaled= pd.DataFrame(scaled_data)#turn into df\n",
    "x_train_scaled"
   ]
  },
  {
   "cell_type": "code",
   "execution_count": null,
   "metadata": {},
   "outputs": [],
   "source": [
    "#We will scale the x_test set\n",
    "scaled_data_test=scaler.transform(x_test)# We get array \n",
    "x_test_scaled= pd.DataFrame(scaled_data_test)#turn into df\n",
    "x_test_scaled"
   ]
  },
  {
   "cell_type": "markdown",
   "metadata": {},
   "source": [
    "We can see the data has been converted into new dataframe , and this is based on the standard deviation as 1, and mean is equal to 0. <br>\n",
    "Now we will apply the PCA.<br>"
   ]
  },
  {
   "cell_type": "code",
   "execution_count": null,
   "metadata": {},
   "outputs": [],
   "source": [
    "x_train_scaled.shape"
   ]
  },
  {
   "cell_type": "markdown",
   "metadata": {},
   "source": [
    "# Back to PCA\n",
    "\n",
    "## Importing additional libraries\n"
   ]
  },
  {
   "cell_type": "code",
   "execution_count": null,
   "metadata": {},
   "outputs": [],
   "source": [
    "from sklearn.decomposition import PCA\n",
    "from sklearn import preprocessing #this package gives us functions for scaling the data before performing PCA\n"
   ]
  },
  {
   "cell_type": "markdown",
   "metadata": {},
   "source": [
    "Before I will do the PCA, Iwant to see again the data: "
   ]
  },
  {
   "cell_type": "code",
   "execution_count": null,
   "metadata": {},
   "outputs": [],
   "source": [
    "x_train_scaled.tail (10)"
   ]
  },
  {
   "cell_type": "code",
   "execution_count": null,
   "metadata": {},
   "outputs": [],
   "source": [
    "print(\"Data has\",len(x_train_scaled.columns),\"features.\" ) "
   ]
  },
  {
   "cell_type": "code",
   "execution_count": null,
   "metadata": {},
   "outputs": [],
   "source": [
    "#From the total dimensions, I want to set n_components to be a float between 0.0 and 1.0, \n",
    "#indicating the ratio of variance I wish to preserve, in this case I will choose 0.95:\n",
    " \n",
    "pca = PCA(n_components = 0.95)\n",
    "\n",
    "#fit the scaled data\n",
    "X_train_Reduced=pca.fit_transform(x_train_scaled)\n",
    "\n",
    "#transform the PCA by using the PCA object for the scaled data\n",
    "X_test_Reduced=pca.transform(x_test_scaled)\n"
   ]
  },
  {
   "cell_type": "code",
   "execution_count": null,
   "metadata": {},
   "outputs": [],
   "source": [
    "#We get an array\n",
    "X_train_Reduced\n",
    "#So we will turn it into df\n",
    "X_train_Reduced = pd.DataFrame(X_train_Reduced)\n",
    "#and check the shape of it to see how it change\n",
    "X_train_Reduced.shape"
   ]
  },
  {
   "cell_type": "markdown",
   "metadata": {},
   "source": [
    "It is possible to see the difference by the number of columns- 8100 columns to x_train_scaled, and different number after the PCA.HHHHHHHHHHHHHHHHHHHHHH"
   ]
  },
  {
   "cell_type": "code",
   "execution_count": null,
   "metadata": {},
   "outputs": [],
   "source": [
    "print ('\\033[1m' , 'Conclusion' , '\\033[0m')HHHHHHHHHHHHHHHHHHHHHHHHH\n",
    "print(\"After the PCA , dimensions dropped from 8100 to\", len(X_train_Reduced.columns),\".\")\n",
    "print(\"Means that dimensions decreased by\", 100-((len(X_train_Reduced.columns)*100)/8100), \"%\")\n",
    "\n"
   ]
  },
  {
   "cell_type": "markdown",
   "metadata": {},
   "source": [
    "# <b> Ensemble Learning<b>\n",
    "Building a model on top of many other models is called Ensemble Learning.<br>\n",
    "More extensively, if you aggregate the predictions of a group of predictors (such as classifiers in current project), you will\n",
    "often get better predictions than with the best individual predictor.<br>\n",
    "In this part of the project I will try to improve my previous project results by using Ensemble Learning. <br>\n",
    "    \n",
    "While finding the model with the best accuracy, I would like to check what model is with the best run time.<br>\n"
   ]
  },
  {
   "cell_type": "code",
   "execution_count": null,
   "metadata": {},
   "outputs": [],
   "source": [
    "#Therefore , to find the best run time, I need to import the time library.\n",
    "import time\n",
    "\n",
    "#Initialize an empty array of model's running times\n",
    "RunningTimes=[]\n",
    "\n",
    "#Initialize an empty array of model's names\n",
    "ModelName=[]\n",
    "\n",
    "#Initialize an empty array of model's accuracies\n",
    "Accuracies=[]"
   ]
  },
  {
   "cell_type": "markdown",
   "metadata": {},
   "source": [
    "First of all, I will show the model 'Random Forest'.<br>\n",
    "\n",
    "# <b> Random Forest<b>\n",
    "    \n",
    "Random Forest is the Ensemble Learning of Decision Trees.<br>                                                             Random Forests as we learned, is a supervised learning algorithm.<br>                                                           There is a direct relationship between the number of trees in the forest and the results it can get. It uses a number of decision trees and predicts the more accurate result by voting in case of classification (or averaging in case of regression).<br>\n",
    "    \n",
    "         \n",
    "## Explain about method's parameters<b>\n",
    "**n_estimators** -  The number of trees in the forest,the more estimators you give it, the better it will do.<br>\n",
    "From what I have been reading, 500 or 1000 is usually sufficient.<br>\n",
    "**n_jobs** -  the number of CPU cores to use for training and predictions (–1 tells Scikit-Learn to use all available cores).<br>\n",
    "**random_state**- is be used to set the internal parameters initially, so you can repeat the training deterministically.<br>\n",
    "    \n",
    "## Importing additional libraries"
   ]
  },
  {
   "cell_type": "code",
   "execution_count": null,
   "metadata": {},
   "outputs": [],
   "source": [
    "from sklearn.ensemble import RandomForestClassifier \n",
    "from sklearn.tree import DecisionTreeClassifier\n",
    "from sklearn import metrics\n",
    "from sklearn.metrics import accuracy_score"
   ]
  },
  {
   "cell_type": "markdown",
   "metadata": {},
   "source": [
    "## Fit & Predict"
   ]
  },
  {
   "cell_type": "code",
   "execution_count": null,
   "metadata": {},
   "outputs": [],
   "source": [
    "#Start measuring running time\n",
    "StartTimeRF = time.time()\n",
    "\n",
    "# instantiate the model\n",
    "RForest= RandomForestClassifier(n_estimators=500, n_jobs=-1, random_state=0)\n",
    "\n",
    "# fit the model with data\n",
    "RForest.fit(X_train_Reduced, y_train)\n",
    "\n",
    "#make predictions on the testing set (predict for first_test)\n",
    "RForestPred = RForest.predict(X_test_Reduced)\n",
    "\n",
    "#Finish measuring running time\n",
    "EndTimeRF = time.time()\n",
    "\n",
    "#Toal running time\n",
    "TotalTimeRF= EndTimeRF - StartTimeRF\n",
    "\n",
    "#Add model's running time to RunningTimes array, and name to ModelName array\n",
    "RunningTimes.append(TotalTimeRF)\n",
    "ModelName.append('RF')\n"
   ]
  },
  {
   "cell_type": "markdown",
   "metadata": {},
   "source": [
    "**Accuracy,Classification Error (Misclassification Rate) :** Overall, how often is the classifier incorrect?<br>"
   ]
  },
  {
   "cell_type": "code",
   "execution_count": null,
   "metadata": {},
   "outputs": [],
   "source": [
    "accuracyRForest = metrics.accuracy_score(y_test, RForestPred)#check the predictions with the real values\n",
    "\n",
    "print(\"The Accuracy of this model, after PCA is:\",accuracyRForest)\n",
    "print(\"the Classification Error for this model, after PCA is:\", 1 - accuracyRForest)\n",
    "#Add model's accuracy to Accuracies array\n",
    "Accuracies.append(accuracyRForest)\n",
    "\n",
    "print(ModelName)\n",
    "print(Accuracies)"
   ]
  },
  {
   "cell_type": "markdown",
   "metadata": {},
   "source": [
    "## Model evaluation metrics for classification\n",
    "\n",
    "### Confusion Matrix\n",
    "\n",
    "To visualize how many values the Random Forest classifier predicted correctly, <br>\n",
    "I will compute confusion_matrix by using Scikit-Learn’s confusion_matrix() function:"
   ]
  },
  {
   "cell_type": "code",
   "execution_count": null,
   "metadata": {},
   "outputs": [],
   "source": [
    "from sklearn.metrics import confusion_matrix\n",
    "CM_RF=confusion_matrix(y_test,RForestPred)\n",
    "CM_RF#It's a 10x10 matrix because there are 10 response classes (0-9)HHHHHHHHHHHHHHHHHHHHHHHH"
   ]
  },
  {
   "cell_type": "markdown",
   "metadata": {},
   "source": [
    "Lets show Confusion Matrix as heat map:"
   ]
  },
  {
   "cell_type": "code",
   "execution_count": null,
   "metadata": {},
   "outputs": [],
   "source": [
    "import seaborn as sns\n",
    "\n",
    "plt.figure(figsize=(10,10))#set size\n",
    "sns.heatmap(CM_RF,cmap = \"BuPu\", annot=True, fmt = '.0f')\n",
    "plt.title ('Random Forest Confusion Matrix')\n",
    "plt.show()"
   ]
  },
  {
   "cell_type": "markdown",
   "metadata": {},
   "source": [
    "**Conclusion**<br>\n",
    "The main left diagonal represent all the cases that the model predict correctly (TN,TP).<br>\n",
    "The rest cells represent all the cases the model predict incorrectly (FP,FN).<br>\n",
    "\n",
    "Therefore, It can be concluded that the least good predicted label with Random Forest model is 'Shirt'(label number 6),<br>\n",
    "and the most good predicted label is 'Trouser'(label number 1).<br>\n",
    "\n",
    "### Classification Report\n",
    "\n",
    "Let's compute precision, recall, f1-score and accuracy by using Scikit-Learn’s classification_report() method:\n"
   ]
  },
  {
   "cell_type": "code",
   "execution_count": null,
   "metadata": {},
   "outputs": [],
   "source": [
    "from sklearn.metrics import classification_report\n",
    "print (classification_report(y_test,RForestPred))"
   ]
  },
  {
   "cell_type": "markdown",
   "metadata": {},
   "source": [
    "**Conclusion**<br>HHHHHHHHHHHHHHHHHHHHHHH\n",
    "\n",
    "As we learned, **Precision** answer the question- What proportion of positive identifications was actually correct,<br>\n",
    "and equal to:<br>\n",
    "    $Precision=\\frac {TP }{TP+FP}$ <br>\n",
    "    \n",
    "**Recall**, answer the question- What proportion of actual positives was identified correctly,<br>\n",
    "and equal to:<br>\n",
    " $Recall=\\frac {TP }{TP+FN}$ <br>\n",
    "\n",
    "**F1 score** is defined as the harmonic mean between precision and recall, and It formula is:<br>\n",
    "In cats:   $F1 score=2 \\times \\frac{Precision \\times Recall}{Precision+ Recall}$<br>\n",
    "\n",
    "Therefore , it can be concluded that label number __________ has the least FP,<br>\n",
    "and label number ___________ has the most FP.<br>"
   ]
  },
  {
   "cell_type": "markdown",
   "metadata": {},
   "source": [
    "# Boosting\n",
    "\n",
    "Boosting refers to a family of algorithms that are able to convert weak learners to strong learners.<br>\n",
    "The predictions are then combined through a weighted majority vote in case of classification (or a weighted sum in case of regression) to produce the final prediction.<br>\n",
    "The models I will show are: AdaBoost, Gradient Boosting (XGBoost).<br>\n",
    "\n",
    "# <b> AdaBoost <b>\n",
    "    \n",
    "AdaBoost is the seconed model I will train.<br>\n",
    "This model gives more attention to the training instances that the predecessor underfitted.<br>\n",
    "This results in new predictors focusing more and more on the hard cases.<br>\n",
    "\n",
    "## Explain about method's parameters<b>\n",
    "**n_estimators**- Number of weak learners to train iteratively.<br>\n",
    "**learning_rate**- Shrinks the contribution of each classifier. It uses 1 as a default value.<br>\n",
    "    There is a trade-off between n_estimators to learning_rate. <br>\n",
    "    \n",
    "## Importing additional libraries"
   ]
  },
  {
   "cell_type": "code",
   "execution_count": null,
   "metadata": {},
   "outputs": [],
   "source": [
    "from sklearn.ensemble import AdaBoostClassifier\n",
    "from sklearn.tree import DecisionTreeClassifier"
   ]
  },
  {
   "cell_type": "markdown",
   "metadata": {},
   "source": [
    "## Fit & Predict\n"
   ]
  },
  {
   "cell_type": "code",
   "execution_count": null,
   "metadata": {},
   "outputs": [],
   "source": [
    "#Start measuring running time\n",
    "StartTimeADA = time.time()\n",
    "\n",
    "# instantiate the model\n",
    "DecisionTreeClf = DecisionTreeClassifier(max_depth=1)\n",
    "ada_clf = AdaBoostClassifier(DecisionTreeClf, n_estimators=100, learning_rate=0.5)\n",
    "\n",
    "# fit the model with data\n",
    "ada_clf.fit(X_train_Reduced, y_train)\n",
    "\n",
    "#make predictions on the testing set (predict for first_test)\n",
    "ada_clfPred = ada_clf.predict(X_test_Reduced)\n",
    "\n",
    "#Finish measuring running time\n",
    "EndTimeADA = time.time()\n",
    "\n",
    "#Toal running time\n",
    "TotalTimeADA = EndTimeADA - StartTimeADA\n",
    "\n",
    "#Add model's running time to RunningTimes array, and name to ModelName array\n",
    "RunningTimes.append(TotalTimeADA)\n",
    "ModelName.append('ADA')"
   ]
  },
  {
   "cell_type": "markdown",
   "metadata": {},
   "source": [
    "**Accuracy,Classification Error (Misclassification Rate) :**"
   ]
  },
  {
   "cell_type": "code",
   "execution_count": null,
   "metadata": {},
   "outputs": [],
   "source": [
    "accuracyAda = metrics.accuracy_score(y_test, ada_clfPred)#check the predictions with the real values\n",
    "\n",
    "print(\"The Accuracy of this model is:\",accuracyAda)\n",
    "print(\"the Classification Error for this model is:\", 1 - accuracyAda)\n",
    "#Add model's accuracy to Accuracies array\n",
    "Accuracies.append(accuracyAda)\n",
    "\n",
    "print(ModelName)\n",
    "print(Accuracies)"
   ]
  },
  {
   "cell_type": "markdown",
   "metadata": {},
   "source": [
    "## Model evaluation metrics for classification\n",
    "\n",
    "### Confusion Matrix"
   ]
  },
  {
   "cell_type": "code",
   "execution_count": null,
   "metadata": {},
   "outputs": [],
   "source": [
    "CM_ADA=confusion_matrix(y_test,ada_clfPred)\n",
    "#Show It as a heat map\n",
    "plt.figure(figsize=(10,10))#set size\n",
    "sns.heatmap(CM_ADA,cmap = \"BuPu\", annot=True, fmt = '.0f')\n",
    "plt.title ('ADA Boost Confusion Matrix')\n",
    "plt.show()"
   ]
  },
  {
   "cell_type": "markdown",
   "metadata": {},
   "source": [
    "**Conclusion**<br>HHHHHHHHHHHHHHHHHHH\n",
    "It can be concluded that the least good predicted label with Ada Boost model is 'Shirt'(label number 6),<br>\n",
    "and the most good predicted label is 'Bag'(label number 8).<br>\n",
    "\n",
    "### Classification Report\n"
   ]
  },
  {
   "cell_type": "code",
   "execution_count": null,
   "metadata": {},
   "outputs": [],
   "source": [
    "print (classification_report(y_test,ada_clfPred))"
   ]
  },
  {
   "cell_type": "markdown",
   "metadata": {},
   "source": [
    "**Conclusion**<br>HHHHHHHHHHHHHHHHHHHHH\n",
    "As you already see, I have written below the formulas of precision, recall and F1-Score.<br>\n",
    "Therefore , it can be concluded that label number 9 has the least FP,<br>\n",
    "and label number 6 has the most FP.<br>"
   ]
  },
  {
   "cell_type": "markdown",
   "metadata": {},
   "source": [
    "# Gradient Boosting\n",
    "\n",
    "Just like AdaBoost,Gradient Boosting works by sequentially adding predictors to an ensemble, each one correcting its predecessor.<br>\n",
    "However, instead of tweaking the instance weights at every iteration like AdaBoost does, <br>\n",
    "this method tries to fit the new predictor to the residual errors made by the previous predictor.\n",
    "\n",
    "# <b> XGBoost  <b>\n",
    "    \n",
    "XGBoost is the third model I will train.<br>\n",
    "XGBoost is an optimized implementation of Gradient Boosting , which stands for Extreme Gradient Boosting.<br>\n",
    "This model have enhanced performance and speed in tree-based (sequential decision trees) machine learning algorithms.<br>\n",
    "It is the most common algorithm used for applied machine learning in competitions and has gained popularity through winning solutions in structured and tabular data\n",
    "\n",
    "## Explain about method's parameters<b>\n",
    "\n",
    "**learning_rate**- Shrinks the contribution of each classifier. It uses 1 as a default value.<br>\n",
    "There is a trade-off between n_estimators to learning_rate.<br>\n",
    "**n_estimators**- Number of weak learners to train iteratively.<br>\n",
    "**verbosity**- Verbosity of printing messages. Valid values of 0 (silent), 1 (warning), 2 (info), and 3 (debug).<br>\n",
    "**use_label_encoder**-  Use the label encoder from scikit-learn to encode the labels. <br>\n",
    "For new code, It is recommend to set this parameter to False.\n",
    "\n",
    "## Importing additional libraries\n",
    "\n",
    "\n"
   ]
  },
  {
   "cell_type": "code",
   "execution_count": null,
   "metadata": {},
   "outputs": [],
   "source": [
    "import xgboost as xgb\n",
    "from xgboost import XGBClassifier\n",
    "import warnings"
   ]
  },
  {
   "cell_type": "markdown",
   "metadata": {},
   "source": [
    "## Fit & Predict"
   ]
  },
  {
   "cell_type": "code",
   "execution_count": null,
   "metadata": {},
   "outputs": [],
   "source": [
    "#Start measuring running time\n",
    "StartTimeXG = time.time()\n",
    "\n",
    "# instantiate the model\n",
    "XGBoost = XGBClassifier(learning_rate = 0.2, n_estimators = 2000, verbosity=0,use_label_encoder=False)\n",
    "\n",
    "# fit the model with data\n",
    "XGBoost.fit(X_train_Reduced, y_train)\n",
    "\n",
    "#make predictions on the testing set (predict for first_test)\n",
    "XGBoost_Pred = XGBoost.predict(X_test_Reduced)\n",
    "\n",
    "#Finish measuring running time\n",
    "EndTimeXG = time.time()\n",
    "\n",
    "#Toal running time\n",
    "TotalTimeXG = EndTimeXG - StartTimeXG\n",
    "\n",
    "#Add model's running time to RunningTimes array, and name to ModelName array \n",
    "RunningTimes.append(TotalTimeXG)\n",
    "ModelName.append('XG')"
   ]
  },
  {
   "cell_type": "markdown",
   "metadata": {},
   "source": [
    "**Accuracy,Classification Error (Misclassification Rate) :**"
   ]
  },
  {
   "cell_type": "code",
   "execution_count": null,
   "metadata": {},
   "outputs": [],
   "source": [
    "accuracyXG = metrics.accuracy_score(y_test, XGBoost_Pred)#check the predictions with the real values\n",
    "\n",
    "print(\"The Accuracy of this model is:\",accuracyXG)\n",
    "print(\"the Classification Error for this model is:\", 1 - accuracyXG)\n",
    "#Add model's accuracy to Accuracies array\n",
    "Accuracies.append(accuracyXG)\n",
    "\n",
    "print(ModelName)\n",
    "print(Accuracies)"
   ]
  },
  {
   "cell_type": "markdown",
   "metadata": {},
   "source": [
    "## Model evaluation metrics for classification\n",
    "\n",
    "### Confusion Matrix"
   ]
  },
  {
   "cell_type": "code",
   "execution_count": null,
   "metadata": {},
   "outputs": [],
   "source": [
    "CM_XG=confusion_matrix(y_test,XGBoost_Pred)\n",
    "#Let's show Confusion Matrix as heat map:\n",
    "plt.figure(figsize=(10,10))#set size\n",
    "sns.heatmap(CM_XG,cmap = \"BuPu\", annot=True, fmt = '.0f')\n",
    "plt.title ('XG Boost Confusion Matrix')\n",
    "plt.show()"
   ]
  },
  {
   "cell_type": "markdown",
   "metadata": {},
   "source": [
    "**Conclusion**<br>HHHHHHHHHHHHHHHHHHHHH\n",
    "It can be concluded that the least good predicted label with XGBoost model is 'Shirt'(label number 6),<br>\n",
    "and the most good predicted label is 'Trouser'(label number 1 ).<br>\n",
    "\n",
    "### Classification Report\n"
   ]
  },
  {
   "cell_type": "markdown",
   "metadata": {},
   "source": [
    "print (classification_report(y_test,XGBoost_Pred))"
   ]
  },
  {
   "cell_type": "markdown",
   "metadata": {},
   "source": [
    "**Conclusion**<br>\n",
    "As you already see, I have written below the formulas of precision, recall and F1-Score.<br>\n",
    "Therefore , it can be concluded that label number 1 has the least FP,<br>\n",
    "and label number 6 has the most FP.<br>\n",
    "\n",
    "# Simple Classification models<br>\n",
    "\n",
    "Let's start implementing simple classification models we learned last semester, and then return to ensemble models.\n",
    "I will explain this decision later.<br>\n",
    "\n",
    "## <b>KNN model</b>\n",
    "### <b> Which n_neighbors should I choose?<b>\n",
    "    \n",
    "First of all I ran for loop about different n_neighbors and checked the accuracy for eack case, <br>\n",
    "then I chose the n_neighbors that gave me the most accurate value:<br>\n"
   ]
  },
  {
   "cell_type": "code",
   "execution_count": null,
   "metadata": {},
   "outputs": [],
   "source": [
    "from sklearn.neighbors import KNeighborsClassifier"
   ]
  },
  {
   "cell_type": "code",
   "execution_count": null,
   "metadata": {},
   "outputs": [],
   "source": [
    "#Please do not run this cell,It is very long time to be loaded\n",
    "#i ran it in the start to see which n neighbors will be the best to choose\n",
    "scores=[]\n",
    "for i in range(1,20):\n",
    "    knn = KNeighborsClassifier(n_neighbors=i)\n",
    "\n",
    "#fit the model with data\n",
    "    knn.fit(X_train_Reduced, y_train)\n",
    "\n",
    "# predict the response for new observations\n",
    "    from sklearn.model_selection import cross_val_score #import cross validation method\n",
    "\n",
    "    score=cross_val_score(knn,X_train_Reduced, y_train,cv=2).mean()\n",
    "    print(\"Accuracy for k=\"+str(i)+\" is \"+str(score) )\n",
    "    scores.append(score)\n",
    "    "
   ]
  },
  {
   "cell_type": "code",
   "execution_count": null,
   "metadata": {},
   "outputs": [],
   "source": [
    "#This is the array of all the accuracies according to different n neighbors\n",
    "scores"
   ]
  },
  {
   "cell_type": "code",
   "execution_count": null,
   "metadata": {},
   "outputs": [],
   "source": [
    "#Let's plot the relation between n and testing accuracy\n",
    "n_neigh=list(range(1,20))\n",
    "plt.plot(n_neigh,scores)\n",
    "plt.ylabel('Cross-Validation Testing Accuracy')#show the number of 0.9999X, means- 7,5,,6,4,4,3,3,1.....\n",
    "plt.show()"
   ]
  },
  {
   "cell_type": "code",
   "execution_count": null,
   "metadata": {},
   "outputs": [],
   "source": [
    "#Let's find the max accuracy in 'score' array:\n",
    "import numpy as np\n",
    "max_value = np.max(scores)\n",
    "max_value\n",
    "#find the index of this max score\n",
    "index_maxScore=scores.index(max_value)\n",
    "index_maxScore\n",
    "print('\\033[1m' , 'Conclusion' , '\\033[0m')\n",
    "print('It can be concluded that the best accuracy of KNN model is:',max_value)\n",
    "print(\"and It received when the number of neighbors is equal to:\", index_maxScore+1.)\n"
   ]
  },
  {
   "cell_type": "markdown",
   "metadata": {},
   "source": [
    "## Fit&Predict"
   ]
  },
  {
   "cell_type": "code",
   "execution_count": null,
   "metadata": {},
   "outputs": [],
   "source": [
    "#Start measuring running time\n",
    "StartTimeKNN = time.time()\n",
    "\n",
    "# instantiate the model\n",
    "knn = KNeighborsClassifier(n_neighbors=6)#################################HHHHHHHHHH\n",
    "\n",
    "# fit the model with data\n",
    "knn.fit(X_train_Reduced, y_train)\n",
    "\n",
    "\n",
    "# make predictions on the testing set (predict for first_test)\n",
    "Knn_Pred=knn.predict(X_test_Reduced)\n",
    "\n",
    "#Finish measuring running time\n",
    "EndTimeKNN = time.time()\n",
    "\n",
    "#Toal running time\n",
    "TotalTimeKNN = EndTimeKNN - StartTimeKNN\n",
    "\n",
    "#Add model's running time to RunningTimes array, and name to ModelName array \n",
    "RunningTimes.append(TotalTimeKNN)\n",
    "ModelName.append('KNN')"
   ]
  },
  {
   "cell_type": "markdown",
   "metadata": {},
   "source": [
    "**Accuracy,Classification Error (Misclassification Rate) :**"
   ]
  },
  {
   "cell_type": "code",
   "execution_count": null,
   "metadata": {},
   "outputs": [],
   "source": [
    "accuracyKNN = metrics.accuracy_score(y_test, Knn_Pred)#check the predictions with the real values\n",
    "\n",
    "print(\"The Accuracy of this model is:\",accuracyKNN)\n",
    "print(\"the Classification Error for this model is:\", 1 - accuracyKNN)\n",
    "#Add model's accuracy to Accuracies array\n",
    "Accuracies.append(accuracyKNN)\n",
    "\n",
    "print(ModelName)\n",
    "print(Accuracies)"
   ]
  },
  {
   "cell_type": "markdown",
   "metadata": {},
   "source": [
    "## Model evaluation metrics for classification\n",
    "\n",
    "### Confusion Matrix"
   ]
  },
  {
   "cell_type": "code",
   "execution_count": null,
   "metadata": {},
   "outputs": [],
   "source": [
    "CM_KNN=confusion_matrix(y_test,Knn_Pred)\n",
    "CM_KNN#It's a 3x3 matrix because there are 3 response classes (0,1,2)\n",
    "#Let's show Confusion Matrix as heat map:\n",
    "plt.figure(figsize=(10,10))#set size\n",
    "sns.heatmap(CM_KNN,cmap = \"BuPu\", annot=True, fmt = '.0f')\n",
    "plt.title ('KNN Confusion Matrix')\n",
    "plt.show()"
   ]
  },
  {
   "cell_type": "markdown",
   "metadata": {},
   "source": [
    "### Classification Report"
   ]
  },
  {
   "cell_type": "code",
   "execution_count": null,
   "metadata": {},
   "outputs": [],
   "source": [
    "print (classification_report(y_test,Knn_Pred))"
   ]
  },
  {
   "cell_type": "markdown",
   "metadata": {},
   "source": [
    "**Conclusion**<br>\n",
    "It can be concluded that the least good predicted label with KNN model is 'Shirt'(label number 6),<br>\n",
    "and the most good predicted label is 'Trouser'(label number 1).<br>\n"
   ]
  },
  {
   "cell_type": "markdown",
   "metadata": {},
   "source": [
    "## Logistic Regression model"
   ]
  },
  {
   "cell_type": "code",
   "execution_count": null,
   "metadata": {},
   "outputs": [],
   "source": [
    "from sklearn.linear_model import LogisticRegression\n",
    "\n",
    "#Start measuring running time \n",
    "StartTimeLR = time.time()\n",
    "\n",
    "# instantiate the model (using the default parameters)\n",
    "log_reg = LogisticRegression(max_iter=400)\n",
    "\n",
    "# fit the model with data\n",
    "log_reg.fit(X_train_Reduced, y_train)\n",
    "\n",
    "#make predictions on the testing set\n",
    "Log_Pred = log_reg.predict(X_test_Reduced)\n",
    "\n",
    "#Finish measuring running time\n",
    "EndTimeLR = time.time()\n",
    "\n",
    "#Toal running time  \n",
    "TotalTimeLR = EndTimeLR - StartTimeLR\n",
    "\n",
    "#Add model's running time to RunningTimes array, and name to ModelName array \n",
    "RunningTimes.append(TotalTimeLR)\n",
    "ModelName.append('Logistic_Regression')\n"
   ]
  },
  {
   "cell_type": "markdown",
   "metadata": {},
   "source": [
    "**Accuracy,Classification Error (Misclassification Rate) :**"
   ]
  },
  {
   "cell_type": "code",
   "execution_count": null,
   "metadata": {},
   "outputs": [],
   "source": [
    "accuracyLR = metrics.accuracy_score(y_test, Log_Pred)#check the predictions with the real values\n",
    "\n",
    "print(\"The Accuracy of this model is:\",accuracyLR)\n",
    "print(\"the Classification Error for this model is:\", 1 - accuracyLR)\n",
    "#Add model's accuracy to Accuracies array\n",
    "Accuracies.append(accuracyLR)\n",
    "\n",
    "print(ModelName)\n",
    "print(Accuracies)"
   ]
  },
  {
   "cell_type": "markdown",
   "metadata": {},
   "source": [
    "## Model evaluation metrics for classification\n",
    "\n",
    "### Confusion Matrix"
   ]
  },
  {
   "cell_type": "code",
   "execution_count": null,
   "metadata": {},
   "outputs": [],
   "source": [
    "CM_LR=confusion_matrix(y_test,Log_Pred)\n",
    "CM_LR\n",
    "#Let's show Confusion Matrix as heat map:\n",
    "plt.figure(figsize=(10,10))#set size\n",
    "sns.heatmap(CM_LR,cmap = \"BuPu\", annot=True, fmt = '.0f')\n",
    "plt.title ('Logistic Regression Confusion Matrix')\n",
    "plt.show()"
   ]
  },
  {
   "cell_type": "markdown",
   "metadata": {},
   "source": [
    "### Classification Report\n"
   ]
  },
  {
   "cell_type": "code",
   "execution_count": null,
   "metadata": {},
   "outputs": [],
   "source": [
    "print (classification_report(y_test,Log_Pred))"
   ]
  },
  {
   "cell_type": "markdown",
   "metadata": {},
   "source": [
    "**Conclusion**<br>\n",
    "It can be concluded that the least good predicted label with Logistic Regression model is 'Shirt'(label number 6),<br>\n",
    "and the most good predicted label is 'Trouser'(label number 1).<br>\n"
   ]
  },
  {
   "cell_type": "markdown",
   "metadata": {},
   "source": [
    "# Subtotal Of All Models Accuracies&RunTime"
   ]
  },
  {
   "cell_type": "code",
   "execution_count": null,
   "metadata": {},
   "outputs": [],
   "source": [
    "#Create array of all accuracies:\n",
    "\n",
    "print(Accuracies)\n",
    "print(ModelName)\n",
    "\n",
    "#define df\n",
    "data = pd.DataFrame({'Model': ModelName, 'Accuracies': list(Accuracies), 'RunTime':list(RunningTimes)}, columns=['Model', 'Accuracies', 'RunTime'])\n",
    "\n",
    "data"
   ]
  },
  {
   "cell_type": "markdown",
   "metadata": {},
   "source": [
    "# Back To Ensemble learning Models\n",
    "\n",
    "Now, After I finished the implement of the simple classification models, I would like to continue with the Ensemble learning Models. <br>\n",
    "I have preferred to implement those simple classification models before using the models: Bagging, Stacking, Voting  \n",
    "because those three models may use part  (or all) those simple classification models. <br>\n",
    "It explain in each model in detail later in the notebook.<br>\n",
    "\n",
    "# <b> Bagging&Pasting  <b>\n",
    "    \n",
    "Bagging stands for bootstrap aggregation. One way to reduce the variance of an estimate is to average together multiple estimates. For aggregating the outputs of base learners in case of classification, bagging uses Voting (and averaging in case of regression).<br>\n",
    "For example, random forest trains X Decision Tree, It is possible to train X different trees on different random subsets of the data and perform voting for final prediction.<br>\n",
    "Bagging ensembles methods are Random Forest and Extra Trees.<br>\n",
    "    \n",
    "In other words, Bagging classifier is an ensemble meta-estimator that fits base classifiers each on random subsets of the original dataset,<br> and then aggregate their individual predictions (either by voting or by averaging) to form a final prediction.\n",
    "    \n",
    "Bagging is composed of two parts: aggregation and bootstrapping.<br>\n",
    "Bootstrapping is a sampling method, where a sample is chosen out of a set, using the replacement method. <br>\n",
    "The learning algorithm is then run on the samples selected.<br>\n",
    "\n",
    "The bootstrapping technique uses sampling with replacements to make the selection procedure completely random. <br>\n",
    "When a sample is selected without replacement, the subsequent selections of variables are always dependent on the previous selections, making the criteria non-random. <br>   \n",
    "    \n",
    "When sampling is performed without replacement, it is called **pasting**.<br>\n",
    "\n",
    "In other words, both bagging and pasting allow training instances to be sampled several times across multiple predictors,<br>\n",
    "but only bagging allows training instances to be sampled several times for the same predictor.<br>\n",
    "    \n",
    "## Explain about method's parameters<b>\n",
    "\n",
    "**base_estimator**-The base estimator to fit on random subsets of the dataset. If None, then the base estimator is a Decision Tree Classifier.In my case, I have chosed XGBoost because It is the model with the best accuracy til now.<br>\n",
    "**n_estimators**- The number of base estimators in the ensemble <br>\n",
    "**bootstrap**- Whether samples are drawn with replacement (as I explained above). If False, sampling without replacement is performed.   <br>\n",
    "\n",
    "# Bagging\n",
    "\n",
    "## Importing additional libraries\n"
   ]
  },
  {
   "cell_type": "code",
   "execution_count": null,
   "metadata": {},
   "outputs": [],
   "source": [
    "from sklearn.ensemble import BaggingClassifier"
   ]
  },
  {
   "cell_type": "markdown",
   "metadata": {},
   "source": [
    "## Fit & Predict"
   ]
  },
  {
   "cell_type": "code",
   "execution_count": null,
   "metadata": {},
   "outputs": [],
   "source": [
    "#Start measuring running time\n",
    "StartTimeBagging = time.time()\n",
    "\n",
    "# instantiate the model\n",
    "Bagging = BaggingClassifier(XGBoost, n_estimators = 100, bootstrap = True)#HHHHHHHHHHHHHHHHHHHHHHHHHHI chose XGBoost because till now 'It is the mosrt accurate model \n",
    "\n",
    "# fit the model with data\n",
    "Bagging.fit(X_train_Reduced, y_train)\n",
    "\n",
    "# make predictions on the testing set (predict for first_test)\n",
    "Bagging_Pred = Bagging.predict(X_test_Reduced)\n",
    "\n",
    "#Finish measuring running time\n",
    "EndTimeBagging = time.time()\n",
    "\n",
    "#Toal running time\n",
    "TotalTimeBagging = EndTimeBagging - StartTimeBagging\n",
    "\n",
    "#Add model's running time to RunningTimes array, and name to ModelName array \n",
    "RunningTimes.append(TotalTimeBagging)\n",
    "ModelName.append('Bagging')\n"
   ]
  },
  {
   "cell_type": "markdown",
   "metadata": {},
   "source": [
    "**Accuracy,Classification Error (Misclassification Rate) :**"
   ]
  },
  {
   "cell_type": "code",
   "execution_count": null,
   "metadata": {},
   "outputs": [],
   "source": [
    "accuracyBagging = metrics.accuracy_score(y_test, Bagging_Pred)#check the predictions with the real values\n",
    "\n",
    "print(\"The Accuracy of this model is:\",accuracyBagging)\n",
    "print(\"the Classification Error for this model is:\", 1 - accuracyBagging)\n",
    "#Add model's accuracy to Accuracies array\n",
    "Accuracies.append(accuracyBagging)\n",
    "\n",
    "print(ModelName)\n",
    "print(Accuracies)"
   ]
  },
  {
   "cell_type": "markdown",
   "metadata": {},
   "source": [
    "## Model evaluation metrics for classification\n",
    "\n",
    "### Confusion Matrix"
   ]
  },
  {
   "cell_type": "code",
   "execution_count": null,
   "metadata": {},
   "outputs": [],
   "source": [
    "CM_BAG=confusion_matrix(y_test,Bagging_Pred)\n",
    "CM_BAG\n",
    "#Let's show Confusion Matrix as heat map:\n",
    "plt.figure(figsize=(10,10))#set size\n",
    "sns.heatmap(CM_BAG,cmap = \"BuPu\", annot=True, fmt = '.0f')\n",
    "plt.title ('Bagging Confusion Matrix')\n",
    "plt.show()"
   ]
  },
  {
   "cell_type": "markdown",
   "metadata": {},
   "source": [
    "### Classification Report\n"
   ]
  },
  {
   "cell_type": "code",
   "execution_count": null,
   "metadata": {},
   "outputs": [],
   "source": [
    "print (classification_report(y_test,Bagging_Pred))"
   ]
  },
  {
   "cell_type": "markdown",
   "metadata": {},
   "source": [
    "**Conclusion**<br>\n",
    "HHHHHHHHHHHHHHHHHHHHHHHHHHHHHHHHHH\n",
    "\n",
    "# Pasting\n",
    "\n",
    "## Fit & Predict"
   ]
  },
  {
   "cell_type": "code",
   "execution_count": null,
   "metadata": {},
   "outputs": [],
   "source": [
    "#Start measuring running time\n",
    "StartTimePasting = time.time()\n",
    "\n",
    "# instantiate the model\n",
    "Pasting = BaggingClassifier(XGBoost, n_estimators = 100, bootstrap = False)\n",
    "\n",
    "# fit the model with data\n",
    "Pasting.fit(X_train_Reduced, y_train)\n",
    "\n",
    "# make predictions on the testing set (predict for first_test)\n",
    "Pasting_Pred = Pasting.predict(X_test_Reduced)\n",
    "\n",
    "#Finish measuring running time\n",
    "EndTimePasting = time.time()\n",
    "\n",
    "#Toal running time\n",
    "TotalTimePasting = EndTimePasting - StartTimePasting\n",
    "\n",
    "#Add model's running time to RunningTimes array, and name to ModelName array \n",
    "RunningTimes.append(TotalTimePasting)\n",
    "ModelName.append('Pasting')\n"
   ]
  },
  {
   "cell_type": "markdown",
   "metadata": {},
   "source": [
    "**Accuracy,Classification Error (Misclassification Rate) :**"
   ]
  },
  {
   "cell_type": "code",
   "execution_count": null,
   "metadata": {},
   "outputs": [],
   "source": [
    "accuracyPasting = metrics.accuracy_score(y_test, Pasting_Pred)#check the predictions with the real values\n",
    "\n",
    "print(\"The Accuracy of this model is:\",accuracyPasting)\n",
    "print(\"the Classification Error for this model is:\", 1 - accuracyPasting)\n",
    "#Add model's accuracy to Accuracies array\n",
    "Accuracies.append(accuracyPasting)"
   ]
  },
  {
   "cell_type": "markdown",
   "metadata": {},
   "source": [
    "## Model evaluation metrics for classification\n",
    "\n",
    "### Confusion Matrix"
   ]
  },
  {
   "cell_type": "code",
   "execution_count": null,
   "metadata": {},
   "outputs": [],
   "source": [
    "CM_PAS=confusion_matrix(y_test,Pasting_Pred)\n",
    "CM_PAS\n",
    "#Let's show Confusion Matrix as heat map:\n",
    "plt.figure(figsize=(10,10))#set size\n",
    "sns.heatmap(CM_BAG,cmap = \"BuPu\", annot=True, fmt = '.0f')\n",
    "plt.title ('Bagging Confusion Matrix')\n",
    "plt.show()"
   ]
  },
  {
   "cell_type": "markdown",
   "metadata": {},
   "source": [
    "### Classification Report"
   ]
  },
  {
   "cell_type": "code",
   "execution_count": null,
   "metadata": {},
   "outputs": [],
   "source": [
    "print (classification_report(y_test,Pasting_Pred))"
   ]
  },
  {
   "cell_type": "markdown",
   "metadata": {},
   "source": [
    "**Conclusion**<br>HHHHHHHHHHHHHHHHHHHHHHHHHHHHHHHHHHHHHHHHHHHHHHHHH\n"
   ]
  },
  {
   "cell_type": "markdown",
   "metadata": {},
   "source": [
    "# <b> Stacking  <b>\n",
    "Instead of using trivial functions (such as hard voting) to combine the predictions of all classifiers in an ensemble,<br>\n",
    "in Stacking we are training a model to perform this combination.<br>\n",
    "Actually we can say we have Stack of estimators with a final classifier (The final classifier to \"classify the classifiers\" is chosen to be Logistic Regression).<br>\n",
    "    \n",
    "## Explain about method's parameters<b>\n",
    "\n",
    "**estimators**- List of tuples. Invoking the fit method on the VotingClassifier will fit clones of those original estimators that will be stored in the class attribute self.estimators_.<br>\n",
    "    \n",
    "## Importing additional libraries\n"
   ]
  },
  {
   "cell_type": "code",
   "execution_count": null,
   "metadata": {},
   "outputs": [],
   "source": [
    "from sklearn.ensemble import StackingClassifier"
   ]
  },
  {
   "cell_type": "markdown",
   "metadata": {},
   "source": [
    "## Fit & PredictHHHHHHHHHHHHHHHHHHHHHHH drop the model with the lowest accuracy (see Fashion notebook"
   ]
  },
  {
   "cell_type": "code",
   "execution_count": null,
   "metadata": {},
   "outputs": [],
   "source": [
    "#Start measuring running time\n",
    "StartTimeStacking = time.time()\n",
    "\n",
    "# instantiate the model\n",
    "Stacking = StackingClassifier(estimators= [ ('rf', RForest),('logr', log_reg),('ab',ada_clf),('xb',XGBoost), ('knn', knn)])\n",
    "\n",
    "# fit the model with data\n",
    "Stacking.fit(X_train_Reduced, y_train)\n",
    "\n",
    "# make predictions on the testing set (predict for first_test)\n",
    "Stacking_Pred = Stacking.predict(X_test_Reduced)\n",
    "\n",
    "#Finish measuring running time\n",
    "EndTimeStacking = time.time()\n",
    "\n",
    "#Toal running time\n",
    "TotalTimeStacking = EndTimeStacking - StartTimeStacking\n"
   ]
  },
  {
   "cell_type": "markdown",
   "metadata": {},
   "source": [
    "**Accuracy,Classification Error (Misclassification Rate) :**"
   ]
  },
  {
   "cell_type": "code",
   "execution_count": null,
   "metadata": {},
   "outputs": [],
   "source": []
  },
  {
   "cell_type": "code",
   "execution_count": null,
   "metadata": {},
   "outputs": [],
   "source": []
  },
  {
   "cell_type": "markdown",
   "metadata": {},
   "source": [
    "## Model evaluation metrics for classification\n",
    "\n",
    "### Confusion Matrix"
   ]
  },
  {
   "cell_type": "code",
   "execution_count": null,
   "metadata": {},
   "outputs": [],
   "source": [
    "CM_ST=confusion_matrix(y_test,Stacking_Pred_)\n",
    "CM_ST\n",
    "#Let's show Confusion Matrix as heat map:\n",
    "plt.figure(figsize=(10,10))#set size\n",
    "sns.heatmap(CM_ST,cmap = \"BuPu\", annot=True, fmt = '.0f')\n",
    "plt.title ('Stacking Confusion Matrix')\n",
    "plt.show()"
   ]
  },
  {
   "cell_type": "markdown",
   "metadata": {},
   "source": [
    "### Classification Report\n"
   ]
  },
  {
   "cell_type": "code",
   "execution_count": null,
   "metadata": {},
   "outputs": [],
   "source": [
    "print (classification_report(y_test,Stacking_Pred_))"
   ]
  },
  {
   "cell_type": "markdown",
   "metadata": {},
   "source": [
    "**Conclusion**<br>HHHHHHHHHHHHH\n",
    "It can be concluded that Stacking Model predicted correctly 1771 cats, and wrongly predicted 835 cats as dogs,<br>\n",
    "and predicted correctly 1600 dogs, and wrongly predicted 1043 dogs as cats. \n"
   ]
  },
  {
   "cell_type": "markdown",
   "metadata": {},
   "source": [
    "# <b> Voting Classifier  <b>\n",
    "  \n",
    "Until now, I have trained a few classifiers, each one achieving about  99-100% accuracy.<br>\n",
    "Now, I will show Voting Classifier.<br>\n",
    "\n",
    "Voting classifier takes majority voting based on weights applied to the class or class probabilities and assigns a class label to a record based on majority vote.<br> \n",
    "In other words, Voting model aggregate the predictions of each classification model and predict the class that gets the most votes. <br>\n",
    "    \n",
    "There are two different voting schemes are common among voting classifiers:<br>\n",
    "1. **Hard voting (majority voting)**<br>\n",
    "Every individual classifier votes for a class, and the majority wins.<br>\n",
    "In statistical terms, the predicted target label of the ensemble is the mode of the distribution of individually predicted labels.\n",
    "2. **Soft voting**<br>\n",
    "Every individual classifier provides a probability value that a specific data point belongs to a particular target class.<br> The predictions are weighted by the classifier's importance and summed up.<br>\n",
    "Then the target label with the greatest sum of weighted probabilities wins the vote.<br>\n",
    "    \n",
    "    \n",
    "## Explain about method's parameters<b>\n",
    "\n",
    "**estimators**- List of tuples. Invoking the fit method on the VotingClassifier will fit clones of those original estimators that will be stored in the class attribute self.estimators_.<br>\n",
    "**voting**- Can be 'hard' or 'soft'. As I already explain before- If ‘hard’, uses predicted class labels for majority rule voting. Else if ‘soft’, predicts the class label based on the argmax of the sums of the predicted probabilities, which is recommended for an ensemble of well-calibrated classifiers.  <br>\n",
    "    \n",
    "## Importing additional libraries"
   ]
  },
  {
   "cell_type": "code",
   "execution_count": null,
   "metadata": {},
   "outputs": [],
   "source": [
    "from sklearn.ensemble import VotingClassifier\n",
    "import warnings"
   ]
  },
  {
   "cell_type": "code",
   "execution_count": null,
   "metadata": {},
   "outputs": [],
   "source": [
    "#Let's see again the df I have already created:\n",
    "data"
   ]
  },
  {
   "cell_type": "markdown",
   "metadata": {},
   "source": [
    "## Fit & Predict\n",
    "\n",
    "**Conclusion**HHHHHHHHHHHHHHHHHHHHHH\n",
    "As you can see in the next cell, the models I have chosed are:Random Forests,Ada Boost,XGBoost,Knn,Bagging, Stacking.<br>\n",
    "I do not chose Logistic Regression because It is the model with the lowest accuracy .\n"
   ]
  },
  {
   "cell_type": "code",
   "execution_count": null,
   "metadata": {},
   "outputs": [],
   "source": [
    "#Start measuring running time\n",
    "StartTimeVoting = time.time()\n",
    "\n",
    "# instantiate the model\n",
    "Voting = VotingClassifier(estimators=[ ('rf', RForest),('ab',ada_clf),('xb',XGBoost), ('knn', knn),('bagg',Bagging),('stack',Stacking),('past',Pasting)],voting='soft')\n",
    "\n",
    "# fit the model with data\n",
    "Voting.fit(X_train_Reduced, y_train)\n",
    "\n",
    "#make predictions on the testing set (predict for first_test)\n",
    "Voting_Pred = Voting.predict(X_test_Reduced)\n",
    "\n",
    "#Finish measuring running time\n",
    "EndTimeVoting = time.time()\n",
    "\n",
    "#Toal running time\n",
    "TotalTimeVoting = EndTimeVoting - StartTimeVoting\n",
    "\n",
    "#Add model's running time to RunningTimes array, and name to ModelName array \n",
    "RunningTimes.append(TotalTimeVoting)\n",
    "ModelName.append('Voting')"
   ]
  },
  {
   "cell_type": "markdown",
   "metadata": {},
   "source": [
    "**Accuracy,Classification Error (Misclassification Rate) :**"
   ]
  },
  {
   "cell_type": "code",
   "execution_count": null,
   "metadata": {},
   "outputs": [],
   "source": [
    "accuracyVoting = metrics.accuracy_score(y_test, Voting_Pred)#check the predictions with the real values\n",
    "\n",
    "print(\"The Accuracy of this model is:\",accuracyVoting)\n",
    "print(\"the Classification Error for this model is:\", 1 - accuracyVoting)\n",
    "#Add model's accuracy to Accuracies array\n",
    "Accuracies.append(accuracyVoting)"
   ]
  },
  {
   "cell_type": "markdown",
   "metadata": {},
   "source": [
    "## Model evaluation metrics for classification\n",
    "\n",
    "### Confusion Matrix"
   ]
  },
  {
   "cell_type": "code",
   "execution_count": null,
   "metadata": {},
   "outputs": [],
   "source": [
    "CM_VOT=confusion_matrix(y_test,Voting_Pred)\n",
    "CM_VOT\n",
    "#Let's show it as a heat map\n",
    "plt.figure(figsize=(10,10))#set size\n",
    "sns.heatmap(CM_VOT,cmap = \"BuPu\", annot=True, fmt = '.0f')\n",
    "plt.title ('Voting classifier Confusion Matrix')\n",
    "plt.show()"
   ]
  },
  {
   "cell_type": "markdown",
   "metadata": {},
   "source": [
    "### Classification Report"
   ]
  },
  {
   "cell_type": "code",
   "execution_count": null,
   "metadata": {},
   "outputs": [],
   "source": [
    "print (classification_report(y_test,Voting_Pred))"
   ]
  },
  {
   "cell_type": "markdown",
   "metadata": {},
   "source": [
    "**Conclusion**<br>HHHHHHHHHHHHHHHHHHHHH\n",
    "It can be concluded that Voting Model predicted correctly 1795 cats, and wrongly predicted 811 cats as dogs,<br>\n",
    "and predicted correctly 1627 dogs, and wrongly predicted 1016 dogs as cats. \n"
   ]
  },
  {
   "cell_type": "code",
   "execution_count": null,
   "metadata": {},
   "outputs": [],
   "source": [
    "## <b>Choosing Dummy Classifier</b><br>\n",
    "In our class we learned about 4 different kinds of dummy classifiers-<br>\n",
    "1. most_frequent-**always** predicts the most frequent label in the training set.<br>\n",
    "2. stratified-generates predictions by respecting the **training set’s class distribution**.<br>\n",
    "3. uniform-generates predictions uniformly at **random**.<br>\n",
    "4. constant-always predicts a label that **we provide him**.<br>\n",
    "**How will we going to choose the right dummy classifier?**<br>\n",
    "We will check the accuracy of each dummy classifier and choose the most accurate one.<br>\n"
   ]
  },
  {
   "cell_type": "code",
   "execution_count": null,
   "metadata": {},
   "outputs": [],
   "source": [
    "#most_frequent dummy classifier:\n",
    "from sklearn.dummy import DummyClassifier\n",
    "\n",
    "#Start measuring running time\n",
    "StartTimeDummyMF = time.time()\n",
    "\n",
    "dcM=DummyClassifier(strategy=\"most_frequent\",random_state=42)\n",
    "dcM.fit(X_train_Reduced, y_train)\n",
    "PredictionsM=dcM.predict(X_test_Reduced)\n",
    "\n",
    "#Finish measuring running time\n",
    "EndTimeDummyMF = time.time()\n",
    "\n",
    "#Total running time\n",
    "TotalTimeDummyMF= EndTimeDummyMF - StartTimeDummyMF\n",
    "\n",
    "most_frequentAccu=metrics.accuracy_score(y_test,PredictionsM)\n",
    "print(\"The accuracy of the most_frequent dummy classifier prediction is:\",most_frequentAccu)\n"
   ]
  },
  {
   "cell_type": "code",
   "execution_count": null,
   "metadata": {},
   "outputs": [],
   "source": [
    "#stratified dummy classifier:\n",
    "\n",
    "#Start measuring running time\n",
    "StartTimeDummySt = time.time()\n",
    "\n",
    "dcS=DummyClassifier(strategy=\"stratified\",random_state=42)\n",
    "dcS.fit(X_train_Reduced, y_train)\n",
    "PredictionsS=dcS.predict(X_test_Reduced)\n",
    "\n",
    "#Finish measuring running time\n",
    "EndTimeDummySt = time.time()\n",
    "\n",
    "#Total running time\n",
    "TotalTimeDummySt= EndTimeDummySt - StartTimeDummySt\n",
    "\n",
    "stratifiedAccu=metrics.accuracy_score(y_test,PredictionsS)\n",
    "print(\"The accuracy of the stratified dummy classifier prediction is:\",stratifiedAccu)\n",
    "\n"
   ]
  },
  {
   "cell_type": "code",
   "execution_count": null,
   "metadata": {},
   "outputs": [],
   "source": [
    "#uniform dummy classifier:\n",
    "\n",
    "#Start measuring running time\n",
    "StartTimeDummyUni = time.time()\n",
    "\n",
    "dcU=DummyClassifier(strategy=\"uniform\",random_state=42)\n",
    "dcU.fit(X_train_Reduced, y_train)\n",
    "PredictionsU=dcU.predict(X_test_Reduced)\n",
    "\n",
    "#Finish measuring running time\n",
    "EndTimeDummyUni = time.time()\n",
    "\n",
    "#Total running time\n",
    "TotalTimeDummyUni= EndTimeDummyUni - StartTimeDummyUni\n",
    "\n",
    "uniformAccu=metrics.accuracy_score(y_test,PredictionsU)\n",
    "print(\"The accuracy of the uniform dummy classifier prediction is:\",uniformAccu)\n"
   ]
  },
  {
   "cell_type": "code",
   "execution_count": null,
   "metadata": {},
   "outputs": [],
   "source": [
    "#constant dummy classifier:HHHHHHHHHHHHHHHHHHHHHHHHHHHHHH \n",
    "\n",
    "#Start measuring running time\n",
    "StartTimeDummyCon = time.time()\n",
    "\n",
    "dcC=DummyClassifier(strategy=\"constant\",random_state=42, constant=1)#HHHHHHHHHHHH why 1? because we saw that most of the password have this strenght value\n",
    "dcC.fit(X_train_Reduced, y_train)\n",
    "PredictionsC=dcC.predict(X_test_Reduced)\n",
    "\n",
    "#Finish measuring running time\n",
    "EndTimeDummyCon = time.time()\n",
    "\n",
    "#Total running time\n",
    "TotalTimeDummyCon= EndTimeDummyCon - StartTimeDummyCon\n",
    "\n",
    "constantAccu=metrics.accuracy_score(y_test,PredictionsC)\n",
    "print(\"The accuracy of the constant dummy classifier prediction is:\",constantAccu)\n"
   ]
  },
  {
   "cell_type": "code",
   "execution_count": null,
   "metadata": {},
   "outputs": [],
   "source": [
    "#Create array of all accuracies:\n",
    "DummyAccu=[most_frequentAccu,stratifiedAccu,uniformAccu,constantAccu]\n",
    "DummyRuntime=[TotalTimeDummyMF,TotalTimeDummySt,TotalTimeDummyUni,TotalTimeDummyCon]\n",
    "ModelNameDummy=['most_frequent','stratified','uniform','constant']\n",
    "\n",
    "#find the max&min values from RunningTimes array\n",
    "max_RunTime = np.max(DummyRuntime)\n",
    "min_RunTime = np.min(DummyRuntime)\n",
    "\n",
    "#find the index of max&min values\n",
    "index_maxRunTime=DummyRuntime.index(max_RunTime)\n",
    "index_minRunTime=DummyRuntime.index(min_RunTime)\n",
    "\n",
    "print(\"The model with the longest runtime is\",ModelNameDummy[index_maxRunTime], \"with running time of:\",max_RunTime  )\n",
    "print(\"The model with the shortest runtime is\",ModelNameDummy[index_minRunTime], \"with running time of:\",min_RunTime  )\n",
    "\n",
    "\n",
    "#find the max&min values from RunningTimes array\n",
    "max_Accuracy = np.max(DummyAccu)\n",
    "min_Accuracy = np.min(DummyAccu)\n",
    "\n",
    "#find the index of max&min values\n",
    "index_maxAccuracy=DummyAccu.index(max_Accuracy)\n",
    "index_minAccuracy=DummyAccu.index(min_Accuracy)\n",
    "\n",
    "print(\"The model with the best accuracy is\",ModelNameDummy[index_maxAccuracy], \"with accuracy of:\",max_Accuracy  )\n",
    "print(\"The model with the worst accuracy is\",ModelNameDummy[index_minAccuracy], \"with accuracy of:\",min_Accuracy  )"
   ]
  },
  {
   "cell_type": "markdown",
   "metadata": {},
   "source": [
    "## Plot Dummies Models Accuracy&RunTime"
   ]
  },
  {
   "cell_type": "code",
   "execution_count": null,
   "metadata": {},
   "outputs": [],
   "source": [
    "# Create bars\n",
    "barWidth = 0.9 #Width of each bar\n",
    "\n",
    "bars1=[TotalTimeDummyMF,TotalTimeDummySt,TotalTimeDummyUni,TotalTimeDummyCon] # X values of purple bars, represent the running time\n",
    "bars2=[most_frequentAccu,stratifiedAccu,uniformAccu,constantAccu]#Y values of green bars, represent the accuracies\n",
    " \n",
    "# The X position of bars\n",
    "r1=[1,4,7,10]\n",
    "r2=[2,5,8,11]\n",
    " \n",
    "# Create barplot\n",
    "plt.bar(r1, bars1, width = barWidth, color = (0.3,0.1,0.4,0.6), label='RunTime')\n",
    "plt.bar(r2, bars2, width = barWidth, color = (0.3,0.5,0.4,0.6), label='Accuracy')\n",
    "\n",
    "# Note: the barplot could be created easily. See the barplot section for other examples.\n",
    " \n",
    "# Create legend\n",
    "plt.legend()\n",
    " \n",
    "# Text below each barplot with a rotation at 90°\n",
    "plt.xticks([r + barWidth for r in range(12)], ['most_frequent RunTime', 'most_frequent Accuracy', ' ', 'Stratified RunTime', 'Stratified Accuracy', ' ', 'Uniform RunTime', 'Uniform Accuracy', ' ', 'Constant RunTime', 'Constant Accuracy', ' '], rotation=90)\n",
    "\n",
    "# Adjust the margins\n",
    "plt.subplots_adjust(bottom= 0.1, top = 0.98)\n",
    "\n",
    "# Show graphic\n",
    "plt.show()"
   ]
  },
  {
   "cell_type": "markdown",
   "metadata": {},
   "source": [
    "**Conclusion**<br>HHHHHHHHHHHHHHHHHHH\n",
    "As It is possible to see, and also as I have already computed, the best Dummy model- both in terms of runtime and in terms of accuracy is: Uniform model.|<br>\n",
    "Therefore it will be the chosen model, and my final accuracy should be higher than this model accuracy.<br>\n",
    "Let's add Uniform Dummy Classifier to the arrays of accuracy and runtime:\n"
   ]
  },
  {
   "cell_type": "code",
   "execution_count": null,
   "metadata": {},
   "outputs": [],
   "source": [
    "#Add model's accuracy to Accuracies array##########HHHHHHHHHHHH\n",
    "Accuracies.append(uniformAccu)\n",
    "#Add model's running time to RunningTimes array, and name to ModelName array \n",
    "RunningTimes.append(TotalTimeDummyUni)\n",
    "ModelName.append('Uniform Dummy')"
   ]
  },
  {
   "cell_type": "code",
   "execution_count": null,
   "metadata": {},
   "outputs": [],
   "source": [
    "#Let's add to our df new 4 rows for -Bagging,Stacking,Voting and Dummy models \n",
    "\n",
    "#define df again with all models:\n",
    "data = pd.DataFrame({'Model': ModelName, 'Accuracies': list(Accuracies), 'RunTime':list(RunningTimes)}, columns=['Model', 'Accuracies', 'RunTime'])\n",
    "data"
   ]
  },
  {
   "cell_type": "markdown",
   "metadata": {},
   "source": [
    "Now, after I trained all the models I will compare their ROC curves.\n",
    "\n",
    "## <b>ROC curves and AUC ROC </b><br>HHHHHHHHHHHHHHHHHHHHHHHHHH\n"
   ]
  },
  {
   "cell_type": "code",
   "execution_count": null,
   "metadata": {},
   "outputs": [],
   "source": []
  },
  {
   "cell_type": "markdown",
   "metadata": {},
   "source": [
    "# <b> Finding The Best RunTime   <b>\n",
    "    \n",
    "I will use both array that I initialize above to find the Max&Min run time of all models: "
   ]
  },
  {
   "cell_type": "code",
   "execution_count": null,
   "metadata": {},
   "outputs": [],
   "source": [
    "#Conclusion from the df I created\n",
    "column = data[\"RunTime\"]\n",
    "min_RT = column.min()\n",
    "\n",
    "min_RT_Name=data.loc[data.RunTime == min_RT, 'Model'].values[0]\n",
    "\n",
    "print(\"The model with shortest runtime is:\",min_RT_Name ,\"with accuracy of:\" ,min_RT)"
   ]
  },
  {
   "cell_type": "code",
   "execution_count": null,
   "metadata": {},
   "outputs": [],
   "source": [
    "#Conclusion from the arrays I created\n",
    "#find the max&min values from RunningTimes array\n",
    "max_RunTime = np.max(RunningTimes)\n",
    "min_RunTime = np.min(RunningTimes)\n",
    "\n",
    "#find the index of max&min values\n",
    "index_maxRunTime=RunningTimes.index(max_RunTime)\n",
    "index_minRunTime=RunningTimes.index(min_RunTime)\n",
    "\n",
    "print(\"The model with the highest runtime is\",ModelName[index_maxRunTime], \"with running time of:\",max_RunTime,\"and accuracy of:\",Accuracies[index_maxRunTime] )\n",
    "print(\"The model with the lowest runtime is\",ModelName[index_minRunTime], \"with running time of:\",min_RunTime,\"and accuracy of:\",Accuracies[index_minRunTime]  )"
   ]
  },
  {
   "cell_type": "markdown",
   "metadata": {},
   "source": [
    "## RunTime Visualization"
   ]
  },
  {
   "cell_type": "code",
   "execution_count": null,
   "metadata": {},
   "outputs": [],
   "source": [
    "figure=plt.figure()\n",
    "\n",
    "axes=figure.add_axes([0,0,1,1])#determine the size of the figure- (0,0) is the lower left point of the new axes in figure coodinates,1 It is width and 1 height \n",
    "axes.bar(ModelName,RunningTimes)\n",
    "plt.title('RunTimes Of The Models')\n",
    "plt.xlabel('Model')\n",
    "plt.ylabel('RunTime [sec]')\n",
    "plt.xticks(rotation=90)\n",
    "plt.show()"
   ]
  },
  {
   "cell_type": "markdown",
   "metadata": {},
   "source": [
    "# Finding The Best Accuracy\n",
    "    \n",
    "I will use both array that I initialize above to find the Max&Min run time of all models: "
   ]
  },
  {
   "cell_type": "code",
   "execution_count": null,
   "metadata": {},
   "outputs": [],
   "source": [
    "#Conclusion from the df I created\n",
    "column = data[\"Accuracies\"]\n",
    "max_Acu = column.max()\n",
    "\n",
    "max_Acu_Name=data.loc[data.Accuracies == max_Acu, 'Model'].values[0]\n",
    "\n",
    "print(\"The model with best accuracy is:\",max_Acu_Name ,\", with accuracy of:\" ,max_Acu)"
   ]
  },
  {
   "cell_type": "markdown",
   "metadata": {},
   "source": [
    "## Accuracy Visualization \n"
   ]
  },
  {
   "cell_type": "code",
   "execution_count": null,
   "metadata": {},
   "outputs": [],
   "source": [
    "figure=plt.figure()\n",
    "\n",
    "axes=figure.add_axes([0,0,1,1])#determine the size of the figure- (0,0) is the lower left point of the new axes in figure coodinates,1 It is width and 1 height \n",
    "axes.bar(ModelName,Accuracies)\n",
    "plt.title('Accuracies Of The Models')\n",
    "plt.xlabel('Model')\n",
    "plt.ylabel('Accuracy')\n",
    "plt.xticks(rotation=90)\n",
    "plt.show()"
   ]
  },
  {
   "cell_type": "markdown",
   "metadata": {},
   "source": [
    "# Conclusion about the best modelHHHHHHHHHHHHHHHHHHHH\n",
    "\n",
    "As we learned- the definition for 'Best Model' depends on a few things:<br>\n",
    "1.Accuracy<br>\n",
    "2.Runtime<br>\n",
    "These two conditions depends on costumer request-<br>\n",
    "If the costumer requires a model with higher accuracy- than I will use Voting Classifier model<br>\n",
    "If the costumer requires a model with the fastest runtime- than I will use Random Forests or KNN models. I will not choose Logistic Regression because althoght it has the fastest runtime (after dummy)- It accuracy is very low. <br>\n",
    "In my notebook, I will choose the best model as the most accurate model-means Voting.\n",
    "\n"
   ]
  },
  {
   "cell_type": "code",
   "execution_count": null,
   "metadata": {},
   "outputs": [],
   "source": []
  },
  {
   "cell_type": "code",
   "execution_count": null,
   "metadata": {},
   "outputs": [],
   "source": []
  },
  {
   "cell_type": "code",
   "execution_count": null,
   "metadata": {},
   "outputs": [],
   "source": []
  },
  {
   "cell_type": "code",
   "execution_count": null,
   "metadata": {},
   "outputs": [],
   "source": [
    "print(i)\\"
   ]
  },
  {
   "cell_type": "markdown",
   "metadata": {},
   "source": [
    "**Finish here**"
   ]
  },
  {
   "cell_type": "markdown",
   "metadata": {},
   "source": [
    "# Columns I can drop+CorralationsHHHHHHHHHHHHHHHHHHHHHHHHHHHHHHHHHHHHH+Unite by time- how many second will be together?30 sec unite?"
   ]
  },
  {
   "cell_type": "code",
   "execution_count": null,
   "metadata": {},
   "outputs": [],
   "source": [
    "#dfGeneral[\"beer_name\"].value_counts() #to see how many kinds of beers there are in the df (56856)"
   ]
  },
  {
   "cell_type": "code",
   "execution_count": null,
   "metadata": {},
   "outputs": [],
   "source": []
  },
  {
   "cell_type": "markdown",
   "metadata": {},
   "source": [
    "#function to combine 2 consecutive rows\n",
    "start_timeCombine = time.time()\n",
    "\n",
    "liR = [\"{}{}\".format(ind,'Right') for ind in totalList[0].columns] #appending \"right\" to the end of each column name\n",
    "liL = [\"{}{}\".format(ind,'Left') for ind in totalList[0].columns]\n",
    "LiTotal = liR + liL\n",
    "\n",
    "for j in range(len(totalList)): #Iterating over every dataframe in the list\n",
    "    flattenedDf = pd.DataFrame(columns = LiTotal) #empty df\n",
    "    totalList[j] = totalList[j].reset_index() #resetting index of the totalList[j] for merging\n",
    "    totalList[j] = totalList[j].drop(['index'], axis = 1)\n",
    "    \n",
    "    for i in range(0, len(totalList[j]), 2): #Iterating over every record in the dataframe with jumps of 2 (due to\n",
    "        #every iteration using 2 consecutive rows for merging)\n",
    "        if (totalList[j].loc[i]['HandType'] == 'right'):\n",
    "            right = i\n",
    "            left = i+1\n",
    "        else:\n",
    "            left = i\n",
    "            right = i+1\n",
    "    \n",
    "        rightList = totalList[j].loc[right]\n",
    "        rightList.index = liR\n",
    "        \n",
    "        leftList = totalList[j].loc[left]\n",
    "        leftList.index = liL\n",
    "    \n",
    "        completeRecord = pd.concat([rightList, leftList])\n",
    "        flattenedDf = flattenedDf.append(completeRecord, ignore_index = True)\n",
    "    totalList[j] = flattenedDf"
   ]
  },
  {
   "cell_type": "code",
   "execution_count": null,
   "metadata": {},
   "outputs": [],
   "source": []
  },
  {
   "cell_type": "code",
   "execution_count": null,
   "metadata": {},
   "outputs": [],
   "source": []
  },
  {
   "cell_type": "code",
   "execution_count": null,
   "metadata": {},
   "outputs": [],
   "source": []
  },
  {
   "cell_type": "code",
   "execution_count": null,
   "metadata": {},
   "outputs": [],
   "source": []
  },
  {
   "cell_type": "code",
   "execution_count": null,
   "metadata": {},
   "outputs": [],
   "source": []
  },
  {
   "cell_type": "markdown",
   "metadata": {},
   "source": [
    "dfAlone.loc[[0]]"
   ]
  },
  {
   "cell_type": "markdown",
   "metadata": {},
   "source": [
    "df = pd.DataFrame(columns=list('AB'))\n",
    "df"
   ]
  },
  {
   "cell_type": "markdown",
   "metadata": {},
   "source": [
    "df2 = pd.DataFrame([[5, 6], [7, 8]], columns=list('AB'), index=['x', 'y'])\n",
    "df3=df2.loc[['x']]\n",
    "df3"
   ]
  },
  {
   "cell_type": "markdown",
   "metadata": {},
   "source": [
    "\n",
    "df.append(df3)\n",
    "df"
   ]
  },
  {
   "cell_type": "markdown",
   "metadata": {},
   "source": [
    "df = pd.DataFrame([[1, 2], [3, 4]], columns=list('AB'), index=['x', 'y'])\n",
    "df2 = pd.DataFrame([[5, 6], [7, 8]], columns=list('AB'), index=['x', 'y'])\n",
    "df=df.append(df2)\n",
    "df"
   ]
  },
  {
   "cell_type": "code",
   "execution_count": null,
   "metadata": {},
   "outputs": [],
   "source": []
  },
  {
   "cell_type": "code",
   "execution_count": null,
   "metadata": {},
   "outputs": [],
   "source": []
  },
  {
   "cell_type": "code",
   "execution_count": null,
   "metadata": {},
   "outputs": [],
   "source": []
  },
  {
   "cell_type": "code",
   "execution_count": null,
   "metadata": {},
   "outputs": [],
   "source": []
  },
  {
   "cell_type": "markdown",
   "metadata": {},
   "source": [
    "dfAloneAndRight.loc[[0]]=dfAlone.loc[[0]]\n",
    "\n",
    "dfAloneAndRight"
   ]
  },
  {
   "cell_type": "markdown",
   "metadata": {},
   "source": [
    "dfAloneAndRight.loc[[2]]"
   ]
  },
  {
   "cell_type": "markdown",
   "metadata": {},
   "source": [
    "dfAlone.loc[[1]]"
   ]
  },
  {
   "cell_type": "markdown",
   "metadata": {},
   "source": [
    "dfAloneAndRight.iloc[1]=dfAlone.iloc[1]\n",
    "dfAloneAndRight.iloc[2]=dfAlone.iloc[1]\n",
    "dfAloneAndRight"
   ]
  },
  {
   "cell_type": "markdown",
   "metadata": {},
   "source": [
    "i=0\n",
    "while i<5:\n",
    "    dfAloneAndRight.loc[[2*i]]=dfAlone.loc[[i]]\n",
    "    i += 1\n",
    "    "
   ]
  },
  {
   "cell_type": "markdown",
   "metadata": {},
   "source": [
    "dfAloneAndRight"
   ]
  },
  {
   "cell_type": "markdown",
   "metadata": {},
   "source": [
    "i=0\n",
    "#res = pd.DataFrame(columns=('lib', 'qty1', 'qty2'))\n",
    "#dfAloneAndRight= pd.DataFrame(columns=('Time', ' Frame ID','Hand Type',' # hands', 'Position X', 'Position Y', 'Position Z', 'Velocity X',\n",
    "#             'Velocity Y', 'Velocity Z','Pitch','Roll','Yaw', 'Wrist Pos X', 'Wrist Pos Y', 'Wrist Pos Z', 'Elbow pos X',\n",
    "#             'Elbow Pos Y','Elbow Pos Z','Grab Strenth', 'Grab Angle', 'Pinch Strength'))\n",
    "while i<5:#62398:\n",
    "\n",
    "    #lineLeft=dfAlone.iloc[[i]]\n",
    "    #lineRight=HandRight.iloc[[i]]\n",
    "    #print(lineLeft)\n",
    "    #print(lineRight)\n",
    "    print(i)\n",
    "    #dfAloneAndRight.iloc[[i]]=dfAlone.iloc[[i]]\n",
    "    #dfAloneAndRight.iloc[[i]]=HandRight.iloc[[i]]\n",
    "    #dfAloneAndRight.append(lineLeft.loc[i])\n",
    "    j=(2*i)\n",
    "    j=i\n",
    "    f=((2*i)+1)\n",
    "    print(j)\n",
    "    print(f)\n",
    "    \n",
    "    \n",
    "    dfAloneAndRight.iloc[[j]]=dfAlone.iloc[[i]]\n",
    "    print(\"dfAlone.iloc[[i]]=\")\n",
    "    print(dfAlone.iloc[[i]])\n",
    "    print(\"dfAloneAndRight.iloc[[j]]=\")\n",
    "    print(dfAloneAndRight.iloc[[j]])\n",
    "    #dfAloneAndRight.iloc[[f]]=HandRight.iloc[[i]]\n",
    "    #dfAloneAndRight.iloc[[j]]=dfAlone.iloc[[i]]\n",
    "    #dfAloneAndRight.iloc[[f]]=HandRight.iloc[[i]]\n",
    "    \n",
    "    #dfAloneAndRight.iloc[[(i)]]=dfAlone.loc[[i]]\n",
    "    \n",
    "    #dfAloneAndRight.iloc[[2*i]]=lineLeft\n",
    "    #dfAloneAndRight.iloc[[2*i+1]]=lineRight\n",
    "    \n",
    "    i=i+1\n",
    "    #print(dfAloneAndRight)\n",
    "\n"
   ]
  },
  {
   "cell_type": "code",
   "execution_count": null,
   "metadata": {},
   "outputs": [],
   "source": []
  },
  {
   "cell_type": "code",
   "execution_count": null,
   "metadata": {},
   "outputs": [],
   "source": [
    "# Turnj each frame of 2 rows- Left hand and Right hand into one row:"
   ]
  },
  {
   "cell_type": "code",
   "execution_count": null,
   "metadata": {},
   "outputs": [],
   "source": [
    "HandRight.loc[[31197]]"
   ]
  },
  {
   "cell_type": "code",
   "execution_count": null,
   "metadata": {},
   "outputs": [],
   "source": []
  },
  {
   "cell_type": "code",
   "execution_count": null,
   "metadata": {},
   "outputs": [],
   "source": []
  },
  {
   "cell_type": "markdown",
   "metadata": {},
   "source": [
    "while len(dfHandRight)<len(dfAlone)\n",
    "{\n",
    "    \n",
    "    RandomRows = HandRight.sample(n=7,replace=True)\n",
    "    #and merge it with the HandRight df that already exist\n",
    "\n",
    "    framesHandToAdd=[HandRight,RandomRows]\n",
    "\n",
    "    NewRightHand = pd.concat(framesHandToAdd)\n",
    "    HandRight=dfHandRight1.reset_index()\n",
    "    HandRight.drop(['index'],axis='columns', inplace=True)\n",
    "}"
   ]
  },
  {
   "cell_type": "code",
   "execution_count": null,
   "metadata": {},
   "outputs": [],
   "source": []
  },
  {
   "cell_type": "code",
   "execution_count": null,
   "metadata": {},
   "outputs": [],
   "source": []
  }
 ],
 "metadata": {
  "kernelspec": {
   "display_name": "Python 3",
   "language": "python",
   "name": "python3"
  },
  "language_info": {
   "codemirror_mode": {
    "name": "ipython",
    "version": 3
   },
   "file_extension": ".py",
   "mimetype": "text/x-python",
   "name": "python",
   "nbconvert_exporter": "python",
   "pygments_lexer": "ipython3",
   "version": "3.8.3"
  }
 },
 "nbformat": 4,
 "nbformat_minor": 4
}
