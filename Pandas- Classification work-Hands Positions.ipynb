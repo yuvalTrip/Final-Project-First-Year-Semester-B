{
 "cells": [
  {
   "cell_type": "markdown",
   "metadata": {},
   "source": [
    "# Classification work in the course-Data imaging"
   ]
  },
  {
   "cell_type": "markdown",
   "metadata": {},
   "source": [
    "# Intro"
   ]
  },
  {
   "cell_type": "markdown",
   "metadata": {},
   "source": [
    "In this dataset we have data of hands’ postures collected by system called Leap-Motion.\n",
    "During the experiment there are two people are sitting in front of each other, both people were told to do the following: \n",
    "1. Move their hands one next to another spontaneously.\n",
    "2. move their hands in an attempt to be in sync.\n",
    "\n",
    "There are 3 modes to the experiment:<br>\n",
    "**1.** **'Alone' mode**-  Each participant, in her turn, is asked to move his hand freely over the Leap-Motion controller.  <br>\n",
    "**2.** **'Autonomous' mode**- Same as the 'Alone' mode, but now the two participants can see each others movement during the experiment.  <br>\n",
    "**3.** **'Synchronization' mode**- The two participants are asked to moved in synchronization. They are invited\n",
    "to interpret synchronization as they understand.<br>\n",
    "\n",
    "In this notebook, I will take the data and organize it with pandas, and try to build an optimal model that given the hands’ postures I can understand in what mode the experiment was.\n",
    "\n",
    "01:39 מה הטענה שעומדת מאחורי זה\n",
    "\n"
   ]
  },
  {
   "cell_type": "markdown",
   "metadata": {},
   "source": [
    "# <b>Loading libraries</b>\n"
   ]
  },
  {
   "cell_type": "code",
   "execution_count": 1,
   "metadata": {},
   "outputs": [],
   "source": [
    "import matplotlib.pyplot as plt\n",
    "import numpy as np\n",
    "import pandas as pd\n",
    "from matplotlib.image import imread\n",
    "import seaborn as sns\n",
    "from sklearn.model_selection import train_test_split #to perform the splitting\n"
   ]
  },
  {
   "cell_type": "markdown",
   "metadata": {},
   "source": [
    "# <b>Loading dataset</b>"
   ]
  },
  {
   "cell_type": "code",
   "execution_count": null,
   "metadata": {},
   "outputs": [],
   "source": [
    "Evyatar_spontan = pd.read_csv(r\"C:\\Users\\yuval\\Hand Positions\\extraFiles\\Training\\Evyatar Cohen\\Evyatar636771050011691836Spontan.csv\")\n",
    "Evyatar_spontan = pd.read_csv(r\"C:\\Users\\yuval\\Hand Positions\\extraFiles\\Training\\Evyatar Cohen\\Evyatar636771052727603804Spontan.csv\")\n",
    "Evyatar_sync = pd.read_csv(r\"C:\\Users\\yuval\\Hand Positions\\extraFiles\\Training\\Evyatar Cohen\\Evyatar636771050902934708Sync.csv\")\n",
    "Evyatar_sync = pd.read_csv(r\"C:\\Users\\yuval\\Hand Positions\\extraFiles\\Training\\Evyatar Cohen\\Evyatar636771053639929594Sync.csv\")\n",
    "Evyatar_alone = pd.read_csv(r\"C:\\Users\\yuval\\Hand Positions\\extraFiles\\Training\\Evyatar Cohen\\Evyatar636771051823980826Alone.csv\")\n",
    "Evyatar_alone = pd.read_csv(r\"C:\\Users\\yuval\\Hand Positions\\extraFiles\\Training\\Evyatar Cohen\\Evyatar636771054555711409Alone.csv\")\n",
    "\n",
    "Nofar_spontan = pd.read_csv(r\"C:\\Users\\yuval\\Hand Positions\\extraFiles\\Training\\Nofar Social_Nuero\\Nofar636759792183061005Spontan.csv\")\n",
    "Nofar_spontan = pd.read_csv(r\"C:\\Users\\yuval\\Hand Positions\\extraFiles\\Training\\Nofar Social_Nuero\\Nofar636759795182793299Spontan.csv\")\n",
    "Nofar_sync = pd.read_csv(r\"C:\\Users\\yuval\\Hand Positions\\extraFiles\\Training\\Nofar Social_Nuero\\Nofar636759794200223541Sync.csv\")\n",
    "Nofar_sync = pd.read_csv(r\"C:\\Users\\yuval\\Hand Positions\\extraFiles\\Training\\Nofar Social_Nuero\\Nofar636759797397919664Sync.csv\")\n",
    "Nofar_alone = pd.read_csv(r\"C:\\Users\\yuval\\Hand Positions\\extraFiles\\Training\\Nofar Social_Nuero\\Nofar636759793193137655Alone.csv\")\n",
    "Nofar_alone = pd.read_csv(r\"C:\\Users\\yuval\\Hand Positions\\extraFiles\\Training\\Nofar Social_Nuero\\Nofar636759796290435160Alone.csv\")\n",
    "\n",
    "Oriya_spontan = pd.read_csv(r\"C:\\Users\\yuval\\Hand Positions\\extraFiles\\Training\\Oriya Social_Nuero\\Oriya636759799659227614Spontan.csv\")\n",
    "Oriya_spontan = pd.read_csv(r\"C:\\Users\\yuval\\Hand Positions\\extraFiles\\Training\\Oriya Social_Nuero\\Oriya636759804404113837Spontan.csv\")\n",
    "Oriya_sync = pd.read_csv(r\"C:\\Users\\yuval\\Hand Positions\\extraFiles\\Training\\Oriya Social_Nuero\\Oriya636759803164759865Sync.csv\")\n",
    "Oriya_sync = pd.read_csv(r\"C:\\Users\\yuval\\Hand Positions\\extraFiles\\Training\\Oriya Social_Nuero\\Oriya636759806131350399Sync.csv\")\n",
    "Oriya_alone = pd.read_csv(r\"C:\\Users\\yuval\\Hand Positions\\extraFiles\\Training\\Oriya Social_Nuero\\Oriya636759800632839612Alone.csv\")\n",
    "Oriya_alone = pd.read_csv(r\"C:\\Users\\yuval\\Hand Positions\\extraFiles\\Training\\Oriya Social_Nuero\\Oriya636759805268396661Alone.csv\")\n",
    "\n",
    "Orya_spontan = pd.read_csv(r\"C:\\Users\\yuval\\Hand Positions\\extraFiles\\Training\\Orya Kalmanovitz\\OryaB636771080972009775Spontan.csv\")\n",
    "Orya_spontan = pd.read_csv(r\"C:\\Users\\yuval\\Hand Positions\\extraFiles\\Training\\Orya Kalmanovitz\\OryaB636771083605535985Spontan.csv\")\n",
    "Orya_sync = pd.read_csv(r\"C:\\Users\\yuval\\Hand Positions\\extraFiles\\Training\\Orya Kalmanovitz\\OryaB636771084494502229Sync.csv\")\n",
    "Orya_sync = pd.read_csv(r\"C:\\Users\\yuval\\Hand Positions\\extraFiles\\Training\\Orya Kalmanovitz\\OryaB636771081904052624Sync.csv\")\n",
    "Orya_alone = pd.read_csv(r\"C:\\Users\\yuval\\Hand Positions\\extraFiles\\Training\\Orya Kalmanovitz\\OryaB636771082736601528Alone.csv\")\n",
    "\n",
    "Revital_spontan = pd.read_csv(r\"C:\\Users\\yuval\\Hand Positions\\extraFiles\\Training\\Revital Marbel\\Revital636770953887274261Spontan.csv\")\n",
    "Revital_spontan = pd.read_csv(r\"C:\\Users\\yuval\\Hand Positions\\extraFiles\\Training\\Revital Marbel\\Revital636770957038873193Spontan.csv\")\n",
    "Revital_sync = pd.read_csv(r\"C:\\Users\\yuval\\Hand Positions\\extraFiles\\Training\\Revital Marbel\\Revital636770954952844556Sync.csv\")\n",
    "Revital_sync = pd.read_csv(r\"C:\\Users\\yuval\\Hand Positions\\extraFiles\\Training\\Revital Marbel\\Revital636770957894370062Sync.csv\")\n",
    "Revital_alone = pd.read_csv(r\"C:\\Users\\yuval\\Hand Positions\\extraFiles\\Training\\Revital Marbel\\Revital636770955999435879Alone.csv\")\n",
    "\n",
    "Revital_spontan = pd.read_csv(r\"C:\\Users\\yuval\\Hand Positions\\extraFiles\\Training\\Shahar Terner\\Sachar636771045591258071Spontan.csv\")\n",
    "Revital_sync = pd.read_csv(r\"C:\\Users\\yuval\\Hand Positions\\extraFiles\\Training\\Shahar Terner\\Sachar636771046527112972Sync.csv\")\n",
    "Revital_alone = pd.read_csv(r\"C:\\Users\\yuval\\Hand Positions\\extraFiles\\Training\\Shahar Terner\\Sachar636771047408504303Alone.csv\")\n",
    "\n",
    "Shelly_spontan = pd.read_csv(r\"C:\\Users\\yuval\\Hand Positions\\extraFiles\\Training\\Shelly Social_Nuero\\Shelly636759784020992272Spontan.csv\")\n",
    "Shelly_spontan = pd.read_csv(r\"C:\\Users\\yuval\\Hand Positions\\extraFiles\\Training\\Shelly Social_Nuero\\Shelly636759787508979097Spontan.csv\")\n",
    "Shelly_sync = pd.read_csv(r\"C:\\Users\\yuval\\Hand Positions\\extraFiles\\Training\\Shelly Social_Nuero\\Shelly636759786470414550Sync.csv\")\n",
    "Shelly_sync = pd.read_csv(r\"C:\\Users\\yuval\\Hand Positions\\extraFiles\\Training\\Shelly Social_Nuero\\Shelly636759789526313406Sync.csv\")\n",
    "Shelly_alone = pd.read_csv(r\"C:\\Users\\yuval\\Hand Positions\\extraFiles\\Training\\Shelly Social_Nuero\\Shelly636759785254377607Alone.csv\")\n",
    "Shelly_alone = pd.read_csv(r\"C:\\Users\\yuval\\Hand Positions\\extraFiles\\Training\\Shelly Social_Nuero\\Shelly636759788383205274Alone.csv\")\n",
    "\n",
    "Yael_spontan = pd.read_csv(r\"C:\\Users\\yuval\\Hand Positions\\extraFiles\\Training\\Yael Hagai\\Yael636771059544754823Spontan.csv\")\n",
    "Yael_sync = pd.read_csv(r\"C:\\Users\\yuval\\Hand Positions\\extraFiles\\Training\\Yael Hagai\\Yael636771060699529085Sync.csv\")\n",
    "Yael_alone = pd.read_csv(r\"C:\\Users\\yuval\\Hand Positions\\extraFiles\\Training\\Yael Hagai\\Yael636771061659067649Alone.csv\")\n",
    "\n",
    "Yoel_spontan = pd.read_csv(r\"C:\\Users\\yuval\\Hand Positions\\extraFiles\\Training\\Yoel Raz\\Yoel636760918326775654Spontan.csv\")\n",
    "Yoel_spontan = pd.read_csv(r\"C:\\Users\\yuval\\Hand Positions\\extraFiles\\Training\\Yoel Raz\\Yoel636760921663075813Spontan.csv\")\n",
    "Yoel_sync = pd.read_csv(r\"C:\\Users\\yuval\\Hand Positions\\extraFiles\\Training\\Yoel Raz\\Yoel636760920526441748Sync.csv\")\n",
    "Yoel_sync = pd.read_csv(r\"C:\\Users\\yuval\\Hand Positions\\extraFiles\\Training\\Yoel Raz\\Yoel636760923490742912Sync.csv\")\n",
    "Yoel_alone = pd.read_csv(r\"C:\\Users\\yuval\\Hand Positions\\extraFiles\\Training\\Yoel Raz\\Yoel636760919215510154Alone.csv\")\n",
    "Yoel_alone = pd.read_csv(r\"C:\\Users\\yuval\\Hand Positions\\extraFiles\\Training\\Yoel Raz\\Yoel636760922573364655Alone.csv\")\n",
    "\n",
    "\n",
    "\n"
   ]
  },
  {
   "cell_type": "markdown",
   "metadata": {},
   "source": [
    "## Presenting an image for exampleHHHHHHHHHHHHHHHHHHHHHHHHHHHHHHH"
   ]
  },
  {
   "cell_type": "code",
   "execution_count": null,
   "metadata": {},
   "outputs": [],
   "source": []
  },
  {
   "cell_type": "markdown",
   "metadata": {},
   "source": [
    "# Data cleaning\n",
    "## <b>know and organize the dataset</b>"
   ]
  },
  {
   "cell_type": "code",
   "execution_count": null,
   "metadata": {},
   "outputs": [],
   "source": [
    "# check the shape of the DataFrame (rows, columns)\n",
    "data.shape "
   ]
  },
  {
   "cell_type": "markdown",
   "metadata": {},
   "source": [
    "**Explanation about the columns and rows:**<br>HHHHHHHHHHHHHHHHHHHHHHH\n",
    "\n",
    "**What are the features?**<br>\n",
    "60000 rows- every row represent list of pixels in the image.<br>\n",
    "The first row of pixels in the image is the first 28 cells in a row in the df, the next 28 cells are the seconed row of pixels in the image, etc. .<br>\n",
    "784 columns of pixels- After I set a uniform size for all the images, the size is 28*28, therefore there are 784 rows, plus 1 row .\n",
    "\n",
    "\n",
    "**What is the response?**<br>\n",
    "label-What item of clothing is this from the list I have written above (in range of 1-9).<br>"
   ]
  },
  {
   "cell_type": "markdown",
   "metadata": {},
   "source": [
    "## <b>Duplicate Values</b>\n",
    "\n",
    "If there are duplicate values- means that specific image appear few times, therefore I would like to delete them."
   ]
  },
  {
   "cell_type": "code",
   "execution_count": null,
   "metadata": {},
   "outputs": [],
   "source": [
    "data=data.drop_duplicates()#By default, it removes duplicate rows based on all columns.\n",
    "\n",
    "data.shape"
   ]
  },
  {
   "cell_type": "markdown",
   "metadata": {},
   "source": [
    "**Conclusion**"
   ]
  },
  {
   "cell_type": "code",
   "execution_count": null,
   "metadata": {},
   "outputs": [],
   "source": [
    "#There were 60000 rows and now there are 59957 means we deleted 60000-59957=43 duplicate rows, we will write it at precentage:\n",
    "print (\"Percent of duplicate images I deleted:\", (43*100)/60000,\"%\")"
   ]
  },
  {
   "cell_type": "code",
   "execution_count": null,
   "metadata": {},
   "outputs": [],
   "source": [
    "## <b>Invalid images</b>\n",
    "\n",
    "If there are invalid images such as black images or white images etc - therefore there will be same pixel value in all the row of the specific image, so I want to delete it.<br>\n",
    "In addition, If there are images with missing pixels, I would like to delete it too.<br>\n",
    "Examples for invalid images:"
   ]
  },
  {
   "cell_type": "code",
   "execution_count": null,
   "metadata": {},
   "outputs": [],
   "source": []
  }
 ],
 "metadata": {
  "kernelspec": {
   "display_name": "Python 3",
   "language": "python",
   "name": "python3"
  },
  "language_info": {
   "codemirror_mode": {
    "name": "ipython",
    "version": 3
   },
   "file_extension": ".py",
   "mimetype": "text/x-python",
   "name": "python",
   "nbconvert_exporter": "python",
   "pygments_lexer": "ipython3",
   "version": "3.8.3"
  }
 },
 "nbformat": 4,
 "nbformat_minor": 4
}
